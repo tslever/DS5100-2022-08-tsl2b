{
 "cells": [
  {
   "cell_type": "markdown",
   "metadata": {},
   "source": [
    "# hw05\n",
    "\n",
    "## Metadata\n",
    "\n",
    "```{yaml}\n",
    "Name:    hw05\n",
    "URL:     https://github.com/tslever/DS5100-2022-08-tsl2b/blob/main/lessons/M05/hw05.ipynb\n",
    "Course:  DS 5100\n",
    "Term:    Fall 2022 Online\n",
    "Module:  M05: numpy\n",
    "Topic:   Capital Asset Pricing Model (CAPM)\n",
    "Author:  Tom Lever\n",
    "Net ID:  tsl2b\n",
    "Created: 20 September 2022\n",
    "Updated: 21 September 2022\n",
    "```"
   ]
  },
  {
   "cell_type": "markdown",
   "metadata": {},
   "source": [
    "## Overview\n",
    "\n",
    "In finance, a capital asset pricing model (CAPM) is a single-factor regression model used to explain and predict excess returns for a stock $i$.\n",
    "\n",
    "There are better, more accurate models, but a CAPM has its uses.\n",
    "\n",
    "For example, the market beta $\\beta_i$ is a parameter of a CAPM.\n",
    "\n",
    "Here is the formula for calculating the expected excess return for stock $i$.\n",
    "\n",
    "$$E\\left[R_i\\right] - R_f = \\beta_i \\left(E\\left[R_m\\right] - R_f\\right)$$\n",
    "\n",
    "where\n",
    "\n",
    "* $E\\left[R_i\\right]$ is the expected excess return of stock $i$\n",
    "* $R_f$ is the risk-free treasury rate\n",
    "* $\\beta_i$ is the market beta of stock $i$\n",
    "* $E\\left[R_m\\right] - R_f$ is the market-risk premium\n",
    "\n",
    "\n",
    "## Setting Up\n",
    "\n",
    "Import [numpy](https://numpy.org/doc/stable/)."
   ]
  },
  {
   "cell_type": "code",
   "execution_count": 1,
   "metadata": {},
   "outputs": [],
   "source": [
    "import numpy as np"
   ]
  },
  {
   "cell_type": "markdown",
   "metadata": {},
   "source": [
    "Define Risk-free treasury rate."
   ]
  },
  {
   "cell_type": "code",
   "execution_count": 1,
   "metadata": {},
   "outputs": [],
   "source": [
    "R_f: float = 0.0175 / 252.0"
   ]
  },
  {
   "cell_type": "markdown",
   "metadata": {},
   "source": [
    "## Preparing the Data\n",
    "\n",
    "We import CAPM market data and convert the data into usable numpy arrays.\n",
    "\n",
    "### Read in the Market Data\n",
    "\n",
    "The values are closing prices, adjusted for splits and dividends.\n",
    "\n",
    "The prefixes of the second two columns are based on the following codes:\n",
    "\n",
    "* SPY is an Exchange-Traded Fund (ETF) for the S&P 500, a stock market index tracking the stock performance of 500 large companies listed on exchanges in the United States.\n",
    "* AAPL stands for Apple."
   ]
  },
  {
   "cell_type": "code",
   "execution_count": 3,
   "metadata": {},
   "outputs": [
    {
     "name": "stdout",
     "output_type": "stream",
     "text": [
      "<class 'list'>\n"
     ]
    }
   ],
   "source": [
    "import os\n",
    "path: str = None\n",
    "if os.name == 'posix':\n",
    "    path = \"~/Documents/DS5100-2022-08-O/lessons/M05_NumPy/HW/capm_market_data.csv\"\n",
    "elif os.name == 'nt':\n",
    "    path = os.environ['USERPROFILE'] + \"/Documents/DS5100-2022-08-O/lessons/M05_NumPy/HW/capm_market_data.csv\"\n",
    "list_of_file_lines: list[str] = None\n",
    "with open(path, 'r') as file:\n",
    "    list_of_file_lines = file.readlines()\n",
    "print(type(list_of_file_lines))"
   ]
  },
  {
   "cell_type": "markdown",
   "metadata": {},
   "source": [
    "### Create numpy Array of Column Names"
   ]
  },
  {
   "cell_type": "code",
   "execution_count": 4,
   "metadata": {},
   "outputs": [
    {
     "name": "stdout",
     "output_type": "stream",
     "text": [
      "Requirement already satisfied: nptyping in c:\\users\\tom\\anaconda3\\lib\\site-packages (2.3.1)\n",
      "Requirement already satisfied: typing-extensions<5.0.0,>=4.0.0 in c:\\users\\tom\\anaconda3\\lib\\site-packages (from nptyping) (4.1.1)\n",
      "Requirement already satisfied: numpy<2.0.0,>=1.20.0 in c:\\users\\tom\\appdata\\roaming\\python\\python39\\site-packages (from nptyping) (1.21.4)\n"
     ]
    }
   ],
   "source": [
    "!pip install nptyping"
   ]
  },
  {
   "cell_type": "code",
   "execution_count": 5,
   "metadata": {},
   "outputs": [
    {
     "name": "stdout",
     "output_type": "stream",
     "text": [
      "['date' 'spy_adj_close' 'aapl_adj_close']\n"
     ]
    }
   ],
   "source": [
    "from nptyping import Float64, NDArray, Shape, String\n",
    "list_of_column_names: list[str] = list_of_file_lines[0].strip().split(',')\n",
    "numpy_array_of_column_names: NDArray[Shape['3'], String] = np.array(list_of_column_names)\n",
    "print(numpy_array_of_column_names)"
   ]
  },
  {
   "cell_type": "markdown",
   "metadata": {},
   "source": [
    "### Create numpy Arrays of Dates and Returns"
   ]
  },
  {
   "cell_type": "code",
   "execution_count": 6,
   "metadata": {},
   "outputs": [
    {
     "name": "stdout",
     "output_type": "stream",
     "text": [
      "135\n",
      "['2020-01-02' '2020-01-03' '2020-01-06']\n",
      "[[321.55578613 298.82995605]\n",
      " [319.12091064 295.92471313]\n",
      " [320.33837891 298.28271484]]\n"
     ]
    }
   ],
   "source": [
    "list_of_data_lines: list[str] = [line.strip().split(',') for line in list_of_file_lines[1:]]\n",
    "print(len(list_of_data_lines))\n",
    "numpy_array_of_data: NDArray[Shape['135, 3'], String] = np.array(list_of_data_lines)\n",
    "numpy_array_of_dates: NDArray[Shape['135'], String] = numpy_array_of_data[:, 0]\n",
    "numpy_array_of_returns: NDArray[Shape['135, 2'], Float64] = numpy_array_of_data[:, 1:3].astype('float')\n",
    "print(numpy_array_of_dates[0:3])\n",
    "print(numpy_array_of_returns[0:3, :])"
   ]
  },
  {
   "cell_type": "markdown",
   "metadata": {},
   "source": [
    "## Tasks\n",
    "\n",
    "### Task 1\n",
    "\n",
    "(1 point)\n",
    "\n",
    "Print the first 5 rows of the numpy array of returns."
   ]
  },
  {
   "cell_type": "code",
   "execution_count": 7,
   "metadata": {},
   "outputs": [
    {
     "name": "stdout",
     "output_type": "stream",
     "text": [
      "[[321.55578613 298.82995605]\n",
      " [319.12091064 295.92471313]\n",
      " [320.33837891 298.28271484]\n",
      " [319.43765259 296.87988281]\n",
      " [321.1401062  301.6555481 ]]\n"
     ]
    }
   ],
   "source": [
    "print(numpy_array_of_returns[0:5, :])"
   ]
  },
  {
   "cell_type": "markdown",
   "metadata": {},
   "source": [
    "### Task 2\n",
    "\n",
    "(1 point)\n",
    "\n",
    "Print the first five values from the SPY column in the numpy array of returns.\n",
    "\n",
    "Then do the same for the AAPL column.\n",
    "\n",
    "Use one cell for each operation."
   ]
  },
  {
   "cell_type": "code",
   "execution_count": 8,
   "metadata": {},
   "outputs": [
    {
     "name": "stdout",
     "output_type": "stream",
     "text": [
      "321.555786132812\n",
      "319.120910644531\n",
      "320.33837890625\n",
      "319.437652587891\n",
      "321.140106201172\n"
     ]
    }
   ],
   "source": [
    "numpy_array_of_stock_names: NDArray[Shape['2'], String] = numpy_array_of_column_names[np.where(numpy_array_of_column_names != 'date')]\n",
    "index_of_SPY_column: int = numpy_array_of_stock_names.tolist().index('spy_adj_close')\n",
    "SPY_returns: NDArray[Shape['135'], Float64] = numpy_array_of_returns[:, index_of_SPY_column]\n",
    "_ = [print(return_) for return_ in SPY_returns[0:5].tolist()]"
   ]
  },
  {
   "cell_type": "code",
   "execution_count": 9,
   "metadata": {},
   "outputs": [
    {
     "name": "stdout",
     "output_type": "stream",
     "text": [
      "298.829956054687\n",
      "295.924713134766\n",
      "298.28271484375\n",
      "296.8798828125\n",
      "301.655548095703\n"
     ]
    }
   ],
   "source": [
    "index_of_AAPL_column: int = numpy_array_of_stock_names.tolist().index('aapl_adj_close')\n",
    "AAPL_returns: NDArray[Shape['135'], Float64] = numpy_array_of_returns[:, index_of_AAPL_column]\n",
    "_ = [print(return_) for return_ in AAPL_returns[0:5].tolist()]"
   ]
  },
  {
   "cell_type": "markdown",
   "metadata": {},
   "source": [
    "### Task 3\n",
    "\n",
    "(1 point)\n",
    "\n",
    "Compute the excess returns by subtracting the constant $R_f$ from the numpy array of returns.\n",
    "\n",
    "Save the results as a two-dimensional numpy array named EXCESS.\n",
    "\n",
    "Print the last five rows from EXCESS."
   ]
  },
  {
   "cell_type": "code",
   "execution_count": 10,
   "metadata": {},
   "outputs": [
    {
     "name": "stdout",
     "output_type": "stream",
     "text": [
      "[[314.37993544 383.00994032]\n",
      " [317.58992689 383.67992323]\n",
      " [314.83992689 381.90993422]\n",
      " [318.91994398 388.22994154]\n",
      " [321.84993666 390.89992445]]\n"
     ]
    }
   ],
   "source": [
    "EXCESS = numpy_array_of_returns - R_f\n",
    "print(EXCESS[-5:, :])"
   ]
  },
  {
   "cell_type": "markdown",
   "metadata": {},
   "source": [
    "### Task 4 \n",
    "\n",
    "(1 point)\n",
    "\n",
    "Make a simple [scatterplot using Matplotlib](https://matplotlib.org/stable/api/_as_gen/matplotlib.pyplot.scatter.html) with SPY excess returns on the x-axis, and AAPL excess returns on the y-axis.\n",
    "\n",
    "Hint: Use the following code:\n",
    "\n",
    "```python\n",
    "from matplotlib.pyplot import scatter\n",
    "\n",
    "scatter(<x>, <y>)\n",
    "```\n",
    "Replace `<x>` and `<y>` with the appropriate vectors.\n",
    "\n",
    "You may want to save the vectors for the SPY and AAPL columns as `x` and `y` respectively. This will make it visually easier to perform Task 6."
   ]
  },
  {
   "cell_type": "code",
   "execution_count": 11,
   "metadata": {},
   "outputs": [
    {
     "data": {
      "image/png": "[encoded data removed]",
      "text/plain": [
       "<Figure size 432x288 with 1 Axes>"
      ]
     },
     "metadata": {
      "needs_background": "light"
     },
     "output_type": "display_data"
    }
   ],
   "source": [
    "SPY_excess_returns: NDArray[Shape['135'], Float64] = EXCESS[:, index_of_SPY_column]\n",
    "AAPL_excess_returns: NDArray[Shape['135'], Float64] = EXCESS[:, index_of_AAPL_column]\n",
    "from matplotlib import pyplot as plt\n",
    "plt.scatter(SPY_excess_returns, AAPL_excess_returns)\n",
    "plt.title(\"AAPL Excess Returns vs. SPY Excess Returns\")\n",
    "plt.xlabel(\"SPY Excess Returns ($)\")\n",
    "plt.ylabel(\"AAPL Excess Returns ($)\")\n",
    "plt.show()"
   ]
  },
  {
   "cell_type": "markdown",
   "metadata": {},
   "source": [
    "### Taks 5 \n",
    "\n",
    "(3 points)\n",
    "\n",
    "Use the **normal equation**, listed below, to compute the Regression Coefficient Estimate of the data plotted above, $\\hat\\beta_i$.\n",
    "\n",
    "Note that $x^T$ denotes the transpose of $x$.\n",
    "\n",
    "$\\begin{aligned} \\hat\\beta_i=(x^Tx)^{−1}x^Ty \\end{aligned}$ \n",
    "\n",
    "Use the Numpy functions for matrix to do this &mdash; multiplication, transpose, and inverse. \n",
    "\n",
    "Note, however, that since $x$ in this case a single column matrix, i.e. a vector, the result of $x'x$ will be a scalar, which is not invertible. So you can just invert the result by division, i.e. \n",
    "\n",
    "$\\hat\\beta_i = \\large\\frac{1}{x^Tx} \\small(x^Ty)$\n",
    "\n",
    "Be sure to review what these operations do, and how they work, if you're a bit rusty."
   ]
  },
  {
   "cell_type": "code",
   "execution_count": 12,
   "metadata": {},
   "outputs": [
    {
     "data": {
      "text/plain": [
       "1.029980294240815"
      ]
     },
     "execution_count": 12,
     "metadata": {},
     "output_type": "execute_result"
    }
   ],
   "source": [
    "def calculate_regression_coefficient_estimate(x: NDArray[Shape['135'], Float64], y: NDArray[Shape['135'], Float64]) -> float:\n",
    "    regression_coefficient_estimate = 1 / np.matmul(np.transpose(x), x) * np.matmul(np.transpose(x), y)\n",
    "    return regression_coefficient_estimate\n",
    "\n",
    "calculate_regression_coefficient_estimate(SPY_excess_returns, AAPL_excess_returns)"
   ]
  },
  {
   "cell_type": "markdown",
   "metadata": {},
   "source": [
    "### Task 6\n",
    "\n",
    "(3 points)\n",
    "\n",
    "**Measuring Beta Sensitivity to Dropping Observations (Jackknifing)**\n",
    "\n",
    "Let's understand how sensitive the market beta is to each data point.   \n",
    "We want to drop each data point (one at a time), compute $\\hat\\beta_i$ using our formula from above, and save each measurement.\n",
    "\n",
    "Write a function called `beta_sensitivity()` with these specs:\n",
    "\n",
    "- Take numpy arrays x and y as inputs.\n",
    "- For each observation i, compute the beta without the current observation. You can use a `lambda` function for this.\n",
    "- Return a list of tuples each containing the observation row dropped and the beta estimate, i.e. something like `(i, beta_est)`, depending how you've named your variables.\n",
    "\n",
    "Hint: `np.delete(x, i)` will delete observation i from array x.\n",
    "\n",
    "Call `beta_sensitivity()` and print the first five tuples of output."
   ]
  },
  {
   "cell_type": "code",
   "execution_count": 13,
   "metadata": {},
   "outputs": [],
   "source": [
    "def beta_sensitivity(x: NDArray[Shape['135'], Float64], y: NDArray[Shape['135'], Float64]) -> list[tuple[int, float]]:\n",
    "    indices_of_removed_observation_and_redacted_market_beta_estimates: list[tuple[int, float]] = []\n",
    "    for index_of_removed_observation in range(0, len(x)):\n",
    "        redacted_x: NDArray[Shape['134'], Float64] = np.delete(x, index_of_removed_observation)\n",
    "        redacted_y: NDArray[Shape['134'], Float64] = np.delete(y, index_of_removed_observation)\n",
    "        redacted_market_beta_estimate: float = calculate_regression_coefficient_estimate(redacted_x, redacted_y)\n",
    "        index_of_removed_observation_and_redacted_market_beta_estimate: tuple[int, float] = (index_of_removed_observation, redacted_market_beta_estimate)\n",
    "        indices_of_removed_observation_and_redacted_market_beta_estimates.append(index_of_removed_observation_and_redacted_market_beta_estimate)\n",
    "    return indices_of_removed_observation_and_redacted_market_beta_estimates"
   ]
  },
  {
   "cell_type": "code",
   "execution_count": 14,
   "metadata": {},
   "outputs": [
    {
     "name": "stdout",
     "output_type": "stream",
     "text": [
      "[(0, 1.030847730172396), (1, 1.0308516176393125), (2, 1.0308255236222597), (3, 1.0308357542837525), (4, 1.030759501843587)]\n"
     ]
    }
   ],
   "source": [
    "indices_of_removed_observations_and_market_beta_estimates: 'np.ndarray[tuple[int], np.dtype[float]]' = beta_sensitivity(SPY_excess_returns, AAPL_excess_returns)\n",
    "print(indices_of_removed_observations_and_market_beta_estimates[0:5])"
   ]
  },
  {
   "cell_type": "code",
   "execution_count": null,
   "metadata": {},
   "outputs": [],
   "source": []
  }
 ],
 "metadata": {
  "kernelspec": {
   "display_name": "Python 3 (ipykernel)",
   "language": "python",
   "name": "python3"
  },
  "language_info": {
   "codemirror_mode": {
    "name": "ipython",
    "version": 3
   },
   "file_extension": ".py",
   "mimetype": "text/x-python",
   "name": "python",
   "nbconvert_exporter": "python",
   "pygments_lexer": "ipython3",
   "version": "3.9.12"
  }
 },
 "nbformat": 4,
 "nbformat_minor": 4
}
