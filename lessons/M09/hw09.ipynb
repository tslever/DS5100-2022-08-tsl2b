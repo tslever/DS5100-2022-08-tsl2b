{
 "cells": [
  {
   "cell_type": "markdown",
   "metadata": {},
   "source": [
    "# hw09\n",
    "\n",
    "## Metadata\n",
    "\n",
    "```{yaml}\n",
    "Name:    hw09\n",
    "URL:     https://github.com/tslever/DS5100-2022-08-tsl2b/blob/main/lessons/M09/hw09.ipynb\n",
    "Course:  DS 5100\n",
    "Term:    Fall 2022 Online\n",
    "Module:  M09: Python Packages\n",
    "Topic:   Package BookLover\n",
    "Author:  Tom Lever\n",
    "Net ID:  tsl2b\n",
    "Created: 26 October 2022\n",
    "Updated: 26 October 2022\n",
    "```"
   ]
  },
  {
   "cell_type": "markdown",
   "metadata": {},
   "source": [
    "# Overview\n",
    "\n",
    "Follow the following recipe we used in class to package the code you wrote for `HW08` -- `booklover.py` and `booklover_test.py`.\n",
    "\n",
    "* Create a new git repo for your package.\n",
    "* Create and edit the required files and directories for your package and move the booklover modules there.\n",
    "* Stage, commit, and push all the files you've created.\n",
    "* Install your package with pip.\n",
    "* Outside of your package dir, write a script to test your method.\n",
    "\n",
    "Put this notebook in your repo. This will allow you to execute bash commands and capture the outpunt directly in the notebook.\n",
    "\n",
    "**TOTAL: 8 POINTS**"
   ]
  },
  {
   "cell_type": "markdown",
   "metadata": {},
   "source": [
    "# Tasks"
   ]
  },
  {
   "cell_type": "markdown",
   "metadata": {},
   "source": [
    "## Task 1\n",
    "\n",
    "(5 points)\n",
    "\n",
    "Show the directory structure of your repo by running `!ls -lR` from the root of your repo:"
   ]
  },
  {
   "cell_type": "code",
   "execution_count": 1,
   "metadata": {},
   "outputs": [
    {
     "name": "stdout",
     "output_type": "stream",
     "text": [
      "/home/tsl2b/Documents/booklover:\n",
      "total 32\n",
      "drwxr-sr-x 3 tsl2b users 2048 Oct 26 05:30 booklover\n",
      "drwxr-sr-x 2 tsl2b users 2560 Oct 26 05:30 booklover.egg-info\n",
      "-rw-r--r-- 1 tsl2b users   38 Oct 26 05:28 CHANGES.txt\n",
      "-rw-r--r-- 1 tsl2b users 1066 Oct 26 05:28 LICENSE\n",
      "-rw-r--r-- 1 tsl2b users    1 Oct 26 05:28 MANIFEST.in\n",
      "-rw-r--r-- 1 tsl2b users  974 Oct 26 05:28 README.md\n",
      "-rw-r--r-- 1 tsl2b users  663 Oct 26 05:28 setup.py\n",
      "drwxr-sr-x 2 tsl2b users  512 Oct 26 05:28 test_modules\n",
      "\n",
      "/home/tsl2b/Documents/booklover/booklover:\n",
      "total 24\n",
      "-rw-r--r-- 1 tsl2b users  121 Oct 26 05:28 BookAlreadyExistsInBookListException.py\n",
      "-rw-r--r-- 1 tsl2b users 6619 Oct 26 05:28 booklover.py\n",
      "-rw-r--r-- 1 tsl2b users    0 Oct 26 05:28 __init__.py\n",
      "drwxr-sr-x 2 tsl2b users 1536 Oct 26 05:30 __pycache__\n",
      "\n",
      "/home/tsl2b/Documents/booklover/booklover/__pycache__:\n",
      "total 20\n",
      "-rw-r--r-- 1 tsl2b users  581 Oct 26 05:30 BookAlreadyExistsInBookListException.cpython-38.pyc\n",
      "-rw-r--r-- 1 tsl2b users 6469 Oct 26 05:30 booklover.cpython-38.pyc\n",
      "-rw-r--r-- 1 tsl2b users  156 Oct 26 05:30 __init__.cpython-38.pyc\n",
      "\n",
      "/home/tsl2b/Documents/booklover/booklover.egg-info:\n",
      "total 24\n",
      "-rw-r--r-- 1 tsl2b users    1 Oct 26 05:30 dependency_links.txt\n",
      "-rw-r--r-- 1 tsl2b users 1677 Oct 26 05:30 PKG-INFO\n",
      "-rw-r--r-- 1 tsl2b users   14 Oct 26 05:30 requires.txt\n",
      "-rw-r--r-- 1 tsl2b users  289 Oct 26 05:30 SOURCES.txt\n",
      "-rw-r--r-- 1 tsl2b users   10 Oct 26 05:30 top_level.txt\n",
      "\n",
      "/home/tsl2b/Documents/booklover/test_modules:\n",
      "total 16\n",
      "-rw-r--r-- 1 tsl2b users 8662 Oct 26 05:28 booklover_test.py\n"
     ]
    }
   ],
   "source": [
    "from platform import system\n",
    "if system() == 'Linux':\n",
    "    !ls -lR ~/Documents/booklover\n",
    "elif system() == 'Windows':\n",
    "    !dir /s %USERPROFILE%\\Documents\\booklover"
   ]
  },
  {
   "cell_type": "markdown",
   "metadata": {},
   "source": [
    "## Task 2\n",
    "\n",
    "(1 point)\n",
    "\n",
    "Put the URL of your GitHub repo here. Just paste it into a Markdown cell."
   ]
  },
  {
   "cell_type": "markdown",
   "metadata": {},
   "source": [
    "https://github.com/tslever/booklover"
   ]
  },
  {
   "cell_type": "markdown",
   "metadata": {},
   "source": [
    "## Task 3\n",
    "\n",
    "(1 point)\n",
    "\n",
    "Show the results of installing your package.\n",
    "\n",
    "```bash\n",
    "!pip install -e .\n",
    "```"
   ]
  },
  {
   "cell_type": "code",
   "execution_count": 2,
   "metadata": {},
   "outputs": [
    {
     "name": "stdout",
     "output_type": "stream",
     "text": [
      "Defaulting to user installation because normal site-packages is not writeable\n",
      "Obtaining file:///home/tsl2b/Documents/booklover\n",
      "Requirement already satisfied: pandas>=1.5.1 in /sfs/qumulo/qhome/tsl2b/.local/lib/python3.8/site-packages (from booklover==0.1.0) (1.5.1)\n",
      "Requirement already satisfied: python-dateutil>=2.8.1 in /sfs/applications/202206/software/standard/compiler/gcc/9.2.0/jupyter_conda/2020.11-py3.8/lib/python3.8/site-packages (from pandas>=1.5.1->booklover==0.1.0) (2.8.1)\n",
      "Requirement already satisfied: pytz>=2020.1 in /sfs/applications/202206/software/standard/compiler/gcc/9.2.0/jupyter_conda/2020.11-py3.8/lib/python3.8/site-packages (from pandas>=1.5.1->booklover==0.1.0) (2020.1)\n",
      "Requirement already satisfied: numpy>=1.20.3; python_version < \"3.10\" in /sfs/qumulo/qhome/tsl2b/.local/lib/python3.8/site-packages (from pandas>=1.5.1->booklover==0.1.0) (1.23.4)\n",
      "Requirement already satisfied: six>=1.5 in /sfs/applications/202206/software/standard/compiler/gcc/9.2.0/jupyter_conda/2020.11-py3.8/lib/python3.8/site-packages (from python-dateutil>=2.8.1->pandas>=1.5.1->booklover==0.1.0) (1.15.0)\n",
      "Installing collected packages: booklover\n",
      "  Attempting uninstall: booklover\n",
      "    Found existing installation: booklover 0.1.0\n",
      "    Uninstalling booklover-0.1.0:\n",
      "      Successfully uninstalled booklover-0.1.0\n",
      "  Running setup.py develop for booklover\n",
      "Successfully installed booklover\n"
     ]
    }
   ],
   "source": [
    "from platform import system\n",
    "if system() == 'Linux':\n",
    "    !pip install -e ~/Documents/booklover\n",
    "elif system() == 'Windows':\n",
    "    !pip install -e %USERPROFILE%/Documents/booklover"
   ]
  },
  {
   "cell_type": "markdown",
   "metadata": {},
   "source": [
    "## Task 4\n",
    "\n",
    "(1 point)\n",
    "\n",
    "Create a file outside your repo to test your package by running it.\n",
    "\n",
    "To do this, import the package into your file and create a BookLover object.\n",
    "\n",
    "Then add a book and then print number books read.\n",
    "\n",
    "Then run the file. \n",
    "\n",
    "Show the output of running the file below, using a command like the following:\n",
    "\n",
    "```bash\n",
    "!python ../book_lover_demo.py\n",
    "```"
   ]
  },
  {
   "cell_type": "code",
   "execution_count": 3,
   "metadata": {},
   "outputs": [
    {
     "name": "stdout",
     "output_type": "stream",
     "text": [
      "1\n"
     ]
    }
   ],
   "source": [
    "!python CreateBookLover.py"
   ]
  },
  {
   "cell_type": "code",
   "execution_count": null,
   "metadata": {},
   "outputs": [],
   "source": []
  }
 ],
 "metadata": {
  "kernelspec": {
   "display_name": "Python 3",
   "language": "python",
   "name": "python3"
  },
  "language_info": {
   "codemirror_mode": {
    "name": "ipython",
    "version": 3
   },
   "file_extension": ".py",
   "mimetype": "text/x-python",
   "name": "python",
   "nbconvert_exporter": "python",
   "pygments_lexer": "ipython3",
   "version": "3.8.8"
  }
 },
 "nbformat": 4,
 "nbformat_minor": 4
}
