{
 "cells": [
  {
   "cell_type": "code",
   "execution_count": 2,
   "id": "fe02ae28",
   "metadata": {},
   "outputs": [
    {
     "name": "stdout",
     "output_type": "stream",
     "text": [
      "message\n"
     ]
    }
   ],
   "source": [
    "try:\n",
    "    raise Exception(\"message\")\n",
    "except Exception as e:\n",
    "    print(e)"
   ]
  },
  {
   "cell_type": "code",
   "execution_count": 4,
   "id": "39691db9",
   "metadata": {},
   "outputs": [
    {
     "name": "stdout",
     "output_type": "stream",
     "text": [
      "caught an exception! division by zero\n"
     ]
    }
   ],
   "source": [
    "x =  5\n",
    "y = 0\n",
    "try:\n",
    "    z = x / y\n",
    "    print('z = ', z)\n",
    "except ZeroDivisionError as e:\n",
    "    print('caught an exception!', e)"
   ]
  },
  {
   "cell_type": "code",
   "execution_count": 5,
   "id": "8f7f3f3d",
   "metadata": {},
   "outputs": [],
   "source": [
    "assert 'a' == 'a', 'failure'"
   ]
  },
  {
   "cell_type": "code",
   "execution_count": 6,
   "id": "e3c0e8aa",
   "metadata": {},
   "outputs": [
    {
     "ename": "AssertionError",
     "evalue": "failure",
     "output_type": "error",
     "traceback": [
      "\u001b[1;31m---------------------------------------------------------------------------\u001b[0m",
      "\u001b[1;31mAssertionError\u001b[0m                            Traceback (most recent call last)",
      "Input \u001b[1;32mIn [6]\u001b[0m, in \u001b[0;36m<cell line: 1>\u001b[1;34m()\u001b[0m\n\u001b[1;32m----> 1\u001b[0m \u001b[38;5;28;01massert\u001b[39;00m \u001b[38;5;124m'\u001b[39m\u001b[38;5;124ma\u001b[39m\u001b[38;5;124m'\u001b[39m \u001b[38;5;241m==\u001b[39m \u001b[38;5;124m'\u001b[39m\u001b[38;5;124mb\u001b[39m\u001b[38;5;124m'\u001b[39m, \u001b[38;5;124m'\u001b[39m\u001b[38;5;124mfailure\u001b[39m\u001b[38;5;124m'\u001b[39m\n",
      "\u001b[1;31mAssertionError\u001b[0m: failure"
     ]
    }
   ],
   "source": [
    "assert 'a' == 'b', 'failure'"
   ]
  },
  {
   "cell_type": "code",
   "execution_count": 7,
   "id": "4f7c9d81",
   "metadata": {},
   "outputs": [
    {
     "ename": "AssertionError",
     "evalue": "x should be True!",
     "output_type": "error",
     "traceback": [
      "\u001b[1;31m---------------------------------------------------------------------------\u001b[0m",
      "\u001b[1;31mAssertionError\u001b[0m                            Traceback (most recent call last)",
      "Input \u001b[1;32mIn [7]\u001b[0m, in \u001b[0;36m<cell line: 4>\u001b[1;34m()\u001b[0m\n\u001b[0;32m      2\u001b[0m \u001b[38;5;28;01massert\u001b[39;00m x, \u001b[38;5;124m'\u001b[39m\u001b[38;5;124mx should be True!\u001b[39m\u001b[38;5;124m'\u001b[39m\n\u001b[0;32m      3\u001b[0m x \u001b[38;5;241m=\u001b[39m \u001b[38;5;28;01mFalse\u001b[39;00m\n\u001b[1;32m----> 4\u001b[0m \u001b[38;5;28;01massert\u001b[39;00m x, \u001b[38;5;124m'\u001b[39m\u001b[38;5;124mx should be True!\u001b[39m\u001b[38;5;124m'\u001b[39m\n",
      "\u001b[1;31mAssertionError\u001b[0m: x should be True!"
     ]
    }
   ],
   "source": [
    "x = True\n",
    "assert x, 'x should be True!'\n",
    "x = False\n",
    "assert x, 'x should be True!'"
   ]
  },
  {
   "cell_type": "code",
   "execution_count": 17,
   "id": "b9aea58f",
   "metadata": {},
   "outputs": [],
   "source": [
    "import math\n",
    "def area(radius):\n",
    "    return math.pi * radius**2\n",
    "\n",
    "assert isinstance(area(1), float), 'area should be float!'\n",
    "assert area(0) == 0, 'area(0) should be 0!'\n",
    "assert math.isclose(area(5), 78.5, abs_tol = 0.1), 'area(5) should be 78.5!'"
   ]
  },
  {
   "cell_type": "code",
   "execution_count": 20,
   "id": "e466e58b",
   "metadata": {},
   "outputs": [
    {
     "name": "stderr",
     "output_type": "stream",
     "text": [
      "test_1 (__main__.EnrollInTestCase) ... ok\n",
      "test_is_numCoursincremented_correctly (__main__.EnrollInTestCase) ... ok\n",
      "test_test (__main__.EnrollInTestCase) ... ok\n",
      "\n",
      "----------------------------------------------------------------------\n",
      "Ran 3 tests in 0.000s\n",
      "\n",
      "OK\n"
     ]
    }
   ],
   "source": [
    "# /dev/null with Posix OS\n",
    "!python student_test.py > NUL"
   ]
  },
  {
   "cell_type": "code",
   "execution_count": 26,
   "id": "a84ecba9",
   "metadata": {},
   "outputs": [
    {
     "name": "stderr",
     "output_type": "stream",
     "text": [
      "test_1 (__main__.EnrollInTestCase) ... ok\n",
      "test_is_numCoursincremented_correctly (__main__.EnrollInTestCase) ... ok\n",
      "test_test (__main__.EnrollInTestCase) ... ok\n",
      "\n",
      "----------------------------------------------------------------------\n",
      "Ran 3 tests in 0.000s\n",
      "\n",
      "OK\n"
     ]
    }
   ],
   "source": [
    "!python student_test.py 1> standard_output.txt"
   ]
  },
  {
   "cell_type": "code",
   "execution_count": 27,
   "id": "ae0ae66e",
   "metadata": {},
   "outputs": [
    {
     "name": "stdout",
     "output_type": "stream",
     "text": [
      "['DS 5100', 'CS 5050', 'CS 5777']\n",
      "3\n"
     ]
    }
   ],
   "source": [
    "!python student_test.py 2> standard_errors.txt"
   ]
  },
  {
   "cell_type": "code",
   "execution_count": null,
   "id": "005de5f7",
   "metadata": {},
   "outputs": [],
   "source": []
  }
 ],
 "metadata": {
  "kernelspec": {
   "display_name": "Python 3 (ipykernel)",
   "language": "python",
   "name": "python3"
  },
  "language_info": {
   "codemirror_mode": {
    "name": "ipython",
    "version": 3
   },
   "file_extension": ".py",
   "mimetype": "text/x-python",
   "name": "python",
   "nbconvert_exporter": "python",
   "pygments_lexer": "ipython3",
   "version": "3.9.12"
  }
 },
 "nbformat": 4,
 "nbformat_minor": 5
}
