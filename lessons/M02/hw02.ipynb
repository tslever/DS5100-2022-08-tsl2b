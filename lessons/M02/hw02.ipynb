{
 "cells": [
  {
   "cell_type": "markdown",
   "metadata": {},
   "source": [
    "# hw02\n",
    "\n",
    "## Metadata\n",
    "\n",
    "```{yaml}\n",
    "Name:    hw02\n",
    "URL:     https://github.com/tslever/DS5100-2022-08-tsl2b/blob/main/lessons/M02/hw02.ipynb\n",
    "Course:  DS 5100\n",
    "Term:    Fall 2022 Online\n",
    "Module:  M02\n",
    "Author:  Tom Lever\n",
    "Net ID:  tsl2b\n",
    "Created: 31 August 2022\n",
    "Updated: 31 August 2022\n",
    "```"
   ]
  },
  {
   "cell_type": "markdown",
   "metadata": {},
   "source": [
    "## Data\n",
    "\n",
    "```\n",
    "Table 1: GRADES\n",
    "\n",
    "name    grade\n",
    "Jon     95\n",
    "Mike    84\n",
    "Jaime   99\n",
    "\n",
    "\n",
    "Table 2: TOUCHDOWNS\n",
    "\n",
    "name    touchdowns\n",
    "Alex    2\n",
    "Patrick 4\n",
    "Tom     1\n",
    "Joe     3\n",
    "Alex    1\n",
    "```"
   ]
  },
  {
   "cell_type": "markdown",
   "metadata": {},
   "source": [
    "## Tasks"
   ]
  },
  {
   "cell_type": "markdown",
   "metadata": {},
   "source": [
    "### Task 1\n",
    "\n",
    "Using the data in Table 1, create a dictionary called `gradebook` where the keys contain the names and the values are the associated grades. Print the dictionary.  (1 PT) "
   ]
  },
  {
   "cell_type": "code",
   "execution_count": 1,
   "metadata": {},
   "outputs": [
    {
     "name": "stdout",
     "output_type": "stream",
     "text": [
      "\n",
      "C:\\Users\\Tom\\Documents\\DS5100-2022-08-tsl2b\\lessons\\M02>pip uninstall tomleverspythonpackage -y \n",
      "Found existing installation: tomleverspythonpackage 0.1.0\n",
      "Uninstalling tomleverspythonpackage-0.1.0:\n",
      "  Successfully uninstalled tomleverspythonpackage-0.1.0\n",
      "\n",
      "C:\\Users\\Tom\\Documents\\DS5100-2022-08-tsl2b\\lessons\\M02>pip install C:\\Users\\Tom/Documents/Tom_Levers_Git_Repository/tomleverspythonpackage \n",
      "Processing c:\\users\\tom\\documents\\tom_levers_git_repository\\tomleverspythonpackage\n",
      "Building wheels for collected packages: tomleverspythonpackage\n",
      "  Building wheel for tomleverspythonpackage (setup.py): started\n",
      "  Building wheel for tomleverspythonpackage (setup.py): finished with status 'done'\n",
      "  Created wheel for tomleverspythonpackage: filename=tomleverspythonpackage-0.1.0-py3-none-any.whl size=2963 sha256=d25f283106c9f3f6196c6a6a639a121f1f8bad473b4b8316e3ab5d43395fd7dc\n",
      "  Stored in directory: C:\\Users\\Tom\\AppData\\Local\\Temp\\pip-ephem-wheel-cache-2iz76pyb\\wheels\\d9\\ed\\26\\9b7957f5be7233af3b0ceffa91f1210e3b8a8e23dad36ba9ab\n",
      "Successfully built tomleverspythonpackage\n",
      "Installing collected packages: tomleverspythonpackage\n",
      "Successfully installed tomleverspythonpackage-0.1.0\n",
      "\n",
      "C:\\Users\\Tom\\Documents\\DS5100-2022-08-tsl2b\\lessons\\M02>pip show tomleverspythonpackage \n",
      "Name: tomleverspythonpackage\n",
      "Version: 0.1.0\n",
      "Summary: Contains Tom Lever's Python objects\n",
      "Home-page: https://github.com/tslever/tree/main/tomleverspythonpackage\n",
      "Author: Tom Lever\n",
      "Author-email: thomas.lever.business@gmail.com\n",
      "License: BSD 2-clause\n",
      "Location: c:\\users\\tom\\anaconda3\\lib\\site-packages\n",
      "Requires: \n",
      "Required-by: \n"
     ]
    },
    {
     "name": "stderr",
     "output_type": "stream",
     "text": [
      "  DEPRECATION: A future pip version will change local packages to be built in-place without first copying to a temporary directory. We recommend you use --use-feature=in-tree-build to test your packages with this new behavior before it becomes the default.\n",
      "   pip 21.3 will remove support for this functionality. You can find discussion regarding this at https://github.com/pypa/pip/issues/7555.\n"
     ]
    }
   ],
   "source": [
    "from platform import system\n",
    "if system() == 'Linux':\n",
    "    !~/Documents/Tom_Levers_Git_Repository/refresh_tomleverspythonpackage.sh\n",
    "elif system() == 'Windows':\n",
    "    !%USERPROFILE%/Documents/Tom_Levers_Git_Repository/refresh_tomleverspythonpackage.bat"
   ]
  },
  {
   "cell_type": "code",
   "execution_count": 2,
   "metadata": {},
   "outputs": [
    {
     "name": "stdout",
     "output_type": "stream",
     "text": [
      "<class 'dict'>\n",
      "{'Jon': 95, 'Mike': 84, 'Jaime': 99}\n"
     ]
    }
   ],
   "source": [
    "from tomleverspythonpackage.acsvfilereader import ACsvFileReader\n",
    "from agradebook import AGradeBook\n",
    "\n",
    "if __name__ == \"__main__\":\n",
    "\n",
    "    the_csv_file_reader = ACsvFileReader()\n",
    "    gradebook = the_csv_file_reader.reads_into_a_dictionary('GRADES.csv', str, int)\n",
    "    print(type(gradebook))\n",
    "    print(gradebook)"
   ]
  },
  {
   "cell_type": "markdown",
   "metadata": {},
   "source": [
    "## Task 2 \n",
    "\n",
    "Index into the gradebook to print Mike's grade. Do NOT use the `get()` method for this. (1 PT) "
   ]
  },
  {
   "cell_type": "code",
   "execution_count": 3,
   "metadata": {},
   "outputs": [
    {
     "name": "stdout",
     "output_type": "stream",
     "text": [
      "\n",
      "<class 'int'>\n",
      "84\n"
     ]
    }
   ],
   "source": [
    "if __name__ == \"__main__\": # continued\n",
    "\n",
    "    the_gradebook = AGradeBook(gradebook)\n",
    "    the_grade = the_gradebook.provides_a_grade_for('Mike')\n",
    "    print(type(the_grade))\n",
    "    print(the_grade)"
   ]
  },
  {
   "cell_type": "markdown",
   "metadata": {},
   "source": [
    "## Task 3\n",
    "\n",
    "Attempt to index into gradebook to print Jeff's grade. Show the result. Do NOT use the `get()` method for this. (1 PT) "
   ]
  },
  {
   "cell_type": "code",
   "execution_count": 4,
   "metadata": {},
   "outputs": [
    {
     "name": "stdout",
     "output_type": "stream",
     "text": [
      "<class 'ValueError'>\n",
      "'Jeff' is not in list\n"
     ]
    }
   ],
   "source": [
    "if __name__ == \"__main__\": # continued\n",
    "\n",
    "    try:\n",
    "        the_gradebook.provides_a_grade_for('Jeff')\n",
    "    except ValueError as e:\n",
    "        print(type(e))\n",
    "        print(e)"
   ]
  },
  {
   "cell_type": "markdown",
   "metadata": {},
   "source": [
    "## Task 4\n",
    "\n",
    "Using Table 2, build a list from the names called `names` and print it. (1 PT) "
   ]
  },
  {
   "cell_type": "code",
   "execution_count": 5,
   "metadata": {},
   "outputs": [
    {
     "name": "stdout",
     "output_type": "stream",
     "text": [
      "<class 'list'>\n",
      "['Alex', 'Patrick', 'Tom', 'Joe', 'Alex']\n"
     ]
    }
   ],
   "source": [
    "if __name__ == \"__main__\": # continued\n",
    "\n",
    "    names = ['Alex', 'Patrick', 'Tom', 'Joe', 'Alex']\n",
    "    print(type(names))\n",
    "    print(names)"
   ]
  },
  {
   "cell_type": "markdown",
   "metadata": {},
   "source": [
    "## Task 5\n",
    "\n",
    "Sort the list in ascending order and print it. (1 PT) "
   ]
  },
  {
   "cell_type": "code",
   "execution_count": 6,
   "metadata": {},
   "outputs": [
    {
     "name": "stdout",
     "output_type": "stream",
     "text": [
      "<class 'list'>\n",
      "['Alex', 'Alex', 'Joe', 'Patrick', 'Tom']\n"
     ]
    }
   ],
   "source": [
    "if __name__ == \"__main__\": # continued\n",
    "    \n",
    "    the_sorted_list = sorted(names)\n",
    "    print(type(the_sorted_list))\n",
    "    print(the_sorted_list)"
   ]
  },
  {
   "cell_type": "markdown",
   "metadata": {},
   "source": [
    "## Task 6 \n",
    "\n",
    "Build a set from the names in Table 2 and print it. (1 PT) "
   ]
  },
  {
   "cell_type": "code",
   "execution_count": 7,
   "metadata": {},
   "outputs": [
    {
     "name": "stdout",
     "output_type": "stream",
     "text": [
      "<class 'set'>\n",
      "{'Tom', 'Alex', 'Patrick', 'Joe'}\n"
     ]
    }
   ],
   "source": [
    "if __name__ == \"__main__\": # continued\n",
    "    \n",
    "    the_set_of_names = set(names)\n",
    "    print(type(the_set_of_names))\n",
    "    print(the_set_of_names)"
   ]
  },
  {
   "cell_type": "markdown",
   "metadata": {},
   "source": [
    "## Task 7\n",
    "\n",
    "Build a dictionary from the touchdowns data, calling it `td`, and print it. Use lists to store the values. Remember that dictionary keys must be unique. (1 PT) "
   ]
  },
  {
   "cell_type": "code",
   "execution_count": 8,
   "metadata": {},
   "outputs": [
    {
     "name": "stdout",
     "output_type": "stream",
     "text": [
      "<class 'dict'>\n",
      "{'Alex': [2, 1], 'Patrick': 4, 'Tom': 1, 'Joe': 3}\n"
     ]
    }
   ],
   "source": [
    "if __name__ == \"__main__\": # continued\n",
    "\n",
    "    td = the_csv_file_reader.reads_into_a_dictionary('TOUCHDOWNS.csv', str, int)\n",
    "    print(type(td))\n",
    "    print(td)"
   ]
  },
  {
   "cell_type": "markdown",
   "metadata": {},
   "source": [
    "## Task 8\n",
    "\n",
    "Compute the sum of Alex's touchdowns using the appropriate built-in function."
   ]
  },
  {
   "cell_type": "code",
   "execution_count": 9,
   "metadata": {},
   "outputs": [
    {
     "name": "stdout",
     "output_type": "stream",
     "text": [
      "<class 'int'>\n",
      "3\n"
     ]
    }
   ],
   "source": [
    "if __name__ == \"__main__\": # continued\n",
    "\n",
    "    the_sum = sum(td.get('Alex'))\n",
    "    print(type(the_sum))\n",
    "    print(the_sum)"
   ]
  },
  {
   "cell_type": "markdown",
   "metadata": {},
   "source": [
    "## Task 9\n",
    "\n",
    "Get the keys from `td` and save them as a sorted list `list1`. Then get a set from `names` and save them as a sorted list called `list2`. Compare them with a boolean operator to see if they are equal. (2 PTS)"
   ]
  },
  {
   "cell_type": "code",
   "execution_count": 10,
   "metadata": {},
   "outputs": [
    {
     "name": "stdout",
     "output_type": "stream",
     "text": [
      "list1 is equal to list2.\n",
      "['Alex', 'Joe', 'Patrick', 'Tom'] == ['Alex', 'Joe', 'Patrick', 'Tom']\n"
     ]
    }
   ],
   "source": [
    "if __name__ == \"__main__\": # continued\n",
    "\n",
    "    list1 = sorted(td.keys())\n",
    "    list2 = sorted(list(the_set_of_names))\n",
    "    if list1 == list2:\n",
    "        print('list1 is equal to list2.')\n",
    "        print(str(list1) + ' == ' + str(list2))\n",
    "    else:\n",
    "        print('list1 is not equal to list2.')\n",
    "        print(str(list1) + ' != ' + str(list2))"
   ]
  },
  {
   "cell_type": "code",
   "execution_count": null,
   "metadata": {},
   "outputs": [],
   "source": []
  }
 ],
 "metadata": {
  "kernelspec": {
   "display_name": "Python 3 (ipykernel)",
   "language": "python",
   "name": "python3"
  },
  "language_info": {
   "codemirror_mode": {
    "name": "ipython",
    "version": 3
   },
   "file_extension": ".py",
   "mimetype": "text/x-python",
   "name": "python",
   "nbconvert_exporter": "python",
   "pygments_lexer": "ipython3",
   "version": "3.9.12"
  }
 },
 "nbformat": 4,
 "nbformat_minor": 4
}
