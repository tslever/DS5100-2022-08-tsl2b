{
 "cells": [
  {
   "cell_type": "markdown",
   "metadata": {},
   "source": [
    "# hw02\n",
    "\n",
    "## Metadata\n",
    "\n",
    "```{yaml}\n",
    "Name:    hw02\n",
    "URL:     https://github.com/tslever/DS5100-2022-08-tsl2b/blob/main/lessons/M02/hw02.ipynb\n",
    "Course:  DS 5100\n",
    "Term:    Fall 2022 Online\n",
    "Module:  M02\n",
    "Author:  Tom Lever\n",
    "Net ID:  tsl2b\n",
    "Created: 31 August 2022\n",
    "Updated: 31 August 2022\n",
    "```"
   ]
  },
  {
   "cell_type": "markdown",
   "metadata": {},
   "source": [
    "## Data\n",
    "\n",
    "```\n",
    "Table 1: GRADES\n",
    "\n",
    "name    grade\n",
    "Jon     95\n",
    "Mike    84\n",
    "Jaime   99\n",
    "\n",
    "\n",
    "Table 2: TOUCHDOWNS\n",
    "\n",
    "name    touchdowns\n",
    "Alex    2\n",
    "Patrick 4\n",
    "Tom     1\n",
    "Joe     3\n",
    "Alex    1\n",
    "```"
   ]
  },
  {
   "cell_type": "markdown",
   "metadata": {},
   "source": [
    "## Tasks"
   ]
  },
  {
   "cell_type": "markdown",
   "metadata": {},
   "source": [
    "### Task 1\n",
    "\n",
    "Using the data in Table 1, create a dictionary called `gradebook` where the keys contain the names and the values are the associated grades. Print the dictionary.  (1 PT) "
   ]
  },
  {
   "cell_type": "code",
   "execution_count": null,
   "metadata": {},
   "outputs": [],
   "source": [
    "from platform import system\n",
    "if system() == 'Linux':\n",
    "    !~/Documents/Tom_Levers_Git_Repository/refresh_tomleverspythonpackage.sh\n",
    "elif system() == 'Windows':\n",
    "    !%USERPROFILE%/Documents/Tom_Levers_Git_Repository/refresh_tomleverspythonpackage.bat"
   ]
  },
  {
   "cell_type": "code",
   "execution_count": null,
   "metadata": {},
   "outputs": [],
   "source": [
    "from tomleverspythonpackage.acsvfilereader import ACsvFileReader\n",
    "from agradebook import AGradeBook\n",
    "\n",
    "if __name__ == \"__main__\":\n",
    "\n",
    "    the_csv_file_reader = ACsvFileReader()\n",
    "    gradebook = the_csv_file_reader.reads_into_a_dictionary('GRADES.csv', str, int)\n",
    "    print(type(gradebook))\n",
    "    print(gradebook)"
   ]
  },
  {
   "cell_type": "markdown",
   "metadata": {},
   "source": [
    "## Task 2 \n",
    "\n",
    "Index into the gradebook to print Mike's grade. Do NOT use the `get()` method for this. (1 PT) "
   ]
  },
  {
   "cell_type": "code",
   "execution_count": null,
   "metadata": {},
   "outputs": [],
   "source": [
    "if __name__ == \"__main__\": # continued\n",
    "\n",
    "    the_gradebook = AGradeBook(gradebook)\n",
    "    the_grade = the_gradebook.provides_a_grade_for('Mike')\n",
    "    print(type(the_grade))\n",
    "    print(the_grade)"
   ]
  },
  {
   "cell_type": "markdown",
   "metadata": {},
   "source": [
    "## Task 3\n",
    "\n",
    "Attempt to index into gradebook to print Jeff's grade. Show the result. Do NOT use the `get()` method for this. (1 PT) "
   ]
  },
  {
   "cell_type": "code",
   "execution_count": null,
   "metadata": {},
   "outputs": [],
   "source": [
    "if __name__ == \"__main__\": # continued\n",
    "\n",
    "    try:\n",
    "        the_gradebook.provides_a_grade_for('Jeff')\n",
    "    except ValueError as e:\n",
    "        print(type(e))\n",
    "        print(e)"
   ]
  },
  {
   "cell_type": "markdown",
   "metadata": {},
   "source": [
    "## Task 4\n",
    "\n",
    "Using Table 2, build a list from the names called `names` and print it. (1 PT) "
   ]
  },
  {
   "cell_type": "code",
   "execution_count": null,
   "metadata": {},
   "outputs": [],
   "source": [
    "if __name__ == \"__main__\": # continued\n",
    "\n",
    "    names = ['Alex', 'Patrick', 'Tom', 'Joe', 'Alex']\n",
    "    print(type(names))\n",
    "    print(names)"
   ]
  },
  {
   "cell_type": "markdown",
   "metadata": {},
   "source": [
    "## Task 5\n",
    "\n",
    "Sort the list in ascending order and print it. (1 PT) "
   ]
  },
  {
   "cell_type": "code",
   "execution_count": null,
   "metadata": {},
   "outputs": [],
   "source": [
    "if __name__ == \"__main__\": # continued\n",
    "    \n",
    "    the_sorted_list = sorted(names)\n",
    "    print(type(the_sorted_list))\n",
    "    print(the_sorted_list)"
   ]
  },
  {
   "cell_type": "markdown",
   "metadata": {},
   "source": [
    "## Task 6 \n",
    "\n",
    "Build a set from the names in Table 2 and print it. (1 PT) "
   ]
  },
  {
   "cell_type": "code",
   "execution_count": null,
   "metadata": {},
   "outputs": [],
   "source": [
    "if __name__ == \"__main__\": # continued\n",
    "    \n",
    "    the_set_of_names = set(names)\n",
    "    print(type(the_set_of_names))\n",
    "    print(the_set_of_names)"
   ]
  },
  {
   "cell_type": "markdown",
   "metadata": {},
   "source": [
    "## Task 7\n",
    "\n",
    "Build a dictionary from the touchdowns data, calling it `td`, and print it. Use lists to store the values. Remember that dictionary keys must be unique. (1 PT) "
   ]
  },
  {
   "cell_type": "code",
   "execution_count": null,
   "metadata": {},
   "outputs": [],
   "source": [
    "if __name__ == \"__main__\": # continued\n",
    "\n",
    "    td = the_csv_file_reader.reads_into_a_dictionary('TOUCHDOWNS.csv', str, int)\n",
    "    print(type(td))\n",
    "    print(td)"
   ]
  },
  {
   "cell_type": "markdown",
   "metadata": {},
   "source": [
    "## Task 8\n",
    "\n",
    "Compute the sum of Alex's touchdowns using the appropriate built-in function."
   ]
  },
  {
   "cell_type": "code",
   "execution_count": null,
   "metadata": {},
   "outputs": [],
   "source": [
    "if __name__ == \"__main__\": # continued\n",
    "\n",
    "    the_sum = sum(td.get('Alex'))\n",
    "    print(type(the_sum))\n",
    "    print(the_sum)"
   ]
  },
  {
   "cell_type": "markdown",
   "metadata": {},
   "source": [
    "## Task 9\n",
    "\n",
    "Get the keys from `td` and save them as a sorted list `list1`. Then get a set from `names` and save them as a sorted list called `list2`. Compare them with a boolean operator to see if they are equal. (2 PTS)"
   ]
  },
  {
   "cell_type": "code",
   "execution_count": null,
   "metadata": {},
   "outputs": [],
   "source": [
    "if __name__ == \"__main__\": # continued\n",
    "\n",
    "    list1 = sorted(td.keys())\n",
    "    list2 = sorted(list(the_set_of_names))\n",
    "    if list1 == list2:\n",
    "        print('list1 is equal to list2.')\n",
    "        print(str(list1) + ' == ' + str(list2))\n",
    "    else:\n",
    "        print('list1 is not equal to list2.')\n",
    "        print(str(list1) + ' != ' + str(list2))"
   ]
  },
  {
   "cell_type": "code",
   "execution_count": null,
   "metadata": {},
   "outputs": [],
   "source": []
  }
 ],
 "metadata": {
  "kernelspec": {
   "display_name": "Python 3 (ipykernel)",
   "language": "python",
   "name": "python3"
  },
  "language_info": {
   "codemirror_mode": {
    "name": "ipython",
    "version": 3
   },
   "file_extension": ".py",
   "mimetype": "text/x-python",
   "name": "python",
   "nbconvert_exporter": "python",
   "pygments_lexer": "ipython3",
   "version": "3.9.12"
  }
 },
 "nbformat": 4,
 "nbformat_minor": 4
}
