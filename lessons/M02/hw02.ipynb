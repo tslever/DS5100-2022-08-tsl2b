{
 "cells": [
  {
   "cell_type": "markdown",
   "metadata": {},
   "source": [
    "# hw02\n",
    "\n",
    "## Metadata\n",
    "\n",
    "```{yaml}\n",
    "Name:    hw02\n",
    "URL:     https://github.com/tslever/DS5100-2022-08-tsl2b/blob/main/lessons/M02/hw02.ipynb\n",
    "Course:  DS 5100\n",
    "Term:    Fall 2022 Online\n",
    "Module:  M02\n",
    "Author:  Tom Lever\n",
    "Net ID:  tsl2b\n",
    "Created: 31 August 2022\n",
    "Updated: 31 August 2022\n",
    "```"
   ]
  },
  {
   "cell_type": "markdown",
   "metadata": {},
   "source": [
    "## Data\n",
    "\n",
    "```\n",
    "Table 1: GRADES\n",
    "\n",
    "name    grade\n",
    "Jon     95\n",
    "Mike    84\n",
    "Jaime   99\n",
    "\n",
    "\n",
    "Table 2: TOUCHDOWNS\n",
    "\n",
    "name    touchdowns\n",
    "Alex    2\n",
    "Patrick 4\n",
    "Tom     1\n",
    "Joe     3\n",
    "Alex    1\n",
    "```"
   ]
  },
  {
   "cell_type": "markdown",
   "metadata": {},
   "source": [
    "## Tasks"
   ]
  },
  {
   "cell_type": "markdown",
   "metadata": {},
   "source": [
    "### Task 1\n",
    "\n",
    "Using the data in Table 1, create a dictionary called `gradebook` where the keys contain the names and the values are the associated grades. Print the dictionary.  (1 PT) "
   ]
  },
  {
   "cell_type": "code",
   "execution_count": 2,
   "metadata": {},
   "outputs": [
    {
     "name": "stdout",
     "output_type": "stream",
     "text": [
      "\n",
      "C:\\Users\\Tom\\Documents\\DS5100-2022-08-tsl2b\\lessons\\M02>pip uninstall tomleverspythonpackage -y \n",
      "Found existing installation: tomleverspythonpackage 0.1.0\n",
      "Uninstalling tomleverspythonpackage-0.1.0:\n",
      "  Successfully uninstalled tomleverspythonpackage-0.1.0\n",
      "\n",
      "C:\\Users\\Tom\\Documents\\DS5100-2022-08-tsl2b\\lessons\\M02>pip install C:\\Users\\Tom/Documents/Tom_Levers_Git_Repository/tomleverspythonpackage \n",
      "Processing c:\\users\\tom\\documents\\tom_levers_git_repository\\tomleverspythonpackage\n",
      "Building wheels for collected packages: tomleverspythonpackage\n",
      "  Building wheel for tomleverspythonpackage (setup.py): started\n",
      "  Building wheel for tomleverspythonpackage (setup.py): finished with status 'done'\n",
      "  Created wheel for tomleverspythonpackage: filename=tomleverspythonpackage-0.1.0-py3-none-any.whl size=3530 sha256=bd652085e557a0890ad730fda3e97209e44622db6e6ac6a2275c94bdff1e06fa\n",
      "  Stored in directory: C:\\Users\\Tom\\AppData\\Local\\Temp\\pip-ephem-wheel-cache-9cj5_g6d\\wheels\\d9\\ed\\26\\9b7957f5be7233af3b0ceffa91f1210e3b8a8e23dad36ba9ab\n",
      "Successfully built tomleverspythonpackage\n",
      "Installing collected packages: tomleverspythonpackage\n",
      "Successfully installed tomleverspythonpackage-0.1.0\n",
      "\n",
      "C:\\Users\\Tom\\Documents\\DS5100-2022-08-tsl2b\\lessons\\M02>pip show tomleverspythonpackage \n",
      "Name: tomleverspythonpackage\n",
      "Version: 0.1.0\n",
      "Summary: Contains Tom Lever's Python objects\n",
      "Home-page: https://github.com/tslever/tree/main/tomleverspythonpackage\n",
      "Author: Tom Lever\n",
      "Author-email: thomas.lever.business@gmail.com\n",
      "License: BSD 2-clause\n",
      "Location: c:\\users\\tom\\anaconda3\\lib\\site-packages\n",
      "Requires: \n",
      "Required-by: \n"
     ]
    },
    {
     "name": "stderr",
     "output_type": "stream",
     "text": [
      "  DEPRECATION: A future pip version will change local packages to be built in-place without first copying to a temporary directory. We recommend you use --use-feature=in-tree-build to test your packages with this new behavior before it becomes the default.\n",
      "   pip 21.3 will remove support for this functionality. You can find discussion regarding this at https://github.com/pypa/pip/issues/7555.\n"
     ]
    }
   ],
   "source": [
    "from sys import platform\n",
    "if platform == \"linux\" or platform == \"linux2\":\n",
    "    !~/Documents/Tom_Levers_Git_Repository/refresh_tomleverspythonpackage.sh\n",
    "elif platform == \"win32\":\n",
    "    !%USERPROFILE%/Documents/Tom_Levers_Git_Repository/refresh_tomleverspythonpackage.bat"
   ]
  },
  {
   "cell_type": "code",
   "execution_count": 3,
   "metadata": {},
   "outputs": [
    {
     "name": "stdout",
     "output_type": "stream",
     "text": [
      "<class 'dict'>\n",
      "{'Jon': 95, 'Mike': 84, 'Jaime': 99}\n"
     ]
    }
   ],
   "source": [
    "# https://github.com/tslever/Tom_Levers_Git_Repository/tree/main/tomleverspythonpackage\n",
    "from tomleverspythonpackage.acsvfilereader import ACsvFileReader\n",
    "from agradebook import AGradeBook\n",
    "\n",
    "if __name__ == \"__main__\":\n",
    "\n",
    "    the_csv_file_reader = ACsvFileReader()\n",
    "    gradebook = the_csv_file_reader.reads_into_a_dictionary('GRADES.csv', str, int)\n",
    "    print(type(gradebook))\n",
    "    print(gradebook)"
   ]
  },
  {
   "cell_type": "markdown",
   "metadata": {},
   "source": [
    "## Task 2 \n",
    "\n",
    "Index into the gradebook to print Mike's grade. Do NOT use the `get()` method for this. (1 PT) "
   ]
  },
  {
   "cell_type": "code",
   "execution_count": 4,
   "metadata": {},
   "outputs": [
    {
     "name": "stdout",
     "output_type": "stream",
     "text": [
      "\n",
      "<class 'int'>\n",
      "84\n"
     ]
    }
   ],
   "source": [
    "if __name__ == \"__main__\": # continued\n",
    "\n",
    "    the_gradebook = AGradeBook(gradebook)\n",
    "    the_grade = the_gradebook.provides_a_grade_for('Mike')\n",
    "    print(type(the_grade))\n",
    "    print(the_grade)"
   ]
  },
  {
   "cell_type": "markdown",
   "metadata": {},
   "source": [
    "## Task 3\n",
    "\n",
    "Attempt to index into gradebook to print Jeff's grade. Show the result. Do NOT use the `get()` method for this. (1 PT) "
   ]
  },
  {
   "cell_type": "code",
   "execution_count": 5,
   "metadata": {},
   "outputs": [
    {
     "name": "stdout",
     "output_type": "stream",
     "text": [
      "<class 'ValueError'>\n",
      "'Jeff' is not in list\n"
     ]
    }
   ],
   "source": [
    "if __name__ == \"__main__\": # continued\n",
    "\n",
    "    try:\n",
    "        the_gradebook.provides_a_grade_for('Jeff')\n",
    "    except ValueError as e:\n",
    "        print(type(e))\n",
    "        print(e)"
   ]
  },
  {
   "cell_type": "markdown",
   "metadata": {},
   "source": [
    "## Task 4\n",
    "\n",
    "Using Table 2, build a list from the names called `names` and print it. (1 PT) "
   ]
  },
  {
   "cell_type": "code",
   "execution_count": 7,
   "metadata": {},
   "outputs": [
    {
     "name": "stdout",
     "output_type": "stream",
     "text": [
      "<class 'list'>\n",
      "['Alex', 'Patrick', 'Tom', 'Joe']\n"
     ]
    }
   ],
   "source": [
    "the_dictionary_of_player_names_and_numbers_of_touchdowns = the_csv_file_reader.reads_into_a_dictionary('TOUCHDOWNS.csv', str, int)\n",
    "names = list(the_dictionary_of_player_names_and_numbers_of_touchdowns.keys())\n",
    "print(type(names))\n",
    "print(names)"
   ]
  },
  {
   "cell_type": "code",
   "execution_count": null,
   "metadata": {},
   "outputs": [],
   "source": []
  }
 ],
 "metadata": {
  "kernelspec": {
   "display_name": "Python 3 (ipykernel)",
   "language": "python",
   "name": "python3"
  },
  "language_info": {
   "codemirror_mode": {
    "name": "ipython",
    "version": 3
   },
   "file_extension": ".py",
   "mimetype": "text/x-python",
   "name": "python",
   "nbconvert_exporter": "python",
   "pygments_lexer": "ipython3",
   "version": "3.9.12"
  }
 },
 "nbformat": 4,
 "nbformat_minor": 4
}
