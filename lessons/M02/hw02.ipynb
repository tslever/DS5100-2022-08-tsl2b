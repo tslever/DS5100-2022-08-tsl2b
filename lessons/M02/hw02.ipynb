{
 "cells": [
  {
   "cell_type": "markdown",
   "metadata": {},
   "source": [
    "# hw02\n",
    "\n",
    "## Metadata\n",
    "\n",
    "```{yaml}\n",
    "Name:    hw02\n",
    "URL:     https://github.com/tslever/DS5100-2022-08-tsl2b/blob/main/lessons/M02/hw02.ipynb\n",
    "Course:  DS 5100\n",
    "Term:    Fall 2022 Online\n",
    "Module:  M02\n",
    "Author:  Tom Lever\n",
    "Net ID:  tsl2b\n",
    "Created: 31 August 2022\n",
    "Updated: 31 August 2022\n",
    "```"
   ]
  },
  {
   "cell_type": "markdown",
   "metadata": {},
   "source": [
    "## Data\n",
    "\n",
    "```\n",
    "Table 1: GRADES\n",
    "\n",
    "name    grade\n",
    "Jon     95\n",
    "Mike    84\n",
    "Jaime   99\n",
    "\n",
    "\n",
    "Table 2: TOUCHDOWNS\n",
    "\n",
    "name    touchdowns\n",
    "Alex    2\n",
    "Patrick 4\n",
    "Tom     1\n",
    "Joe     3\n",
    "Alex    1\n",
    "```"
   ]
  },
  {
   "cell_type": "markdown",
   "metadata": {},
   "source": [
    "## Tasks"
   ]
  },
  {
   "cell_type": "markdown",
   "metadata": {},
   "source": [
    "### Task 1\n",
    "\n",
    "Using the data in Table 1, create a dictionary called `gradebook` where the keys contain the names and the values are the associated grades. Print the dictionary.  (1 PT) "
   ]
  },
  {
   "cell_type": "code",
   "execution_count": 24,
   "metadata": {},
   "outputs": [
    {
     "name": "stdout",
     "output_type": "stream",
     "text": [
      "Found existing installation: tomleverspythonpackage 0.1.0\n",
      "Uninstalling tomleverspythonpackage-0.1.0:\n",
      "  Successfully uninstalled tomleverspythonpackage-0.1.0\n"
     ]
    }
   ],
   "source": [
    "!pip uninstall tomleverspythonpackage -y"
   ]
  },
  {
   "cell_type": "code",
   "execution_count": 25,
   "metadata": {},
   "outputs": [
    {
     "name": "stdout",
     "output_type": "stream",
     "text": [
      "Defaulting to user installation because normal site-packages is not writeable\n",
      "Processing /home/tsl2b/Documents/Tom_Levers_Git_Repository/tomleverspythonpackage\n",
      "Building wheels for collected packages: tomleverspythonpackage\n",
      "  Building wheel for tomleverspythonpackage (setup.py) ... \u001b[?25ldone\n",
      "\u001b[?25h  Created wheel for tomleverspythonpackage: filename=tomleverspythonpackage-0.1.0-py3-none-any.whl size=2876 sha256=bd1dfa35c1cd32c7c68ed0d97ca44f156228ab603006998dde2bec6358bc87b1\n",
      "  Stored in directory: /tmp/pip-ephem-wheel-cache-e7rwoe69/wheels/dc/7c/20/9bc5d12abb7cd9a287e8f5ef270d2a8365f87851240875e08a\n",
      "Successfully built tomleverspythonpackage\n",
      "Installing collected packages: tomleverspythonpackage\n",
      "Successfully installed tomleverspythonpackage-0.1.0\n"
     ]
    }
   ],
   "source": [
    "!pip install ~/Documents/Tom_Levers_Git_Repository/tomleverspythonpackage"
   ]
  },
  {
   "cell_type": "code",
   "execution_count": 26,
   "metadata": {},
   "outputs": [
    {
     "name": "stdout",
     "output_type": "stream",
     "text": [
      "tomleverspythonpackage             0.1.0\n"
     ]
    }
   ],
   "source": [
    "!pip list | grep tomleverspythonpackage"
   ]
  },
  {
   "cell_type": "code",
   "execution_count": 27,
   "metadata": {},
   "outputs": [
    {
     "name": "stdout",
     "output_type": "stream",
     "text": [
      "<class 'dict'>\n",
      "{'Jon': 95, 'Mike': 84, 'Jaime': 99}\n"
     ]
    }
   ],
   "source": [
    "# https://github.com/tslever/Tom_Levers_Git_Repository/tree/main/tomleverspythonpackage\n",
    "from tomleverspythonpackage.acsvfilereader import ACsvFileReader\n",
    "from agradebook import AGradeBook\n",
    "\n",
    "if __name__ == \"__main__\":\n",
    "\n",
    "    the_csv_file_reader = ACsvFileReader()\n",
    "    gradebook = the_csv_file_reader.reads_into_a_dictionary('GRADES.csv', str, int)\n",
    "    print(type(gradebook))\n",
    "    print(gradebook)"
   ]
  },
  {
   "cell_type": "markdown",
   "metadata": {},
   "source": [
    "## Task 2 \n",
    "\n",
    "Index into the gradebook to print Mike's grade. Do NOT use the `get()` method for this. (1 PT) "
   ]
  },
  {
   "cell_type": "code",
   "execution_count": 28,
   "metadata": {},
   "outputs": [
    {
     "name": "stdout",
     "output_type": "stream",
     "text": [
      "\n",
      "<class 'int'>\n",
      "84\n"
     ]
    }
   ],
   "source": [
    "if __name__ == \"__main__\": # continued\n",
    "\n",
    "    the_gradebook = AGradeBook(gradebook)\n",
    "    the_grade = the_gradebook.provides_a_grade_for('Mike')\n",
    "    print(type(the_grade))\n",
    "    print(the_grade)"
   ]
  },
  {
   "cell_type": "markdown",
   "metadata": {},
   "source": [
    "## Task 3\n",
    "\n",
    "Attempt to index into gradebook to print Jeff's grade. Show the result. Do NOT use the `get()` method for this. (1 PT) "
   ]
  },
  {
   "cell_type": "code",
   "execution_count": 29,
   "metadata": {},
   "outputs": [
    {
     "name": "stdout",
     "output_type": "stream",
     "text": [
      "<class 'ValueError'>\n",
      "'Jeff' is not in list\n"
     ]
    }
   ],
   "source": [
    "if __name__ == \"__main__\": # continued\n",
    "\n",
    "    try:\n",
    "        the_gradebook.provides_a_grade_for('Jeff')\n",
    "    except ValueError as e:\n",
    "        print(type(e))\n",
    "        print(e)"
   ]
  },
  {
   "cell_type": "markdown",
   "metadata": {},
   "source": [
    "## Task 4\n",
    "\n",
    "Using Table 2, build a list from the names called `names` and print it. (1 PT) "
   ]
  },
  {
   "cell_type": "code",
   "execution_count": null,
   "metadata": {},
   "outputs": [],
   "source": []
  }
 ],
 "metadata": {
  "kernelspec": {
   "display_name": "Python 3",
   "language": "python",
   "name": "python3"
  },
  "language_info": {
   "codemirror_mode": {
    "name": "ipython",
    "version": 3
   },
   "file_extension": ".py",
   "mimetype": "text/x-python",
   "name": "python",
   "nbconvert_exporter": "python",
   "pygments_lexer": "ipython3",
   "version": "3.8.8"
  }
 },
 "nbformat": 4,
 "nbformat_minor": 4
}
