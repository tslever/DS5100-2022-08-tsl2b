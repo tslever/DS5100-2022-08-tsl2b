{
 "cells": [
  {
   "cell_type": "markdown",
   "id": "98734d49",
   "metadata": {
    "slideshow": {
     "slide_type": "slide"
    }
   },
   "source": [
    "# M02 In-Class Exercises\n",
    "\n",
    "DS 5100 | Fall 2022 | Online"
   ]
  },
  {
   "cell_type": "markdown",
   "id": "de17e3e3-0988-4584-ab4d-3c68fe3add4b",
   "metadata": {
    "slideshow": {
     "slide_type": "slide"
    }
   },
   "source": [
    "# Exercise 2.1\n",
    "\n",
    "Define a string with a length `>= 6` and print:\n",
    "- the first three characters of the string\n",
    "- the last three characters of the string"
   ]
  },
  {
   "cell_type": "code",
   "execution_count": 1,
   "id": "5f31d207",
   "metadata": {
    "slideshow": {
     "slide_type": "subslide"
    },
    "tags": []
   },
   "outputs": [
    {
     "data": {
      "text/plain": [
       "True"
      ]
     },
     "execution_count": 1,
     "metadata": {},
     "output_type": "execute_result"
    }
   ],
   "source": [
    "mystr = 'python'\n",
    "len(mystr) >= 6"
   ]
  },
  {
   "cell_type": "code",
   "execution_count": 2,
   "id": "584f7ee0-4ce6-4d3e-8ce0-415e4a01ff19",
   "metadata": {
    "slideshow": {
     "slide_type": "subslide"
    },
    "tags": []
   },
   "outputs": [
    {
     "name": "stdout",
     "output_type": "stream",
     "text": [
      "pyt\n",
      "hon\n"
     ]
    }
   ],
   "source": [
    "print(mystr[:3])\n",
    "print(mystr[-3:])"
   ]
  },
  {
   "cell_type": "code",
   "execution_count": 3,
   "id": "8eb6ef57",
   "metadata": {},
   "outputs": [
    {
     "name": "stdout",
     "output_type": "stream",
     "text": [
      "6\n",
      "abc\n",
      "def\n",
      "abc\n",
      "def\n"
     ]
    }
   ],
   "source": [
    "str_ = 'abcdef'\n",
    "print(len(str_))\n",
    "print(str_[0:3])\n",
    "print(str_[3:6])\n",
    "print(str_[:3])\n",
    "print(str_[-3:])"
   ]
  },
  {
   "cell_type": "markdown",
   "id": "18cb62fc-7bc6-4811-a4c0-635f2b3278af",
   "metadata": {
    "slideshow": {
     "slide_type": "slide"
    }
   },
   "source": [
    "# Exercise 2.2\n",
    "\n",
    "Create a new list and assign three values to it. \n",
    "\n",
    "Then print the second element from the list."
   ]
  },
  {
   "cell_type": "code",
   "execution_count": 4,
   "id": "befcfd37-8500-488f-b229-a4e48da11ba2",
   "metadata": {
    "slideshow": {
     "slide_type": "subslide"
    },
    "tags": []
   },
   "outputs": [
    {
     "name": "stdout",
     "output_type": "stream",
     "text": [
      "second\n"
     ]
    }
   ],
   "source": [
    "mylist = []\n",
    "mylist.append('first')\n",
    "mylist.append('second')\n",
    "mylist.append('third')\n",
    "print(mylist[1])"
   ]
  },
  {
   "cell_type": "code",
   "execution_count": 5,
   "id": "cf7f3817",
   "metadata": {
    "slideshow": {
     "slide_type": "fragment"
    },
    "tags": []
   },
   "outputs": [
    {
     "name": "stdout",
     "output_type": "stream",
     "text": [
      "second\n"
     ]
    }
   ],
   "source": [
    "mylist = []\n",
    "mylist += ['first']\n",
    "mylist += ['second', 'third']\n",
    "print(mylist[1])"
   ]
  },
  {
   "cell_type": "code",
   "execution_count": 6,
   "id": "038317f9",
   "metadata": {
    "slideshow": {
     "slide_type": "fragment"
    },
    "tags": []
   },
   "outputs": [
    {
     "name": "stdout",
     "output_type": "stream",
     "text": [
      "second\n"
     ]
    }
   ],
   "source": [
    "mylist = ['first','second','third']\n",
    "print(mylist[1])"
   ]
  },
  {
   "cell_type": "code",
   "execution_count": 7,
   "id": "a1c9d304",
   "metadata": {},
   "outputs": [
    {
     "name": "stdout",
     "output_type": "stream",
     "text": [
      "1\n",
      "second\n",
      "second\n"
     ]
    }
   ],
   "source": [
    "list_ = [0, 1, 2]\n",
    "print(list_[1])\n",
    "list_ = []\n",
    "list_.append('first')\n",
    "list_.append('second')\n",
    "list_.append('third')\n",
    "print(list_[1])\n",
    "list_ = []\n",
    "list_ += ['first']\n",
    "list_ += ['second', 'third']\n",
    "print(list_[1])"
   ]
  },
  {
   "cell_type": "markdown",
   "id": "d020cc77-554d-43a4-a55a-4daba7774a8b",
   "metadata": {
    "slideshow": {
     "slide_type": "slide"
    }
   },
   "source": [
    "# Exercise 2.3\n",
    "\n",
    "Create to a tuple with three values.\n",
    "\n",
    "Then, try to append a fourth value. "
   ]
  },
  {
   "cell_type": "code",
   "execution_count": 8,
   "id": "67e05fc0",
   "metadata": {
    "slideshow": {
     "slide_type": "subslide"
    }
   },
   "outputs": [],
   "source": [
    "mytuple = 1, 2, 3"
   ]
  },
  {
   "cell_type": "code",
   "execution_count": 9,
   "id": "6b1a236f",
   "metadata": {
    "slideshow": {
     "slide_type": "fragment"
    }
   },
   "outputs": [],
   "source": [
    "mytuple = (1, 2, 3)"
   ]
  },
  {
   "cell_type": "code",
   "execution_count": 10,
   "id": "66967081",
   "metadata": {
    "slideshow": {
     "slide_type": "fragment"
    }
   },
   "outputs": [],
   "source": [
    "mytuple = tuple([1, 2, 3])"
   ]
  },
  {
   "cell_type": "code",
   "execution_count": 11,
   "id": "27283366",
   "metadata": {
    "slideshow": {
     "slide_type": "fragment"
    }
   },
   "outputs": [
    {
     "name": "stdout",
     "output_type": "stream",
     "text": [
      "'tuple' object has no attribute 'append'\n"
     ]
    }
   ],
   "source": [
    "try:\n",
    "    mytuple.append(4)\n",
    "except Exception as e:\n",
    "    print(e)"
   ]
  },
  {
   "cell_type": "code",
   "execution_count": 12,
   "id": "1bea7799",
   "metadata": {},
   "outputs": [
    {
     "name": "stdout",
     "output_type": "stream",
     "text": [
      "'tuple' object has no attribute 'append'\n",
      "(1, 2, 3)\n"
     ]
    }
   ],
   "source": [
    "tuple_ = ('first', 'second', 'third')\n",
    "try:\n",
    "    tuple_.append('fourth')\n",
    "except Exception as e:\n",
    "    print(e)\n",
    "tuple_ = 1, 2, 3\n",
    "tuple_ = (1, 2, 3)\n",
    "tuple_ = tuple([1, 2, 3])\n",
    "print(tuple_)"
   ]
  },
  {
   "cell_type": "markdown",
   "id": "1c09feb7-8bba-42fb-b429-2e7cad4a336d",
   "metadata": {
    "slideshow": {
     "slide_type": "slide"
    }
   },
   "source": [
    "# Exercise 2.4\n",
    "\n",
    "Assign a value to a string.\n",
    "\n",
    "Assign three string values to a set.\n",
    "\n",
    "Check if the string is in the set."
   ]
  },
  {
   "cell_type": "code",
   "execution_count": 13,
   "id": "59880a2b",
   "metadata": {
    "slideshow": {
     "slide_type": "subslide"
    },
    "tags": []
   },
   "outputs": [],
   "source": [
    "val = 'ERROR'\n",
    "levels = {'WARN','ERROR','CRITICAL'}"
   ]
  },
  {
   "cell_type": "code",
   "execution_count": 14,
   "id": "812bd975-8936-495a-a825-0ddce80a924f",
   "metadata": {
    "slideshow": {
     "slide_type": "subslide"
    },
    "tags": []
   },
   "outputs": [
    {
     "data": {
      "text/plain": [
       "True"
      ]
     },
     "execution_count": 14,
     "metadata": {},
     "output_type": "execute_result"
    }
   ],
   "source": [
    "val in levels"
   ]
  },
  {
   "cell_type": "code",
   "execution_count": 15,
   "id": "491976a0",
   "metadata": {},
   "outputs": [
    {
     "data": {
      "text/plain": [
       "True"
      ]
     },
     "execution_count": 15,
     "metadata": {},
     "output_type": "execute_result"
    }
   ],
   "source": [
    "str_ = 'abc'\n",
    "set_ = {'abc', 'def', 'ghi'}\n",
    "str_ in set_"
   ]
  },
  {
   "cell_type": "markdown",
   "id": "135d5af5-f350-4658-80ed-2c5bb079faca",
   "metadata": {
    "slideshow": {
     "slide_type": "slide"
    }
   },
   "source": [
    "# Exercise 2.5\n",
    "\n",
    "Create a dictionary containing at least three key-value pairs.\n",
    "\n",
    "Use `get()` to index into the dictionary with one of the keys to extract the corresponding value.\n",
    "\n",
    "Then, store the keys in a list and print the list."
   ]
  },
  {
   "cell_type": "code",
   "execution_count": 16,
   "id": "d7e05518",
   "metadata": {
    "slideshow": {
     "slide_type": "subslide"
    },
    "tags": []
   },
   "outputs": [],
   "source": [
    "name_age = {'greg': 15, 'annabel': 22, 'joaquin': 19}"
   ]
  },
  {
   "cell_type": "code",
   "execution_count": 17,
   "id": "e019d71d",
   "metadata": {
    "slideshow": {
     "slide_type": "subslide"
    },
    "tags": []
   },
   "outputs": [
    {
     "name": "stdout",
     "output_type": "stream",
     "text": [
      "name_age[joaquin] = 19\n"
     ]
    }
   ],
   "source": [
    "print('name_age[joaquin] =', name_age.get('joaquin'))"
   ]
  },
  {
   "cell_type": "code",
   "execution_count": 18,
   "id": "c8d587c4",
   "metadata": {},
   "outputs": [],
   "source": [
    "# type(name_age.keys())"
   ]
  },
  {
   "cell_type": "code",
   "execution_count": 19,
   "id": "a2894077",
   "metadata": {
    "slideshow": {
     "slide_type": "fragment"
    },
    "tags": []
   },
   "outputs": [],
   "source": [
    "names = list(name_age.keys())"
   ]
  },
  {
   "cell_type": "code",
   "execution_count": 20,
   "id": "13ed1846-67c3-4e32-ba4e-104e2782ad02",
   "metadata": {
    "scrolled": true,
    "slideshow": {
     "slide_type": "fragment"
    },
    "tags": []
   },
   "outputs": [
    {
     "name": "stdout",
     "output_type": "stream",
     "text": [
      "names: ['greg', 'annabel', 'joaquin']\n"
     ]
    }
   ],
   "source": [
    "print('names:', names)"
   ]
  },
  {
   "cell_type": "code",
   "execution_count": 21,
   "id": "c989d234",
   "metadata": {
    "slideshow": {
     "slide_type": "fragment"
    }
   },
   "outputs": [
    {
     "data": {
      "text/plain": [
       "(dict_keys, list)"
      ]
     },
     "execution_count": 21,
     "metadata": {},
     "output_type": "execute_result"
    }
   ],
   "source": [
    "type(name_age.keys()), type(names)"
   ]
  },
  {
   "cell_type": "code",
   "execution_count": 22,
   "id": "92bba14f",
   "metadata": {},
   "outputs": [
    {
     "name": "stdout",
     "output_type": "stream",
     "text": [
      "{'key_0': 'value_0', 'key_1': 'value_1', 'key_2': 'value_2'}\n",
      "value_0\n",
      "<class 'dict'>\n",
      "<class 'dict_keys'>\n",
      "<class 'dict_values'>\n",
      "<class 'list'>\n",
      "['key_0', 'key_1', 'key_2']\n"
     ]
    }
   ],
   "source": [
    "dict_ = {\n",
    "    'key_0': 'value_0',\n",
    "    'key_1': 'value_1',\n",
    "    'key_2': 'value_2'\n",
    "}\n",
    "print(dict_)\n",
    "print(dict_.get('key_0'))\n",
    "print(type(dict_))\n",
    "print(type(dict_.keys()))\n",
    "print(type(dict_.values()))\n",
    "list_of_keys = list(dict_.keys())\n",
    "print(type(list_of_keys))\n",
    "print(list_of_keys)"
   ]
  },
  {
   "cell_type": "markdown",
   "id": "aab54601-6110-47d0-b214-eba82d7167fb",
   "metadata": {
    "slideshow": {
     "slide_type": "slide"
    }
   },
   "source": [
    "# Exercise 2.6\n",
    "\n",
    "Convert the following sentence into a set of lowercase words sorted alphabetically.\n",
    "\n",
    "Do not include the punction mark in the resulting set.\n",
    "\n",
    "`\"The quick brown fox jumped over the lazy dogs.\"`\n"
   ]
  },
  {
   "cell_type": "code",
   "execution_count": 23,
   "id": "96e3cc2d",
   "metadata": {
    "slideshow": {
     "slide_type": "subslide"
    }
   },
   "outputs": [],
   "source": [
    "mystring = \"The quick brown fox jumped over the lazy dogs.\""
   ]
  },
  {
   "cell_type": "code",
   "execution_count": 24,
   "id": "712deeaf",
   "metadata": {},
   "outputs": [],
   "source": [
    "# mystring = mystring[:-1]"
   ]
  },
  {
   "cell_type": "code",
   "execution_count": 25,
   "id": "3d0de0b3",
   "metadata": {},
   "outputs": [],
   "source": [
    "# mystring"
   ]
  },
  {
   "cell_type": "code",
   "execution_count": 26,
   "id": "964bead5",
   "metadata": {},
   "outputs": [],
   "source": [
    "mystring1 = mystring.replace('.', '')\n",
    "mystring2 = mystring1.lower()\n",
    "mystring3 = mystring2.split()\n",
    "myset1 = set(mystring3)\n",
    "myset2 = sorted(myset1)"
   ]
  },
  {
   "cell_type": "code",
   "execution_count": 27,
   "id": "766f462c",
   "metadata": {},
   "outputs": [],
   "source": [
    "x = sorted(mystring3)"
   ]
  },
  {
   "cell_type": "code",
   "execution_count": 28,
   "id": "8e46388b",
   "metadata": {},
   "outputs": [
    {
     "data": {
      "text/plain": [
       "['brown', 'dogs', 'fox', 'jumped', 'lazy', 'over', 'quick', 'the', 'the']"
      ]
     },
     "execution_count": 28,
     "metadata": {},
     "output_type": "execute_result"
    }
   ],
   "source": [
    "x"
   ]
  },
  {
   "cell_type": "code",
   "execution_count": 29,
   "id": "0b97e2c0",
   "metadata": {},
   "outputs": [],
   "source": [
    "y = set(x)"
   ]
  },
  {
   "cell_type": "code",
   "execution_count": 30,
   "id": "d562c1c6",
   "metadata": {},
   "outputs": [
    {
     "data": {
      "text/plain": [
       "{'brown', 'dogs', 'fox', 'jumped', 'lazy', 'over', 'quick', 'the'}"
      ]
     },
     "execution_count": 30,
     "metadata": {},
     "output_type": "execute_result"
    }
   ],
   "source": [
    "y"
   ]
  },
  {
   "cell_type": "code",
   "execution_count": 31,
   "id": "a42d86ae",
   "metadata": {},
   "outputs": [
    {
     "data": {
      "text/plain": [
       "['brown', 'dogs', 'fox', 'jumped', 'lazy', 'over', 'quick', 'the']"
      ]
     },
     "execution_count": 31,
     "metadata": {},
     "output_type": "execute_result"
    }
   ],
   "source": [
    "myset2"
   ]
  },
  {
   "cell_type": "code",
   "execution_count": 32,
   "id": "04582e0c",
   "metadata": {
    "scrolled": true
   },
   "outputs": [
    {
     "data": {
      "text/plain": [
       "['brown', 'dogs', 'fox', 'jumped', 'lazy', 'over', 'quick', 'the']"
      ]
     },
     "execution_count": 32,
     "metadata": {},
     "output_type": "execute_result"
    }
   ],
   "source": [
    "sorted(set(mystring.replace('.', '').lower().split()))"
   ]
  },
  {
   "cell_type": "code",
   "execution_count": 33,
   "id": "ed86118d",
   "metadata": {},
   "outputs": [
    {
     "name": "stdout",
     "output_type": "stream",
     "text": [
      "['brown', 'dogs', 'fox', 'jumped', 'lazy', 'over', 'quick', 'the']\n"
     ]
    }
   ],
   "source": [
    "str_ = \"The quick brown fox jumped over the lazy dogs.\"\n",
    "str_without_punctuation = str_.replace('.', '')\n",
    "str_without_punctuation_and_with_lowercase_words = str_without_punctuation.lower()\n",
    "list_of_lowercase_words = str_without_punctuation_and_with_lowercase_words.split(' ')\n",
    "set_of_lowercase_words = set(list_of_lowercase_words)\n",
    "set_of_lowercase_words_that_is_sorted = sorted(set_of_lowercase_words)\n",
    "print(set_of_lowercase_words_that_is_sorted)"
   ]
  },
  {
   "cell_type": "markdown",
   "id": "631f5573",
   "metadata": {
    "slideshow": {
     "slide_type": "slide"
    }
   },
   "source": [
    "# Exercise 2.7 \n",
    "\n",
    "Compare the lengths of the preceding list and set. \n",
    "\n",
    "If not equal, give the difference."
   ]
  },
  {
   "cell_type": "code",
   "execution_count": 34,
   "id": "2d5d2b21",
   "metadata": {
    "slideshow": {
     "slide_type": "subslide"
    },
    "tags": []
   },
   "outputs": [],
   "source": [
    "mylist = mystring.replace('.', '').lower().split()\n",
    "myset = set(mylist)"
   ]
  },
  {
   "cell_type": "code",
   "execution_count": 35,
   "id": "ab1fe177",
   "metadata": {
    "slideshow": {
     "slide_type": "-"
    },
    "tags": []
   },
   "outputs": [
    {
     "data": {
      "text/plain": [
       "False"
      ]
     },
     "execution_count": 35,
     "metadata": {},
     "output_type": "execute_result"
    }
   ],
   "source": [
    "len(mylist) == len(myset)"
   ]
  },
  {
   "cell_type": "code",
   "execution_count": 36,
   "id": "b9e3a968",
   "metadata": {},
   "outputs": [
    {
     "data": {
      "text/plain": [
       "1"
      ]
     },
     "execution_count": 36,
     "metadata": {},
     "output_type": "execute_result"
    }
   ],
   "source": [
    "abs(len(mylist) - len(myset))"
   ]
  },
  {
   "cell_type": "markdown",
   "id": "1d287a79-1bfd-4343-bc9e-13b937157b17",
   "metadata": {
    "slideshow": {
     "slide_type": "slide"
    }
   },
   "source": [
    "# Exercise 2.8\n",
    "\n",
    "Define three variables of any type.\n",
    "\n",
    "Use an `f` string to print a string containing each variable name followed by its value, using comma separators between the pairs.\n",
    "\n",
    "For example:\n",
    "\n",
    "`epoch 1, mode TRAIN, ...`"
   ]
  },
  {
   "cell_type": "code",
   "execution_count": 37,
   "id": "df6ad169-62bc-4b7e-86fb-7cf4420c5570",
   "metadata": {
    "slideshow": {
     "slide_type": "subslide"
    }
   },
   "outputs": [
    {
     "name": "stdout",
     "output_type": "stream",
     "text": [
      "epoch 1, mode TRAIN, loss 0.46\n"
     ]
    }
   ],
   "source": [
    "epoch = 1\n",
    "mode = \"TRAIN\"\n",
    "loss = 0.46\n",
    "\n",
    "print(f\"epoch {epoch}, mode {mode}, loss {loss}\")"
   ]
  },
  {
   "cell_type": "markdown",
   "id": "386017a7-e255-4bd3-b8a0-bac236858f5f",
   "metadata": {
    "slideshow": {
     "slide_type": "slide"
    }
   },
   "source": [
    "# Exercise 2.9\n",
    "\n",
    "Define two variables, assigning them floating point values. \n",
    "\n",
    "Write an expression using an operation on the two variables that will produce an value that may be cast as an integer. \n",
    "\n",
    "Next, use a logical operation that uses the integer that evaluates to `False`. Print the result with `print()`"
   ]
  },
  {
   "cell_type": "code",
   "execution_count": 38,
   "id": "e22f1f1f",
   "metadata": {
    "slideshow": {
     "slide_type": "subslide"
    }
   },
   "outputs": [
    {
     "data": {
      "text/plain": [
       "0"
      ]
     },
     "execution_count": 38,
     "metadata": {},
     "output_type": "execute_result"
    }
   ],
   "source": [
    "var1 = 1.5\n",
    "var2 = 20.5\n",
    "var3 = int(var1 // var2)\n",
    "var3"
   ]
  },
  {
   "cell_type": "code",
   "execution_count": 39,
   "id": "8b060145",
   "metadata": {
    "slideshow": {
     "slide_type": "subslide"
    }
   },
   "outputs": [],
   "source": [
    "test = var3 < 0"
   ]
  },
  {
   "cell_type": "code",
   "execution_count": 40,
   "id": "983495f8",
   "metadata": {
    "slideshow": {
     "slide_type": "subslide"
    }
   },
   "outputs": [
    {
     "name": "stdout",
     "output_type": "stream",
     "text": [
      "False\n"
     ]
    }
   ],
   "source": [
    "print(test)"
   ]
  },
  {
   "cell_type": "markdown",
   "id": "1376ec2e",
   "metadata": {
    "slideshow": {
     "slide_type": "slide"
    }
   },
   "source": [
    "# Exercise 2.10\n",
    "\n",
    "Write a Python program to print the input string in the format of the output:\n",
    "\n",
    "Input:\n",
    "\n",
    "“Twinkle, twinkle, little star, How I wonder what you are! Up above the world so high, Like a diamond in the sky. Twinkle, twinkle, little star, How I wonder what you are”\n",
    "\n",
    "Output:\n",
    "\n",
    "```\n",
    "Twinkle, twinkle, little star,\n",
    "\tHow I wonder what you are! \n",
    "\t\tUp above the world so high,   \t\t\n",
    "\t\tLike a diamond in the sky. \n",
    "Twinkle, twinkle, little star, \n",
    "\tHow I wonder what you are\n",
    "```"
   ]
  },
  {
   "cell_type": "markdown",
   "id": "677b8ce7",
   "metadata": {
    "slideshow": {
     "slide_type": "subslide"
    }
   },
   "source": [
    "## Solution 1"
   ]
  },
  {
   "cell_type": "code",
   "execution_count": 41,
   "id": "64d0fd14",
   "metadata": {
    "scrolled": false
   },
   "outputs": [
    {
     "name": "stdout",
     "output_type": "stream",
     "text": [
      "Twinkle, twinkle, little star, \n",
      "\tHow I wonder what you are! \n",
      "\t\tUp above the world so high, \n",
      "\t\tLike a diamond in the sky. \n",
      "Twinkle, twinkle, little star, \n",
      "\tHow I wonder what you are!\n"
     ]
    }
   ],
   "source": [
    "print(\"Twinkle, twinkle, little star, \\n\\tHow I wonder what you are! \\n\\t\\tUp above the world so high, \\n\\t\\tLike a diamond in the sky. \\nTwinkle, twinkle, little star, \\n\\tHow I wonder what you are!\")"
   ]
  },
  {
   "cell_type": "markdown",
   "id": "54278858",
   "metadata": {
    "slideshow": {
     "slide_type": "subslide"
    }
   },
   "source": [
    "## Solution 2"
   ]
  },
  {
   "cell_type": "code",
   "execution_count": 42,
   "id": "332438f5",
   "metadata": {},
   "outputs": [],
   "source": [
    "msg = \"\"\"\n",
    "Twinkle, twinkle, little star, \n",
    "\\tHow I wonder what you are! \n",
    "\\t\\tUp above the world so high, \n",
    "\\t\\tLike a diamond in the sky. \n",
    "Twinkle, twinkle, little star, \n",
    "\\tHow I wonder what you are!\n",
    "\"\"\""
   ]
  },
  {
   "cell_type": "code",
   "execution_count": 43,
   "id": "f130c8fa",
   "metadata": {
    "scrolled": true
   },
   "outputs": [
    {
     "name": "stdout",
     "output_type": "stream",
     "text": [
      "\n",
      "Twinkle, twinkle, little star, \n",
      "\tHow I wonder what you are! \n",
      "\t\tUp above the world so high, \n",
      "\t\tLike a diamond in the sky. \n",
      "Twinkle, twinkle, little star, \n",
      "\tHow I wonder what you are!\n",
      "\n"
     ]
    }
   ],
   "source": [
    "print(msg)"
   ]
  }
 ],
 "metadata": {
  "celltoolbar": "Slideshow",
  "kernelspec": {
   "display_name": "Python 3 (ipykernel)",
   "language": "python",
   "name": "python3"
  },
  "language_info": {
   "codemirror_mode": {
    "name": "ipython",
    "version": 3
   },
   "file_extension": ".py",
   "mimetype": "text/x-python",
   "name": "python",
   "nbconvert_exporter": "python",
   "pygments_lexer": "ipython3",
   "version": "3.9.12"
  },
  "latex_envs": {
   "LaTeX_envs_menu_present": true,
   "autoclose": false,
   "autocomplete": true,
   "bibliofile": "biblio.bib",
   "cite_by": "apalike",
   "current_citInitial": 1,
   "eqLabelWithNumbers": true,
   "eqNumInitial": 1,
   "hotkeys": {
    "equation": "Ctrl-E",
    "itemize": "Ctrl-I"
   },
   "labels_anchors": false,
   "latex_user_defs": false,
   "report_style_numbering": false,
   "user_envs_cfg": false
  },
  "toc": {
   "base_numbering": 1,
   "nav_menu": {},
   "number_sections": false,
   "sideBar": true,
   "skip_h1_title": false,
   "title_cell": "Table of Contents",
   "title_sidebar": "Contents",
   "toc_cell": false,
   "toc_position": {},
   "toc_section_display": true,
   "toc_window_display": false
  },
  "varInspector": {
   "cols": {
    "lenName": 16,
    "lenType": 16,
    "lenVar": 40
   },
   "kernels_config": {
    "python": {
     "delete_cmd_postfix": "",
     "delete_cmd_prefix": "del ",
     "library": "var_list.py",
     "varRefreshCmd": "print(var_dic_list())"
    },
    "r": {
     "delete_cmd_postfix": ") ",
     "delete_cmd_prefix": "rm(",
     "library": "var_list.r",
     "varRefreshCmd": "cat(var_dic_list()) "
    }
   },
   "types_to_exclude": [
    "module",
    "function",
    "builtin_function_or_method",
    "instance",
    "_Feature"
   ],
   "window_display": false
  },
  "widgets": {
   "application/vnd.jupyter.widget-state+json": {
    "state": {},
    "version_major": 2,
    "version_minor": 0
   }
  }
 },
 "nbformat": 4,
 "nbformat_minor": 5
}
