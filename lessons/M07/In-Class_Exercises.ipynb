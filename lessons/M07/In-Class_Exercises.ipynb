{
 "cells": [
  {
   "cell_type": "markdown",
   "id": "6fa114d0",
   "metadata": {},
   "source": [
    "# Exercise 7.1\n",
    "\n",
    "Creat your own class with the following:\n",
    "* a docstring\n",
    "* a static attribute\n",
    "* an `__init__` function that takes one required argument and sets an instance attribute to that value\n",
    "* a method that operates on the two attributes and prints the result"
   ]
  },
  {
   "cell_type": "code",
   "execution_count": 1,
   "id": "65343d17",
   "metadata": {},
   "outputs": [],
   "source": [
    "class MyClass():\n",
    "    '''\n",
    "    A docstring\n",
    "    '''\n",
    "    \n",
    "    static_attribute = \"value of static attribute\"\n",
    "    \n",
    "    def __init__(self, parameter):\n",
    "        self.instance_attribute = parameter\n",
    "        \n",
    "    def add(self):\n",
    "        self.result = MyClass.static_attribute + ', ' + self.instance_attribute\n",
    "        print(self.result)"
   ]
  },
  {
   "cell_type": "markdown",
   "id": "34e31edb",
   "metadata": {},
   "source": [
    "# Exercise 7.2\n",
    "\n",
    "Now that you've defined your class, create an object by passing the argument required by `__init__`.\n",
    "\n",
    "Use `object.attribute` to show the two attributes.\n",
    "\n",
    "Then use the method."
   ]
  },
  {
   "cell_type": "code",
   "execution_count": 2,
   "id": "6c48a198",
   "metadata": {},
   "outputs": [
    {
     "name": "stdout",
     "output_type": "stream",
     "text": [
      "value of static attribute\n",
      "value of instance attribute\n",
      "value of static attribute, value of instance attribute\n"
     ]
    }
   ],
   "source": [
    "object = MyClass(\"value of instance attribute\")\n",
    "print(object.static_attribute)\n",
    "print(object.instance_attribute)\n",
    "object.add()"
   ]
  },
  {
   "cell_type": "markdown",
   "id": "b48a2362",
   "metadata": {},
   "source": [
    "# Exercise 7.3\n",
    "\n",
    "Create a class called `Student` that contains a student's grades for a given class.\n",
    "* It should store the grades a pandas Series of type float, with the index being the assignment name.\n",
    "* It should have an initialization method that takes the student's full name and user ID.\n",
    "* It should have a method to add an assignment with its grade to the Series object.\n",
    "    * Hint: To add a new observation (row) to a Series, you can do this: `foo.loc['new_key'] = new_value`\n",
    "* It should also have a method to plot the student's grades a a bar chart.\n",
    "    * The plot should have a title stating the student's name, and ID in parentheses"
   ]
  },
  {
   "cell_type": "code",
   "execution_count": 3,
   "id": "08cc1a40",
   "metadata": {},
   "outputs": [],
   "source": [
    "import pandas as pd\n",
    "\n",
    "class Student:\n",
    "    \n",
    "    def __init__(self, name, id):\n",
    "        self.name = name\n",
    "        self.id = id\n",
    "        self.grades = pd.Series(dtype = float)\n",
    "        \n",
    "    def add_grade(self, assignment, grade):\n",
    "        self.grades.loc[assignment] = grade\n",
    "        \n",
    "    def show_grades(self):\n",
    "        self.grades.plot.bar(title = f'Grades for {self.name} ({self.id})')"
   ]
  },
  {
   "cell_type": "markdown",
   "id": "58f0275c",
   "metadata": {},
   "source": [
    "# Exercise 7.3a\n",
    "\n",
    "Create three instances, each with four grades.\n",
    "* Use HW01, HW02, HW03, and HW04 as assignment names.\n",
    "* Call the plot method for each."
   ]
  },
  {
   "cell_type": "code",
   "execution_count": 4,
   "id": "105c446e",
   "metadata": {},
   "outputs": [
    {
     "data": {
      "image/png": "[encoded data removed]",
      "text/plain": [
       "<Figure size 432x288 with 1 Axes>"
      ]
     },
     "metadata": {
      "needs_background": "light"
     },
     "output_type": "display_data"
    }
   ],
   "source": [
    "student_1 = Student('Student 1', '1')\n",
    "student_1.add_grade('HW01', 100)\n",
    "student_1.add_grade('HW02', 95)\n",
    "student_1.add_grade('HW03', 91)\n",
    "student_1.add_grade('HW04', 98)\n",
    "student_1.show_grades()"
   ]
  },
  {
   "cell_type": "markdown",
   "id": "69ff803e",
   "metadata": {},
   "source": [
    "# Exercise 7.4\n",
    "\n",
    "The fictitious global e-commerce and cloud computing juggernaut UVAWS offers cloud computing as a service with a range of service options. You will define and use a class that instantiates a cloud server. Define a class with these requirements:\n",
    "* Name: V3\n",
    "* Attributes:\n",
    "    * `instance_size`: a string representing one of `small`, `medium`, and `large`\n",
    "    * `num_vcpus`: an integer representing the number of virtual CPU's\n",
    "    * `memory`: an integer representing the number of gigabytes\n",
    "    * `disk_space`: an float representing the number of terabytes\n",
    "* Methods (with parameters):\n",
    "    * `add_disk_space(amt_to_add)`: This adds disk space to the current disk space.\n",
    "        * `amt_to_add` will be a float.\n",
    "    * `has_enough_disk_space(amt_required)`: This checks if the amount required is available.\n",
    "        * `amt_required` will be a float.\n",
    "        * Use natural language to print an appropriate response while also returning a boolean value.\n",
    "    * `__init__()`: This sets all of the attributes above."
   ]
  },
  {
   "cell_type": "code",
   "execution_count": 5,
   "id": "c74f6399",
   "metadata": {},
   "outputs": [],
   "source": [
    "class V3():\n",
    "    \n",
    "    def __init__(self, instance_size, num_vcpus, memory, disk_space):\n",
    "        self.instance_size = instance_size\n",
    "        self.num_vcpus = num_vcpus\n",
    "        self.memory = memory\n",
    "        self.disk_space = disk_space\n",
    "        \n",
    "    def add_disk_space(self, amt_to_add):\n",
    "        self.disk_space += amt_to_add\n",
    "        \n",
    "    def has_enough_disk_space(self, amt_required):\n",
    "        if self.disk_space >= amt_required:\n",
    "            print('You have enough disk space!')\n",
    "            return True\n",
    "        else:\n",
    "            print('You don\\'t have enough disk space!')\n",
    "            return False"
   ]
  },
  {
   "cell_type": "markdown",
   "id": "7695d849",
   "metadata": {},
   "source": [
    "# Exercise 7.5\n",
    "\n",
    "Instantiate a V3 object with these attribute values:\n",
    "* `instance_size`: `'large'`\n",
    "* `num_vcpus`: 32\n",
    "* `memory`: 256\n",
    "* `disk_space`: 1.\n",
    "\n",
    "Then:\n",
    "1. Add $2.0 \\ TB$ of disk space to the instance.\n",
    "2. Display the updated disk space using the dot operator to display the attribute.\n",
    "3. See if the instance has enough disk space, using a request of $10.0 \\ TB$."
   ]
  },
  {
   "cell_type": "code",
   "execution_count": 6,
   "id": "f1489048",
   "metadata": {},
   "outputs": [
    {
     "name": "stdout",
     "output_type": "stream",
     "text": [
      "3.0\n",
      "You don't have enough disk space!\n"
     ]
    },
    {
     "data": {
      "text/plain": [
       "False"
      ]
     },
     "execution_count": 6,
     "metadata": {},
     "output_type": "execute_result"
    }
   ],
   "source": [
    "my_v3 = V3('large', 32, 256, 1.)\n",
    "my_v3.add_disk_space(2.)\n",
    "print(my_v3.disk_space)\n",
    "my_v3.has_enough_disk_space(10.)"
   ]
  },
  {
   "cell_type": "markdown",
   "id": "746b4c98",
   "metadata": {},
   "source": [
    "# Exercise 7.6\n",
    "\n",
    "Write a Python class named Circle constructed by a radius and two methods which will compute the area and the perimeter of the circle."
   ]
  },
  {
   "cell_type": "code",
   "execution_count": 7,
   "id": "bb131601",
   "metadata": {},
   "outputs": [],
   "source": [
    "class Circle():\n",
    "    \n",
    "    PI = 3.14\n",
    "    \n",
    "    def __init__(self, r):\n",
    "        self.radius = r\n",
    "        \n",
    "    def area(self):\n",
    "        return self.radius**2 * self.PI\n",
    "    \n",
    "    def perimeter(self):\n",
    "        return 2 * self.radius * self.PI"
   ]
  },
  {
   "cell_type": "code",
   "execution_count": 8,
   "id": "ce859f97",
   "metadata": {},
   "outputs": [
    {
     "name": "stdout",
     "output_type": "stream",
     "text": [
      "200.96\n",
      "50.24\n"
     ]
    }
   ],
   "source": [
    "my_circle = Circle(8)\n",
    "print(my_circle.area())\n",
    "print(my_circle.perimeter())"
   ]
  },
  {
   "cell_type": "code",
   "execution_count": null,
   "id": "f6ada89e",
   "metadata": {},
   "outputs": [],
   "source": []
  }
 ],
 "metadata": {
  "kernelspec": {
   "display_name": "Python 3 (ipykernel)",
   "language": "python",
   "name": "python3"
  },
  "language_info": {
   "codemirror_mode": {
    "name": "ipython",
    "version": 3
   },
   "file_extension": ".py",
   "mimetype": "text/x-python",
   "name": "python",
   "nbconvert_exporter": "python",
   "pygments_lexer": "ipython3",
   "version": "3.9.12"
  }
 },
 "nbformat": 4,
 "nbformat_minor": 5
}
