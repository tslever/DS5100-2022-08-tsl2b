{
 "cells": [
  {
   "cell_type": "markdown",
   "metadata": {},
   "source": [
    "# hw04\n",
    "\n",
    "## Metadata\n",
    "\n",
    "```{yaml}\n",
    "Name:    hw04\n",
    "URL:     https://github.com/tslever/DS5100-2022-08-tsl2b/blob/main/lessons/M04/hw04.ipynb\n",
    "Course:  DS 5100\n",
    "Term:    Fall 2022 Online\n",
    "Module:  M04: Functions\n",
    "Author:  Tom Lever\n",
    "Net ID:  tsl2b\n",
    "Created: 13 September 2022\n",
    "Updated: 13 September 2022\n",
    "```"
   ]
  },
  {
   "cell_type": "markdown",
   "metadata": {},
   "source": [
    "## Overview\n",
    "\n",
    "In this homework, you will work with the [Forest Fires Data Set from UCI](https://archive.ics.uci.edu/ml/datasets/Forest+Fires).\n",
    "\n",
    "There is a local copy of these data as a CSV file in the directory `DS5100-2022-08-O/lessons/M04_PythonFunctions/HW`.\n",
    "\n",
    "You will create a group of related functions to process these data.\n",
    "\n",
    "This notebook will set the table for you by importing and structuring the data first.\n",
    "\n",
    "\n",
    "## Setting Up\n",
    "\n",
    "First, we read in our local copy of the data set and save it as a list of lines."
   ]
  },
  {
   "cell_type": "code",
   "execution_count": 1,
   "metadata": {},
   "outputs": [
    {
     "name": "stdout",
     "output_type": "stream",
     "text": [
      "<class 'list'>\n"
     ]
    }
   ],
   "source": [
    "import os\n",
    "path = None\n",
    "if os.name == 'posix':\n",
    "    path = \"~/Documents/DS5100-2022-08-O/lessons/M04_PythonFunctions/HW/uci_mldb_forestfires.csv\"\n",
    "elif os.name == 'nt':\n",
    "    path = os.environ['USERPROFILE'] + \"/Documents/DS5100-2022-08-O/lessons/M04_PythonFunctions/HW/uci_mldb_forestfires.csv\"\n",
    "list_of_file_lines = None\n",
    "with open(path, 'r') as file:\n",
    "    list_of_file_lines = file.readlines()\n",
    "print(type(list_of_file_lines))"
   ]
  },
  {
   "cell_type": "markdown",
   "metadata": {},
   "source": [
    "Then, we inspect the first ten lines, replacing commas with tabs for readability."
   ]
  },
  {
   "cell_type": "code",
   "execution_count": 2,
   "metadata": {},
   "outputs": [
    {
     "name": "stdout",
     "output_type": "stream",
     "text": [
      "X\tY\tmonth\tday\tFFMC\tDMC\tDC\tISI\ttemp\tRH\twind\train\tarea\n",
      "7\t5\tmar\tfri\t86.2\t26.2\t94.3\t5.1\t8.2\t51\t6.7\t0.0\t0.0\n",
      "7\t4\toct\ttue\t90.6\t35.4\t669.1\t6.7\t18.0\t33\t0.9\t0.0\t0.0\n",
      "7\t4\toct\tsat\t90.6\t43.7\t686.9\t6.7\t14.6\t33\t1.3\t0.0\t0.0\n",
      "8\t6\tmar\tfri\t91.7\t33.3\t77.5\t9.0\t8.3\t97\t4.0\t0.2\t0.0\n",
      "8\t6\tmar\tsun\t89.3\t51.3\t102.2\t9.6\t11.4\t99\t1.8\t0.0\t0.0\n",
      "8\t6\taug\tsun\t92.3\t85.3\t488.0\t14.7\t22.2\t29\t5.4\t0.0\t0.0\n",
      "8\t6\taug\tmon\t92.3\t88.9\t495.6\t8.5\t24.1\t27\t3.1\t0.0\t0.0\n",
      "8\t6\taug\tmon\t91.5\t145.4\t608.2\t10.7\t8.0\t86\t2.2\t0.0\t0.0\n",
      "8\t6\tsep\ttue\t91.0\t129.5\t692.6\t7.0\t13.1\t63\t5.4\t0.0\t0.0\n"
     ]
    }
   ],
   "source": [
    "for file_line in list_of_file_lines[:10]:\n",
    "    file_line = file_line.replace(',', '\\t')\n",
    "    print(file_line, end='')"
   ]
  },
  {
   "cell_type": "markdown",
   "metadata": {},
   "source": [
    "## Convert Data Set into Dataframe-like Data Structure\n",
    "\n",
    "We use a helper function to convert the data set into a dataframe-like dictionary.\n",
    "\n",
    "That is, we convert a list of rows into a dictionary of columns, where each column is cast to the appropriate data type.\n",
    "\n",
    "Later, we will use pandas and R dataframes to do this work.\n",
    "\n",
    "First, we define the data types by inspecting the data and creating a dictionary of lambda functions to do our casting."
   ]
  },
  {
   "cell_type": "code",
   "execution_count": 3,
   "metadata": {},
   "outputs": [],
   "source": [
    "list_of_data_types = ['i', 'i', 's', 's', 'f', 'f', 'f', 'f', 'f', 'i', 'f', 'f', 'f']\n",
    "dictionary_of_data_types_and_casters = {\n",
    "    'i': lambda x: int(x),\n",
    "    's': lambda x: str(x),\n",
    "    'f': lambda x: float(x)\n",
    "}"
   ]
  },
  {
   "cell_type": "markdown",
   "metadata": {},
   "source": [
    "Next, we grab the column names from the first row.\n",
    "\n",
    "Note that `strip` is a string function that removes extra whitespace from before and after a string."
   ]
  },
  {
   "cell_type": "code",
   "execution_count": 4,
   "metadata": {},
   "outputs": [],
   "source": [
    "list_of_column_names = list_of_file_lines[0].strip().split(',')"
   ]
  },
  {
   "cell_type": "markdown",
   "metadata": {},
   "source": [
    "Finally, we iterate through the list of file lines and flip data values into a dictionary of column names and lists of column values."
   ]
  },
  {
   "cell_type": "code",
   "execution_count": 5,
   "metadata": {},
   "outputs": [],
   "source": [
    "list_of_data_lines = [line.strip().split(',') for line in list_of_file_lines[1:]]\n",
    "dictionary_of_column_names_and_lists_of_column_values = {column_name: [] for column_name in list_of_column_names}\n",
    "for data_line in list_of_data_lines:\n",
    "    for column_index, column_value in enumerate(data_line):\n",
    "        column_name = list_of_column_names[column_index]\n",
    "        list_of_data_values = dictionary_of_column_names_and_lists_of_column_values[column_name]\n",
    "        data_type = list_of_data_types[column_index]\n",
    "        caster = dictionary_of_data_types_and_casters[data_type]\n",
    "        cast_column_value = caster(column_value)\n",
    "        list_of_data_values.append(cast_column_value)"
   ]
  },
  {
   "cell_type": "markdown",
   "metadata": {},
   "source": [
    "Test to see if it worked."
   ]
  },
  {
   "cell_type": "code",
   "execution_count": 6,
   "metadata": {},
   "outputs": [
    {
     "data": {
      "text/plain": [
       "[5, 4, 4, 6, 6]"
      ]
     },
     "execution_count": 6,
     "metadata": {},
     "output_type": "execute_result"
    }
   ],
   "source": [
    "dictionary_of_column_names_and_lists_of_column_values['Y'][:5]"
   ]
  },
  {
   "cell_type": "markdown",
   "metadata": {},
   "source": [
    "## Working with Spatial Coordinates `X` and `Y`\n",
    "\n",
    "For the first tasks, we grab the first two columns in our table, which define the spatial coordinates within the Monteshino park map."
   ]
  },
  {
   "cell_type": "code",
   "execution_count": 7,
   "metadata": {},
   "outputs": [
    {
     "name": "stdout",
     "output_type": "stream",
     "text": [
      "[7, 7, 7, 8, 8, 8, 8, 8, 8, 7]\n",
      "[5, 4, 4, 6, 6, 6, 6, 6, 6, 5]\n"
     ]
    }
   ],
   "source": [
    "X = dictionary_of_column_names_and_lists_of_column_values['X']\n",
    "Y = dictionary_of_column_names_and_lists_of_column_values['Y']\n",
    "print(X[:10])\n",
    "print(Y[:10])"
   ]
  },
  {
   "cell_type": "markdown",
   "metadata": {},
   "source": [
    "## Tasks\n",
    "\n",
    "### Task 1\n",
    "\n",
    "(2 points)\n",
    "\n",
    "Write a function called `coord_builder()` with these requirements:\n",
    "\n",
    "* Takes two lists, `X` and `Y`, as inputs. `X` and `Y` must be of equal length.\n",
    "* Returns a list of tuples $[(x_1, y_1), (x_2, y_2), ..., (x_n, y_n)]$, where $(x_i, y_i)$ are the ordered pairs from `X` and `Y`.\n",
    "* Uses the `zip` function to create the returned list.\n",
    "* Uses a list comprehension to actually build the returned list.\n",
    "* Contains a docstring with a short description of the function."
   ]
  },
  {
   "cell_type": "code",
   "execution_count": 16,
   "metadata": {},
   "outputs": [],
   "source": [
    "def coord_builder(X: list, Y: list) -> list:\n",
    "    '''\n",
    "    PURPOSE: Given a list of X coordinates and a list of Y coordinates, provides a list of (X, Y) coordinate pairs\n",
    "    INPUTS:\n",
    "        X: list of real numbers\n",
    "        Y: list of real numbers\n",
    "    OUTPUTS:\n",
    "        list_of_coordinate_pairs\n",
    "    '''\n",
    "    \n",
    "    if (len(X) != len(Y)):\n",
    "        raise AssertionError('Length of list X is not equal to length of list Y.')\n",
    "    zip_of_coordinate_pairs = zip(X, Y)\n",
    "    list_of_coordinate_pairs = [coordinate_pair for coordinate_pair in zip_of_coordinate_pairs]\n",
    "    return list_of_coordinate_pairs"
   ]
  },
  {
   "cell_type": "markdown",
   "metadata": {},
   "source": [
    "### Task 2\n",
    "\n",
    "(1 point)\n",
    "\n",
    "Call your `coord_builder` function, passing in `X` and `Y`.\n",
    "\n",
    "Then print the first ten tuples."
   ]
  },
  {
   "cell_type": "code",
   "execution_count": 17,
   "metadata": {},
   "outputs": [
    {
     "name": "stdout",
     "output_type": "stream",
     "text": [
      "(7, 5)\n",
      "(7, 4)\n",
      "(7, 4)\n",
      "(8, 6)\n",
      "(8, 6)\n",
      "(8, 6)\n",
      "(8, 6)\n",
      "(8, 6)\n",
      "(8, 6)\n",
      "(7, 5)\n"
     ]
    }
   ],
   "source": [
    "list_of_coordinate_pairs = coord_builder(X, Y)\n",
    "_ = [print(coordinate_pair) for coordinate_pair in list_of_coordinate_pairs[0:10]]"
   ]
  },
  {
   "cell_type": "markdown",
   "metadata": {},
   "source": [
    "## Working with area\n",
    "\n",
    "Next, we work with the area column of our dictionary of column names and lists of column values."
   ]
  },
  {
   "cell_type": "code",
   "execution_count": 18,
   "metadata": {},
   "outputs": [
    {
     "data": {
      "text/plain": [
       "[0.0, 0.0, 2.17, 0.43, 0.0, 6.44, 54.29, 11.16, 0.0, 0.0]"
      ]
     },
     "execution_count": 18,
     "metadata": {},
     "output_type": "execute_result"
    }
   ],
   "source": [
    "list_of_areas = dictionary_of_column_names_and_lists_of_column_values['area']\n",
    "list_of_areas[-10:]"
   ]
  },
  {
   "cell_type": "markdown",
   "metadata": {},
   "source": [
    "### Task 3\n",
    "\n",
    "(1 point)\n",
    "\n",
    "Write code to print the minimum area and maximum area in a tuple `(min_value, max_value)`."
   ]
  },
  {
   "cell_type": "code",
   "execution_count": 19,
   "metadata": {},
   "outputs": [
    {
     "name": "stdout",
     "output_type": "stream",
     "text": [
      "(0.0, 1090.84)\n",
      "<class 'tuple'>\n",
      "<class 'float'>\n",
      "<class 'float'>\n"
     ]
    }
   ],
   "source": [
    "(min_value, max_value) = (min(list_of_areas), max(list_of_areas))\n",
    "print((min_value, max_value))\n",
    "print(type((min_value, max_value)))\n",
    "print(type(min_value))\n",
    "print(type(max_value))"
   ]
  },
  {
   "cell_type": "markdown",
   "metadata": {},
   "source": [
    "### Task 4\n",
    "\n",
    "(2 points)\n",
    "\n",
    "Write a lambda function that applies the following function to each element $x$ in a list:\n",
    "\n",
    "> $log_{10}(1 + x)$\n",
    "\n",
    "Have the lambda function return a list of logarithms, each rounded to $2$ decimal places.\n",
    "\n",
    "Assign the function to the variable `mylog10`.\n",
    "\n",
    "Then call the lambda function on the list of areas and print the last $10$ values.\n",
    "\n",
    "Hints:\n",
    "\n",
    "* Use the `log10` function from Python's [`math` module](https://docs.python.org/3/library/math.html). You'll need to import it.\n",
    "* Use a list comprehension to make the lambda function a one-line function.\n",
    "* To get the last members of a list, use negative-offset slicing. See [the Python documentation on lists](https://docs.python.org/3/tutorial/introduction.html#lists) for a refresher on slicing."
   ]
  },
  {
   "cell_type": "code",
   "execution_count": 26,
   "metadata": {},
   "outputs": [
    {
     "name": "stdout",
     "output_type": "stream",
     "text": [
      "[0.0, 0.0, 0.5, 0.16, 0.0, 0.87, 1.74, 1.08, 0.0, 0.0]\n"
     ]
    }
   ],
   "source": [
    "from math import log10\n",
    "mylog10 = lambda list_: [round(log10(1 + x), 2) for x in list_]\n",
    "list_of_logged_areas = mylog10(list_of_areas)\n",
    "print(list_of_logged_areas[-10:])"
   ]
  },
  {
   "cell_type": "markdown",
   "metadata": {},
   "source": [
    "## Working with month\n",
    "\n",
    "The month column contains months of the year in `MMM` form (`jan` to `dec`)."
   ]
  },
  {
   "cell_type": "code",
   "execution_count": 28,
   "metadata": {},
   "outputs": [
    {
     "data": {
      "text/plain": [
       "['mar', 'oct', 'oct', 'mar', 'mar', 'aug', 'aug', 'aug', 'sep', 'sep']"
      ]
     },
     "execution_count": 28,
     "metadata": {},
     "output_type": "execute_result"
    }
   ],
   "source": [
    "list_of_months = dictionary_of_column_names_and_lists_of_column_values['month']\n",
    "list_of_months[:10]"
   ]
  },
  {
   "cell_type": "code",
   "execution_count": null,
   "metadata": {},
   "outputs": [],
   "source": []
  }
 ],
 "metadata": {
  "kernelspec": {
   "display_name": "Python 3 (ipykernel)",
   "language": "python",
   "name": "python3"
  },
  "language_info": {
   "codemirror_mode": {
    "name": "ipython",
    "version": 3
   },
   "file_extension": ".py",
   "mimetype": "text/x-python",
   "name": "python",
   "nbconvert_exporter": "python",
   "pygments_lexer": "ipython3",
   "version": "3.9.12"
  }
 },
 "nbformat": 4,
 "nbformat_minor": 4
}
