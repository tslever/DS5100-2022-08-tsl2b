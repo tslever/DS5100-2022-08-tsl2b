{
 "cells": [
  {
   "cell_type": "markdown",
   "metadata": {},
   "source": [
    "# hw04\n",
    "\n",
    "## Metadata\n",
    "\n",
    "```{yaml}\n",
    "Name:    hw04\n",
    "URL:     https://github.com/tslever/DS5100-2022-08-tsl2b/blob/main/lessons/M04/hw04.ipynb\n",
    "Course:  DS 5100\n",
    "Term:    Fall 2022 Online\n",
    "Module:  M04: Functions\n",
    "Author:  Tom Lever\n",
    "Net ID:  tsl2b\n",
    "Created: 13 September 2022\n",
    "Updated: 13 September 2022\n",
    "```"
   ]
  },
  {
   "cell_type": "markdown",
   "metadata": {},
   "source": [
    "## Overview\n",
    "\n",
    "In this homework, you will work with the [Forest Fires Data Set from UCI](https://archive.ics.uci.edu/ml/datasets/Forest+Fires).\n",
    "\n",
    "There is a local copy of these data as a CSV file in the directory `DS5100-2022-08-O/lessons/M04_PythonFunctions/HW`.\n",
    "\n",
    "You will create a group of related functions to process these data.\n",
    "\n",
    "This notebook will set the table for you by importing and structuring the data first.\n",
    "\n",
    "\n",
    "## Setting Up\n",
    "\n",
    "First, we read in our local copy of the data set and save it as a list of lines."
   ]
  },
  {
   "cell_type": "code",
   "execution_count": 1,
   "metadata": {},
   "outputs": [
    {
     "name": "stdout",
     "output_type": "stream",
     "text": [
      "<class 'list'>\n"
     ]
    }
   ],
   "source": [
    "import os\n",
    "path: str = None\n",
    "if os.name == 'posix':\n",
    "    path = \"~/Documents/DS5100-2022-08-O/lessons/M04_PythonFunctions/HW/uci_mldb_forestfires.csv\"\n",
    "elif os.name == 'nt':\n",
    "    path = os.environ['USERPROFILE'] + \"/Documents/DS5100-2022-08-O/lessons/M04_PythonFunctions/HW/uci_mldb_forestfires.csv\"\n",
    "list_of_file_lines: list[str] = None\n",
    "with open(path, 'r') as file:\n",
    "    list_of_file_lines = file.readlines()\n",
    "print(type(list_of_file_lines))"
   ]
  },
  {
   "cell_type": "markdown",
   "metadata": {},
   "source": [
    "Then, we inspect the first ten lines, replacing commas with tabs for readability."
   ]
  },
  {
   "cell_type": "code",
   "execution_count": 2,
   "metadata": {},
   "outputs": [
    {
     "name": "stdout",
     "output_type": "stream",
     "text": [
      "X\tY\tmonth\tday\tFFMC\tDMC\tDC\tISI\ttemp\tRH\twind\train\tarea\n",
      "7\t5\tmar\tfri\t86.2\t26.2\t94.3\t5.1\t8.2\t51\t6.7\t0.0\t0.0\n",
      "7\t4\toct\ttue\t90.6\t35.4\t669.1\t6.7\t18.0\t33\t0.9\t0.0\t0.0\n",
      "7\t4\toct\tsat\t90.6\t43.7\t686.9\t6.7\t14.6\t33\t1.3\t0.0\t0.0\n",
      "8\t6\tmar\tfri\t91.7\t33.3\t77.5\t9.0\t8.3\t97\t4.0\t0.2\t0.0\n",
      "8\t6\tmar\tsun\t89.3\t51.3\t102.2\t9.6\t11.4\t99\t1.8\t0.0\t0.0\n",
      "8\t6\taug\tsun\t92.3\t85.3\t488.0\t14.7\t22.2\t29\t5.4\t0.0\t0.0\n",
      "8\t6\taug\tmon\t92.3\t88.9\t495.6\t8.5\t24.1\t27\t3.1\t0.0\t0.0\n",
      "8\t6\taug\tmon\t91.5\t145.4\t608.2\t10.7\t8.0\t86\t2.2\t0.0\t0.0\n",
      "8\t6\tsep\ttue\t91.0\t129.5\t692.6\t7.0\t13.1\t63\t5.4\t0.0\t0.0\n"
     ]
    }
   ],
   "source": [
    "for file_line in list_of_file_lines[:10]:\n",
    "    file_line = file_line.replace(',', '\\t')\n",
    "    print(file_line, end='')"
   ]
  },
  {
   "cell_type": "markdown",
   "metadata": {},
   "source": [
    "## Convert Data Set into Dataframe-like Data Structure\n",
    "\n",
    "We use a helper function to convert the data set into a dataframe-like dictionary.\n",
    "\n",
    "That is, we convert a list of rows into a dictionary of columns, where each column is cast to the appropriate data type.\n",
    "\n",
    "Later, we will use pandas and R dataframes to do this work.\n",
    "\n",
    "First, we define the data types by inspecting the data and creating a dictionary of lambda functions to do our casting."
   ]
  },
  {
   "cell_type": "code",
   "execution_count": 3,
   "metadata": {},
   "outputs": [],
   "source": [
    "from typing import Callable, Any\n",
    "list_of_data_types: list[str] = ['i', 'i', 's', 's', 'f', 'f', 'f', 'f', 'f', 'i', 'f', 'f', 'f']\n",
    "dictionary_of_data_types_and_casters: dict[str, Callable[Any, Any]] = {\n",
    "    'i': lambda x: int(x),\n",
    "    's': lambda x: str(x),\n",
    "    'f': lambda x: float(x)\n",
    "}"
   ]
  },
  {
   "cell_type": "markdown",
   "metadata": {},
   "source": [
    "Next, we grab the column names from the first row.\n",
    "\n",
    "Note that `strip` is a string function that removes extra whitespace from before and after a string."
   ]
  },
  {
   "cell_type": "code",
   "execution_count": 4,
   "metadata": {},
   "outputs": [],
   "source": [
    "list_of_column_names: list[str] = list_of_file_lines[0].strip().split(',')"
   ]
  },
  {
   "cell_type": "markdown",
   "metadata": {},
   "source": [
    "Finally, we iterate through the list of file lines and flip data values into a dictionary of column names and lists of column values."
   ]
  },
  {
   "cell_type": "code",
   "execution_count": 5,
   "metadata": {},
   "outputs": [],
   "source": [
    "list_of_data_lines: list[str] = [line.strip().split(',') for line in list_of_file_lines[1:]]\n",
    "dictionary_of_column_names_and_lists_of_column_values: dict[str, list[Any]] = {column_name: [] for column_name in list_of_column_names}\n",
    "for data_line in list_of_data_lines:\n",
    "    for column_index, column_value in enumerate(data_line):\n",
    "        column_name: str = list_of_column_names[column_index]\n",
    "        list_of_data_values: list[str] = dictionary_of_column_names_and_lists_of_column_values[column_name]\n",
    "        data_type: str = list_of_data_types[column_index]\n",
    "        caster: Callable[Any, Any] = dictionary_of_data_types_and_casters[data_type]\n",
    "        cast_column_value: Any = caster(column_value)\n",
    "        list_of_data_values.append(cast_column_value)"
   ]
  },
  {
   "cell_type": "markdown",
   "metadata": {},
   "source": [
    "Test to see if it worked."
   ]
  },
  {
   "cell_type": "code",
   "execution_count": 6,
   "metadata": {},
   "outputs": [
    {
     "data": {
      "text/plain": [
       "[5, 4, 4, 6, 6]"
      ]
     },
     "execution_count": 6,
     "metadata": {},
     "output_type": "execute_result"
    }
   ],
   "source": [
    "dictionary_of_column_names_and_lists_of_column_values['Y'][:5]"
   ]
  },
  {
   "cell_type": "markdown",
   "metadata": {},
   "source": [
    "## Working with Spatial Coordinates `X` and `Y`\n",
    "\n",
    "For the first tasks, we grab the first two columns in our table, which define the spatial coordinates within the Monteshino park map."
   ]
  },
  {
   "cell_type": "code",
   "execution_count": 7,
   "metadata": {},
   "outputs": [
    {
     "name": "stdout",
     "output_type": "stream",
     "text": [
      "[7, 7, 7, 8, 8, 8, 8, 8, 8, 7]\n",
      "[5, 4, 4, 6, 6, 6, 6, 6, 6, 5]\n"
     ]
    }
   ],
   "source": [
    "X: list[int] = dictionary_of_column_names_and_lists_of_column_values['X']\n",
    "Y: list[int] = dictionary_of_column_names_and_lists_of_column_values['Y']\n",
    "print(X[:10])\n",
    "print(Y[:10])"
   ]
  },
  {
   "cell_type": "markdown",
   "metadata": {},
   "source": [
    "## Tasks\n",
    "\n",
    "### Task 1\n",
    "\n",
    "(2 points)\n",
    "\n",
    "Write a function called `coord_builder()` with these requirements:\n",
    "\n",
    "* Takes two lists, `X` and `Y`, as inputs. `X` and `Y` must be of equal length.\n",
    "* Returns a list of tuples $[(x_1, y_1), (x_2, y_2), ..., (x_n, y_n)]$, where $(x_i, y_i)$ are the ordered pairs from `X` and `Y`.\n",
    "* Uses the `zip` function to create the returned list.\n",
    "* Uses a list comprehension to actually build the returned list.\n",
    "* Contains a docstring with a short description of the function."
   ]
  },
  {
   "cell_type": "code",
   "execution_count": 8,
   "metadata": {},
   "outputs": [],
   "source": [
    "def coord_builder(X: list, Y: list) -> list:\n",
    "    '''\n",
    "    PURPOSE: Given a list of X coordinates and a list of Y coordinates, provides a list of (X, Y) coordinate pairs\n",
    "    INPUTS:\n",
    "        X: list of real numbers\n",
    "        Y: list of real numbers\n",
    "    OUTPUTS:\n",
    "        list_of_coordinate_pairs\n",
    "    '''\n",
    "    \n",
    "    if (len(X) != len(Y)):\n",
    "        raise AssertionError('Length of list X is not equal to length of list Y.')\n",
    "    zip_of_coordinate_pairs: zip = zip(X, Y)\n",
    "    list_of_coordinate_pairs: list[tuple] = [coordinate_pair for coordinate_pair in zip_of_coordinate_pairs]\n",
    "    return list_of_coordinate_pairs"
   ]
  },
  {
   "cell_type": "markdown",
   "metadata": {},
   "source": [
    "### Task 2\n",
    "\n",
    "(1 point)\n",
    "\n",
    "Call your `coord_builder` function, passing in `X` and `Y`.\n",
    "\n",
    "Then print the first ten tuples."
   ]
  },
  {
   "cell_type": "code",
   "execution_count": 9,
   "metadata": {},
   "outputs": [
    {
     "name": "stdout",
     "output_type": "stream",
     "text": [
      "(7, 5)\n",
      "(7, 4)\n",
      "(7, 4)\n",
      "(8, 6)\n",
      "(8, 6)\n",
      "(8, 6)\n",
      "(8, 6)\n",
      "(8, 6)\n",
      "(8, 6)\n",
      "(7, 5)\n"
     ]
    }
   ],
   "source": [
    "list_of_coordinate_pairs: list[tuple] = coord_builder(X, Y)\n",
    "_ = [print(coordinate_pair) for coordinate_pair in list_of_coordinate_pairs[0:10]]"
   ]
  },
  {
   "cell_type": "markdown",
   "metadata": {},
   "source": [
    "## Working with area\n",
    "\n",
    "Next, we work with the area column of our dictionary of column names and lists of column values."
   ]
  },
  {
   "cell_type": "code",
   "execution_count": 10,
   "metadata": {},
   "outputs": [
    {
     "data": {
      "text/plain": [
       "[0.0, 0.0, 2.17, 0.43, 0.0, 6.44, 54.29, 11.16, 0.0, 0.0]"
      ]
     },
     "execution_count": 10,
     "metadata": {},
     "output_type": "execute_result"
    }
   ],
   "source": [
    "list_of_areas: list[float] = dictionary_of_column_names_and_lists_of_column_values['area']\n",
    "list_of_areas[-10:]"
   ]
  },
  {
   "cell_type": "markdown",
   "metadata": {},
   "source": [
    "### Task 3\n",
    "\n",
    "(1 point)\n",
    "\n",
    "Write code to print the minimum area and maximum area in a tuple `(min_value, max_value)`."
   ]
  },
  {
   "cell_type": "code",
   "execution_count": 11,
   "metadata": {},
   "outputs": [
    {
     "name": "stdout",
     "output_type": "stream",
     "text": [
      "(0.0, 1090.84)\n",
      "<class 'tuple'>\n",
      "<class 'float'>\n",
      "<class 'float'>\n"
     ]
    }
   ],
   "source": [
    "(min_value, max_value) = (min(list_of_areas), max(list_of_areas))\n",
    "print((min_value, max_value))\n",
    "print(type((min_value, max_value)))\n",
    "print(type(min_value))\n",
    "print(type(max_value))"
   ]
  },
  {
   "cell_type": "markdown",
   "metadata": {},
   "source": [
    "### Task 4\n",
    "\n",
    "(2 points)\n",
    "\n",
    "Write a lambda function that applies the following function to each element $x$ in a list:\n",
    "\n",
    "> $log_{10}(1 + x)$\n",
    "\n",
    "Have the lambda function return a list of logarithms, each rounded to $2$ decimal places.\n",
    "\n",
    "Assign the function to the variable `mylog10`.\n",
    "\n",
    "Then call the lambda function on the list of areas and print the last $10$ values.\n",
    "\n",
    "Hints:\n",
    "\n",
    "* Use the `log10` function from Python's [`math` module](https://docs.python.org/3/library/math.html). You'll need to import it.\n",
    "* Use a list comprehension to make the lambda function a one-line function.\n",
    "* To get the last members of a list, use negative-offset slicing. See [the Python documentation on lists](https://docs.python.org/3/tutorial/introduction.html#lists) for a refresher on slicing."
   ]
  },
  {
   "cell_type": "code",
   "execution_count": 12,
   "metadata": {},
   "outputs": [
    {
     "name": "stdout",
     "output_type": "stream",
     "text": [
      "[0.0, 0.0, 0.5, 0.16, 0.0, 0.87, 1.74, 1.08, 0.0, 0.0]\n"
     ]
    }
   ],
   "source": [
    "from math import log10\n",
    "mylog10: Callable[list[float], list[float]] = lambda list_: [round(log10(1 + x), 2) for x in list_]\n",
    "list_of_logged_areas: list[float] = mylog10(list_of_areas)\n",
    "print(list_of_logged_areas[-10:])"
   ]
  },
  {
   "cell_type": "markdown",
   "metadata": {},
   "source": [
    "## Working with month\n",
    "\n",
    "The month column contains months of the year in `MMM` form (`jan` to `dec`)."
   ]
  },
  {
   "cell_type": "code",
   "execution_count": 13,
   "metadata": {},
   "outputs": [
    {
     "data": {
      "text/plain": [
       "['mar', 'oct', 'oct', 'mar', 'mar', 'aug', 'aug', 'aug', 'sep', 'sep']"
      ]
     },
     "execution_count": 13,
     "metadata": {},
     "output_type": "execute_result"
    }
   ],
   "source": [
    "list_of_months: list[str] = dictionary_of_column_names_and_lists_of_column_values['month']\n",
    "list_of_months[:10]"
   ]
  },
  {
   "cell_type": "markdown",
   "metadata": {},
   "source": [
    "### Task 5\n",
    "\n",
    "(1 point)\n",
    "\n",
    "Create a function called `get_uniques` that extracts the unique values from a list.\n",
    "\n",
    "* Do not use `set`. Instead, use a dictionary comprehension to capture the unique names.\n",
    "* Hint: The keys in a dictionary are unique.\n",
    "* Hint: You do not need to count how many times a name appears in the source list.\n",
    "\n",
    "The function should optionally return the list sorted in ascending order.\n",
    "\n",
    "Then apply the function to the list of months with sorting turned on.\n",
    "\n",
    "Then print the unique months."
   ]
  },
  {
   "cell_type": "code",
   "execution_count": 14,
   "metadata": {},
   "outputs": [
    {
     "name": "stdout",
     "output_type": "stream",
     "text": [
      "['jan', 'feb', 'mar', 'apr', 'may', 'jun', 'jul', 'aug', 'sep', 'oct', 'nov', 'dec']\n"
     ]
    }
   ],
   "source": [
    "def get_uniques(list_: list, sort: bool = True) -> list:\n",
    "    dictionary_of_unique_elements_as_keys_and_values: dict[Any, Any] = {element: element for element in list_}\n",
    "    list_of_unique_elements: list[str] = list(dictionary_of_unique_elements_as_keys_and_values.keys())\n",
    "    if sort == False:\n",
    "        return list_of_unique_elements\n",
    "    else:\n",
    "        month_order: list[str] = [\"jan\", \"feb\", \"mar\", \"apr\", \"may\", \"jun\", \"jul\", \"aug\", \"sep\", \"oct\", \"nov\", \"dec\"]\n",
    "        return sorted(list_of_unique_elements, key = lambda x: month_order.index(x))\n",
    "    \n",
    "list_of_unique_months: list[str] = get_uniques(list_of_months, True)\n",
    "print(list_of_unique_months)"
   ]
  },
  {
   "cell_type": "markdown",
   "metadata": {},
   "source": [
    "### Task 6\n",
    "\n",
    "(1 point)\n",
    "\n",
    "Write a lambda function called `get_month_for_letter` that uses a list comprehension to select all months starting with a given letter from the list of unique month names you just created.\n",
    "\n",
    "The function should assume that the list of unique month names exists in the global context.\n",
    "\n",
    "The returned list should contain uppercase strings.\n",
    "\n",
    "Run and print the result with `a` as the parameter."
   ]
  },
  {
   "cell_type": "code",
   "execution_count": 15,
   "metadata": {},
   "outputs": [
    {
     "name": "stdout",
     "output_type": "stream",
     "text": [
      "['APR', 'AUG']\n"
     ]
    }
   ],
   "source": [
    "get_month_for_letter: Callable[str, list[str]] = lambda letter: [month.upper() for month in list_of_unique_months if month.startswith(letter)]\n",
    "print(get_month_for_letter('a'))"
   ]
  },
  {
   "cell_type": "markdown",
   "metadata": {},
   "source": [
    "### Task 7\n",
    "\n",
    "(2 points)\n",
    "\n",
    "Write a function called `bandpass_filter` with these requirements:\n",
    "\n",
    "* Takes three inputs:\n",
    "    * A list of numbers `num_list`"
   ]
  },
  {
   "cell_type": "code",
   "execution_count": 16,
   "metadata": {},
   "outputs": [],
   "source": [
    "def bandpass_filter(num_list: list[float], lower_bound: int, upper_bound: int):\n",
    "    return [number for number in num_list if (number > lower_bound) and (number < upper_bound)]"
   ]
  },
  {
   "cell_type": "markdown",
   "metadata": {},
   "source": [
    "### Task 8\n",
    "\n",
    "(1 point)\n",
    "\n",
    "Call `bandpass_filter`, passing column DMC as the list, with `lower_bound = 25` and `upper_bound = 35`.\n",
    "\n",
    "Then print the result."
   ]
  },
  {
   "cell_type": "code",
   "execution_count": 17,
   "metadata": {},
   "outputs": [
    {
     "name": "stdout",
     "output_type": "stream",
     "text": [
      "[26.2, 33.3, 32.8, 27.9, 27.4, 25.7, 33.3, 33.3, 30.7, 33.3, 25.7, 25.7, 25.7, 32.8, 27.2, 27.8, 26.4, 25.4, 25.4, 25.4, 25.4, 26.7, 25.4, 27.5, 28.0, 25.4]\n"
     ]
    }
   ],
   "source": [
    "list_of_Duff_Moisture_Codes: list[float] = dictionary_of_column_names_and_lists_of_column_values['DMC']\n",
    "print(bandpass_filter(list_of_Duff_Moisture_Codes, 25, 35))"
   ]
  },
  {
   "cell_type": "markdown",
   "metadata": {},
   "source": [
    "## Working with FFMC\n",
    "\n",
    "Fine Fuel Moisture Codes (FFMC's) based on the Fire Weather Index System vary from 18.70 to 96.20."
   ]
  },
  {
   "cell_type": "code",
   "execution_count": 18,
   "metadata": {},
   "outputs": [
    {
     "data": {
      "text/plain": [
       "[86.2, 90.6, 90.6, 91.7, 89.3, 92.3, 92.3, 91.5, 91.0, 92.5]"
      ]
     },
     "execution_count": 18,
     "metadata": {},
     "output_type": "execute_result"
    }
   ],
   "source": [
    "list_of_Fine_Fuel_Moisture_Codes = dictionary_of_column_names_and_lists_of_column_values['FFMC']\n",
    "list_of_Fine_Fuel_Moisture_Codes[:10]"
   ]
  },
  {
   "cell_type": "markdown",
   "metadata": {},
   "source": [
    "### Task 9\n",
    "\n",
    "(2 points)\n",
    "\n",
    "Write a lambda function `get_mean` that computes the mean $\\mu$ of a list of numbers.\n",
    "\n",
    "* The mean is just the sum of a list of numeric values divided by the length of that list.\n",
    "\n",
    "Write another lambda function `get_ssd` that computes the squared deviation of a number.\n",
    "\n",
    "* The function takes two arguments: a number from a given list and the mean of the numbers in that list.\n",
    "* The function is meant to be used in a `for` loop that iterates through a list.\n",
    "* The squared deviation of a list element $x_i$ is $(x_i - \\mu)^2$.\n",
    "\n",
    "Then write `get_sum_sq_err` with these requirements:\n",
    "\n",
    "* Takes a numeric list as input.\n",
    "* Computes the mean $\\mu$ of the list using `get_mean`.\n",
    "* Computes the sum of squared deviations for the list using a list comprehension that applies `get_ssd`.\n",
    "* Returns the sum of squared deviations."
   ]
  },
  {
   "cell_type": "code",
   "execution_count": 19,
   "metadata": {},
   "outputs": [],
   "source": [
    "get_mean: Callable[list[float], float] = lambda list_: sum(list_) / len(list_)\n",
    "get_ssd: Callable[float, float] = lambda number_from_list, mean_of_list: (number_from_list - mean_of_list)**2\n",
    "def get_sum_sq_err(list_: list[float]) -> float:\n",
    "    mean_of_list = get_mean(list_)\n",
    "    return sum([get_ssd(number, mean_of_list) for number in list_])"
   ]
  },
  {
   "cell_type": "markdown",
   "metadata": {},
   "source": [
    "### Task 10\n",
    "\n",
    "(1 point)\n",
    "\n",
    "Call `get_sum_sq_err`, passing the list of Fine Fuel Moisture Codes as the list. Print the result."
   ]
  },
  {
   "cell_type": "code",
   "execution_count": 20,
   "metadata": {},
   "outputs": [
    {
     "data": {
      "text/plain": [
       "15723.357872340412"
      ]
     },
     "execution_count": 20,
     "metadata": {},
     "output_type": "execute_result"
    }
   ],
   "source": [
    "get_sum_sq_err(list_of_Fine_Fuel_Moisture_Codes)"
   ]
  },
  {
   "cell_type": "code",
   "execution_count": null,
   "metadata": {},
   "outputs": [],
   "source": []
  }
 ],
 "metadata": {
  "kernelspec": {
   "display_name": "Python 3 (ipykernel)",
   "language": "python",
   "name": "python3"
  },
  "language_info": {
   "codemirror_mode": {
    "name": "ipython",
    "version": 3
   },
   "file_extension": ".py",
   "mimetype": "text/x-python",
   "name": "python",
   "nbconvert_exporter": "python",
   "pygments_lexer": "ipython3",
   "version": "3.9.12"
  }
 },
 "nbformat": 4,
 "nbformat_minor": 4
}
