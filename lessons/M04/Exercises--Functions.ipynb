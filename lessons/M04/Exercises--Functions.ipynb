{
 "cells": [
  {
   "cell_type": "raw",
   "id": "0d211f54",
   "metadata": {
    "slideshow": {
     "slide_type": "slide"
    }
   },
   "source": [
    "# M04 Exercises\n",
    "\n",
    "DS 5100 | Fall 2022"
   ]
  },
  {
   "cell_type": "markdown",
   "id": "ba8faf4d-eade-4d2a-b554-b5e3154f45ce",
   "metadata": {
    "slideshow": {
     "slide_type": "slide"
    }
   },
   "source": [
    "# Functions"
   ]
  },
  {
   "cell_type": "markdown",
   "id": "bb9ff26d",
   "metadata": {
    "slideshow": {
     "slide_type": "slide"
    }
   },
   "source": [
    "# Exercise 4.1\n",
    "\n",
    "Write a function with these requirements:\n",
    "- has a sensible name\n",
    "- contains a docstring\n",
    "- takes two inputs: a string, and an integer\n",
    "- returns `True` if the string length is equal to the integer, else `False`\n",
    "\n",
    "Call the function, passing inputs:  \n",
    "- `\"is this text the right length?\"` for the string\n",
    "- `30` for the integer\n",
    "\n",
    "Verify the output is `True`.  \n",
    "\n",
    "Try other combinations."
   ]
  },
  {
   "cell_type": "code",
   "execution_count": null,
   "id": "53258432-3ef6-43f2-af48-b9c321bd6324",
   "metadata": {
    "scrolled": true,
    "slideshow": {
     "slide_type": "subslide"
    },
    "tags": []
   },
   "outputs": [],
   "source": [
    "def verify_string_length(text, val):\n",
    "    \"\"\"\n",
    "    PURPOSE: check if the length of text is equal to a value\n",
    "    \n",
    "    INPUTS:\n",
    "    text   str\n",
    "    val    integer\n",
    "    \n",
    "    OUTPUTS:\n",
    "    bool, check\n",
    "    \"\"\"\n",
    "    \n",
    "    check = len(text) == val\n",
    "    return check\n",
    "\n",
    "txt = 'is this text the right length?'\n",
    "val = 30\n",
    "out = verify_string_length(txt, val)\n",
    "out"
   ]
  },
  {
   "cell_type": "code",
   "execution_count": 1,
   "id": "df4c5277",
   "metadata": {},
   "outputs": [
    {
     "name": "stdout",
     "output_type": "stream",
     "text": [
      "True\n",
      "True\n",
      "False\n"
     ]
    }
   ],
   "source": [
    "def verify_string_length(string: str, length: int) -> bool:\n",
    "    '''\n",
    "    PURPOSE: Checks if the length of an input string is equal to a given length\n",
    "    INPUTS:\n",
    "        string\n",
    "        length\n",
    "    OUTPUTS:\n",
    "        True if string length is equal to integer and False otherwise\n",
    "    '''\n",
    "    \n",
    "    if len(string) == length:\n",
    "        return True\n",
    "    else:\n",
    "        return False\n",
    "    \n",
    "string = 'is this text the right length?'\n",
    "length = 30\n",
    "print(verify_string_length(string, length))\n",
    "print(verify_string_length(\"three\", 5))\n",
    "print(verify_string_length(\"three\", 6))"
   ]
  },
  {
   "cell_type": "markdown",
   "id": "9d430a61-602a-468b-aa37-e214b2dd1dc7",
   "metadata": {
    "slideshow": {
     "slide_type": "slide"
    }
   },
   "source": [
    "# Exercise 4.2\n",
    "\n",
    "Write a function with these requirements:\n",
    "- takes `*args` for the input argument\n",
    "- squares each argument, printing the value. You can use a `for` loop.\n",
    "- returns `None`\n",
    "\n",
    "Call the function, passing at least two integers."
   ]
  },
  {
   "cell_type": "code",
   "execution_count": null,
   "id": "2fd938ba",
   "metadata": {
    "slideshow": {
     "slide_type": "subslide"
    }
   },
   "outputs": [],
   "source": [
    "def square_args(*vars):\n",
    "    for var in vars:\n",
    "        print(var**2)\n",
    "    return None    "
   ]
  },
  {
   "cell_type": "code",
   "execution_count": null,
   "id": "b3187c25-1bf1-49a1-b135-0bab4bc929f8",
   "metadata": {
    "slideshow": {
     "slide_type": "fragment"
    }
   },
   "outputs": [],
   "source": [
    "square_args(2,3,8)"
   ]
  },
  {
   "cell_type": "code",
   "execution_count": 2,
   "id": "2e4187f8",
   "metadata": {},
   "outputs": [
    {
     "name": "stdout",
     "output_type": "stream",
     "text": [
      "16\n",
      "25\n",
      "36\n",
      "49\n"
     ]
    }
   ],
   "source": [
    "def square_args(*args: tuple) -> None:\n",
    "    _ = [print(argument**2) for argument in args]\n",
    "    \n",
    "square_args(4, 5, 6, 7)"
   ]
  },
  {
   "cell_type": "markdown",
   "id": "d2ca9cbd-a89d-4297-9b3a-701452faf436",
   "metadata": {
    "slideshow": {
     "slide_type": "slide"
    }
   },
   "source": [
    "# Exercise 4.3\n",
    "\n",
    "Write a function called `word_shortener()` that takes a long word and replaces it \n",
    "with a string that has the same first and last letters capitalized, \n",
    "and replaces the middle letters with the number of middle letters.\n",
    "\n",
    "For example, \"internationalization\" would be returned as \"I16N\".\n",
    "\n",
    "Make sure it only accepts strings, and of a minimum length.\n",
    "\n",
    "Include a short docstring.\n",
    "\n",
    "Hint: You can use `isinstance()` to check the variable type."
   ]
  },
  {
   "cell_type": "code",
   "execution_count": null,
   "id": "a0279d19",
   "metadata": {
    "slideshow": {
     "slide_type": "subslide"
    }
   },
   "outputs": [],
   "source": [
    "def word_shortener(long_word, min_len=5):\n",
    "    \"Converts a long word into word with internal letters replace by their count.\"\n",
    "    \n",
    "    # Validate the input\n",
    "    if not isinstance(long_word, str):\n",
    "        print(f\"{long_word} is a {type(long_word)}, not a string!\")\n",
    "        return False\n",
    "    elif len(long_word) < min_len:\n",
    "        print(f\"{long_word} is too short. Put in a word at least {min_len} letters long.\")\n",
    "        return False\n",
    "    else:\n",
    "        # Do the work ...\n",
    "        first_letter = long_word[0].upper()\n",
    "        last_letter = long_word[-1].upper()\n",
    "        middle_number = len(long_word[1:-1])\n",
    "        new_word = first_letter + str(middle_number) + last_letter\n",
    "        return new_word\n",
    "    "
   ]
  },
  {
   "cell_type": "code",
   "execution_count": null,
   "id": "acddafd0",
   "metadata": {},
   "outputs": [],
   "source": [
    "word_shortener('localization')"
   ]
  },
  {
   "cell_type": "code",
   "execution_count": null,
   "id": "6dc05377",
   "metadata": {
    "slideshow": {
     "slide_type": "fragment"
    }
   },
   "outputs": [],
   "source": [
    "get_shorty = lambda x: f\"{x[0]}{len(x[1:-1])}{x[-1]}\".upper()"
   ]
  },
  {
   "cell_type": "code",
   "execution_count": null,
   "id": "dabfa1fc",
   "metadata": {},
   "outputs": [],
   "source": [
    "get_shorty(\"operationalization\")"
   ]
  },
  {
   "cell_type": "code",
   "execution_count": 3,
   "id": "4d1c8a0a",
   "metadata": {},
   "outputs": [
    {
     "name": "stdout",
     "output_type": "stream",
     "text": [
      "L10N\n",
      "O16N\n"
     ]
    }
   ],
   "source": [
    "def word_shortener(word: str, minimum_length: int = 5) -> str:\n",
    "    '''\n",
    "    PURPOSE: Converts a work into a word with capitalized first letter, internal letters replaced by their count, and capitalized last letter\n",
    "    INPUTS:\n",
    "        word\n",
    "    OUTPUTS:\n",
    "        word with capitalized first letter, internal letters replaced by their count, and capitalized last letter\n",
    "    '''\n",
    "    if not isinstance(word, str):\n",
    "        message = f\"{word} is a {type(word)}, not a string!\"\n",
    "        print(message)\n",
    "        return message\n",
    "    elif len(word) < minimum_length:\n",
    "        message = f\"{word} has fewer than {minimum_length} characters!\"\n",
    "        print(message)\n",
    "        return message\n",
    "    else:\n",
    "        first_letter = word[0].upper()\n",
    "        last_letter = word[-1].upper()\n",
    "        count_of_internal_letters = len(word[1:-1])\n",
    "        shortened_word = first_letter + str(count_of_internal_letters) + last_letter\n",
    "        return shortened_word\n",
    "    \n",
    "print(word_shortener('localization'))\n",
    "print(word_shortener('operationalization'))"
   ]
  },
  {
   "cell_type": "markdown",
   "id": "e61844fe-f7fb-4642-ac54-64dc3ad15af4",
   "metadata": {
    "slideshow": {
     "slide_type": "slide"
    }
   },
   "source": [
    "# Exercise 4.4\n",
    "\n",
    "Define a step function with these requirements:\n",
    "- take one numeric value as input\n",
    "- subtract 5 from the value\n",
    "- return 1 if the difference is nonnegative, else return 0\n",
    "\n",
    "Call the function on different values to test it."
   ]
  },
  {
   "cell_type": "code",
   "execution_count": null,
   "id": "434c9d43-2b83-4191-a035-c647242452a7",
   "metadata": {
    "slideshow": {
     "slide_type": "subslide"
    }
   },
   "outputs": [],
   "source": [
    "def step(x):\n",
    "    diff = x - 5\n",
    "    if diff >= 0:\n",
    "        return 1\n",
    "    return 0"
   ]
  },
  {
   "cell_type": "code",
   "execution_count": null,
   "id": "a6d70390-d5f8-412c-82ba-3be2386b0d02",
   "metadata": {},
   "outputs": [],
   "source": [
    "step(6.5)"
   ]
  },
  {
   "cell_type": "code",
   "execution_count": null,
   "id": "ab6aa0ec-19f3-4d27-bbca-b52278f0a6c8",
   "metadata": {},
   "outputs": [],
   "source": [
    "step(4)"
   ]
  },
  {
   "cell_type": "code",
   "execution_count": 4,
   "id": "e16e147b",
   "metadata": {},
   "outputs": [
    {
     "name": "stdout",
     "output_type": "stream",
     "text": [
      "1\n",
      "0\n"
     ]
    }
   ],
   "source": [
    "def step(number: float) -> int:\n",
    "    difference = number - 5\n",
    "    if difference >= 0:\n",
    "        return 1\n",
    "    else:\n",
    "        return 0\n",
    "    \n",
    "print(step(5))\n",
    "print(step(4))"
   ]
  },
  {
   "cell_type": "markdown",
   "id": "426aaa97-5baa-49b0-8384-f333604fbf68",
   "metadata": {
    "slideshow": {
     "slide_type": "slide"
    }
   },
   "source": [
    "# Exercise 4.5 \n",
    "\n",
    "Define a function that creates and prints a variable.  \n",
    "\n",
    "Show that calling this variable outside the function produces an error."
   ]
  },
  {
   "cell_type": "code",
   "execution_count": null,
   "id": "67d372bf",
   "metadata": {
    "slideshow": {
     "slide_type": "subslide"
    }
   },
   "outputs": [],
   "source": [
    "def myfunct():\n",
    "    secret_x = 5\n",
    "    print(secret_x)"
   ]
  },
  {
   "cell_type": "code",
   "execution_count": null,
   "id": "aae37c3e",
   "metadata": {},
   "outputs": [],
   "source": [
    "myfunct()"
   ]
  },
  {
   "cell_type": "code",
   "execution_count": null,
   "id": "740daa9a",
   "metadata": {},
   "outputs": [],
   "source": [
    "try:\n",
    "    print(secret_x)\n",
    "except NameError as e:\n",
    "    print(e)"
   ]
  },
  {
   "cell_type": "code",
   "execution_count": 5,
   "id": "e2785a87",
   "metadata": {},
   "outputs": [
    {
     "name": "stdout",
     "output_type": "stream",
     "text": [
      "5\n",
      "name 'variable' is not defined\n"
     ]
    }
   ],
   "source": [
    "def define_and_print() -> None:\n",
    "    variable = 5\n",
    "    print(variable)\n",
    "\n",
    "define_and_print()\n",
    "try:\n",
    "    print(variable)\n",
    "    assert(False)\n",
    "except NameError as e:\n",
    "    print(e)"
   ]
  },
  {
   "cell_type": "markdown",
   "id": "4963bcf1-760f-4d74-b56a-ba0f99d4512c",
   "metadata": {
    "slideshow": {
     "slide_type": "slide"
    }
   },
   "source": [
    "# Scope"
   ]
  },
  {
   "cell_type": "markdown",
   "id": "2631cf44",
   "metadata": {
    "slideshow": {
     "slide_type": "slide"
    }
   },
   "source": [
    "# Exercise 4.6\n",
    "\n",
    "Read the following code and predict what will happen. \n",
    "\n",
    "For each block predict what the output will be. \n",
    "\n",
    "Record your results for each snippet (ie: right or wrong)"
   ]
  },
  {
   "cell_type": "markdown",
   "id": "354110ff",
   "metadata": {
    "slideshow": {
     "slide_type": "subslide"
    }
   },
   "source": [
    "```python\n",
    "def print_me():\n",
    "    print(x1)\n",
    "\n",
    "print_me()\n",
    "```"
   ]
  },
  {
   "cell_type": "code",
   "execution_count": null,
   "id": "5cbe97ee",
   "metadata": {
    "slideshow": {
     "slide_type": "fragment"
    }
   },
   "outputs": [],
   "source": [
    "def print_me():\n",
    "    print(x1)\n",
    "\n",
    "try:\n",
    "    print_me()\n",
    "    assert(False)\n",
    "except NameError as e:\n",
    "    print(e)"
   ]
  },
  {
   "cell_type": "markdown",
   "id": "d5b78a96",
   "metadata": {
    "slideshow": {
     "slide_type": "subslide"
    }
   },
   "source": [
    "```python\n",
    "def print_me2():\n",
    "    x2 = 5\n",
    "    print(x2)\n",
    "    \n",
    "print_me()\n",
    "```"
   ]
  },
  {
   "cell_type": "code",
   "execution_count": null,
   "id": "82ef6ecc-c110-4cba-8865-15899d183d3a",
   "metadata": {
    "slideshow": {
     "slide_type": "fragment"
    }
   },
   "outputs": [],
   "source": [
    "def print_me2():\n",
    "    x2 = 5\n",
    "    print(x2)\n",
    "    \n",
    "print_me2()"
   ]
  },
  {
   "cell_type": "markdown",
   "id": "46f3c2d9",
   "metadata": {
    "slideshow": {
     "slide_type": "subslide"
    }
   },
   "source": [
    "```python\n",
    "x2 = 7\n",
    "print_me2()\n",
    "```"
   ]
  },
  {
   "cell_type": "code",
   "execution_count": null,
   "id": "4e9093ee",
   "metadata": {
    "slideshow": {
     "slide_type": "fragment"
    }
   },
   "outputs": [],
   "source": [
    "x2 = 7\n",
    "print_me2()"
   ]
  },
  {
   "cell_type": "markdown",
   "id": "3050defb",
   "metadata": {
    "slideshow": {
     "slide_type": "subslide"
    }
   },
   "source": [
    "```python\n",
    "x2 = 7\n",
    "print_me2()\n",
    "print(x2)\n",
    "```"
   ]
  },
  {
   "cell_type": "code",
   "execution_count": null,
   "id": "68b836e8",
   "metadata": {
    "scrolled": true,
    "slideshow": {
     "slide_type": "fragment"
    }
   },
   "outputs": [],
   "source": [
    "x2 = 7\n",
    "print_me2()\n",
    "print(x2)"
   ]
  },
  {
   "cell_type": "markdown",
   "id": "e4ab3977",
   "metadata": {
    "slideshow": {
     "slide_type": "subslide"
    }
   },
   "source": [
    "```python\n",
    "def print_me3(x3):\n",
    "    print(x3)\n",
    "    \n",
    "x3 = 9\n",
    "print_me3()\n",
    "print_me3(x3)\n",
    "print_me3()\n",
    "print(x3)\n",
    "```"
   ]
  },
  {
   "cell_type": "code",
   "execution_count": null,
   "id": "a7d0068f",
   "metadata": {
    "slideshow": {
     "slide_type": "fragment"
    }
   },
   "outputs": [],
   "source": [
    "def print_me3(x3):\n",
    "    print(x3)\n",
    "    \n",
    "x3 = 9\n",
    "#print_me3()\n",
    "print_me3(x3)\n",
    "try:\n",
    "    print_me3()\n",
    "    assert(False)\n",
    "except TypeError as e:\n",
    "    print(e)\n",
    "#print_me3()"
   ]
  },
  {
   "cell_type": "markdown",
   "id": "362e93e7",
   "metadata": {
    "slideshow": {
     "slide_type": "subslide"
    }
   },
   "source": [
    "```python\n",
    "def print_me4(x4=5):\n",
    "    print(x4)\n",
    "    \n",
    "x4 = 9\n",
    "print_me4()\n",
    "print_me4(x4)\n",
    "print_me4()\n",
    "print(x4)\n",
    "```"
   ]
  },
  {
   "cell_type": "code",
   "execution_count": null,
   "id": "71fae076",
   "metadata": {
    "slideshow": {
     "slide_type": "fragment"
    }
   },
   "outputs": [],
   "source": [
    "def print_me4(x4=5):\n",
    "    print(x4)\n",
    "    \n",
    "x4 = 9\n",
    "print_me4()\n",
    "print_me4(x4)\n",
    "print_me4()\n",
    "print(x4)"
   ]
  },
  {
   "cell_type": "markdown",
   "id": "a4baa109-25c7-4677-b605-58bb1f87fac9",
   "metadata": {
    "slideshow": {
     "slide_type": "slide"
    }
   },
   "source": [
    "# Lambda Functions"
   ]
  },
  {
   "cell_type": "markdown",
   "id": "3079e0a8-4b76-4a70-83e9-0aa9832f0740",
   "metadata": {
    "slideshow": {
     "slide_type": "slide"
    }
   },
   "source": [
    "# Exercise 4.6\n",
    "\n",
    "Write a function that uses a lambda to check if a value is in a range: $x >= 10$ and $x <= 20$  \n",
    "   \n",
    "Call the function with different values to verify it works."
   ]
  },
  {
   "cell_type": "code",
   "execution_count": null,
   "id": "43ac9a0c-bf62-46aa-b4cb-a177ba6f0c0a",
   "metadata": {
    "jupyter": {
     "source_hidden": true
    },
    "slideshow": {
     "slide_type": "subslide"
    }
   },
   "outputs": [],
   "source": [
    "in_range = lambda x: x >= 10 and x <= 25"
   ]
  },
  {
   "cell_type": "code",
   "execution_count": null,
   "id": "b17d6cbe-ad71-4ae0-ae70-dff0a37ad00b",
   "metadata": {
    "jupyter": {
     "outputs_hidden": true,
     "source_hidden": true
    },
    "slideshow": {
     "slide_type": "-"
    }
   },
   "outputs": [],
   "source": [
    "in_range(15)"
   ]
  },
  {
   "cell_type": "code",
   "execution_count": null,
   "id": "5c15a5c6-5607-4cac-bc4a-f2c929296b69",
   "metadata": {
    "jupyter": {
     "outputs_hidden": true,
     "source_hidden": true
    },
    "slideshow": {
     "slide_type": "-"
    }
   },
   "outputs": [],
   "source": [
    "in_range(0)"
   ]
  },
  {
   "cell_type": "markdown",
   "id": "36f041be-2226-48ef-8f26-05df7f852140",
   "metadata": {
    "slideshow": {
     "slide_type": "slide"
    }
   },
   "source": [
    "# Exercise 4.7\n",
    "\n",
    "Modify the lambda function to take three inputs `x`, `a`, `b` which are the value, lower bound, and upper bound, respectively.  \n",
    "\n",
    "Call the function with different `x`, `a`, `b` to verify it works."
   ]
  },
  {
   "cell_type": "code",
   "execution_count": null,
   "id": "54d9bb56-71a5-49c5-870d-ce4f05fccc5e",
   "metadata": {
    "jupyter": {
     "source_hidden": true
    },
    "slideshow": {
     "slide_type": "subslide"
    }
   },
   "outputs": [],
   "source": [
    "in_range_general = lambda x, a, b: x >= a and x <= b"
   ]
  },
  {
   "cell_type": "code",
   "execution_count": null,
   "id": "4f840c8b-63c9-4c86-8d48-f39317a537e5",
   "metadata": {
    "jupyter": {
     "source_hidden": true
    },
    "slideshow": {
     "slide_type": "-"
    }
   },
   "outputs": [],
   "source": [
    "in_range_general(0, 1, 10)"
   ]
  },
  {
   "cell_type": "code",
   "execution_count": null,
   "id": "f7353cab-2911-4442-9486-633c18e711b0",
   "metadata": {
    "jupyter": {
     "source_hidden": true
    },
    "slideshow": {
     "slide_type": "-"
    }
   },
   "outputs": [],
   "source": [
    "in_range_general(0, -1, 100)"
   ]
  },
  {
   "cell_type": "markdown",
   "id": "83f81991-0f82-4473-8472-f51d015e4014",
   "metadata": {
    "slideshow": {
     "slide_type": "slide"
    }
   },
   "source": [
    "# Exercise 4.8\n",
    "\n",
    "Following the earlier example, write a lambda function that checks for text in a string, returning `True` if found, otherwise `False`.  \n",
    "\n",
    "Call the function with different inputs to verify it works."
   ]
  },
  {
   "cell_type": "code",
   "execution_count": null,
   "id": "c4edef1f-84e2-4bf6-8c9b-f14517787284",
   "metadata": {
    "slideshow": {
     "slide_type": "subslide"
    }
   },
   "outputs": [],
   "source": [
    "str_test = lambda s1, s2: s2 in s1 "
   ]
  },
  {
   "cell_type": "code",
   "execution_count": null,
   "id": "13a2e408",
   "metadata": {
    "slideshow": {
     "slide_type": "-"
    }
   },
   "outputs": [],
   "source": [
    "str_test(\"Opera is fun\", \"is\")"
   ]
  },
  {
   "cell_type": "code",
   "execution_count": null,
   "id": "bd9fa535",
   "metadata": {
    "slideshow": {
     "slide_type": "-"
    }
   },
   "outputs": [],
   "source": [
    "str_test(\"Opera is fun\", \"gasket\")"
   ]
  },
  {
   "cell_type": "markdown",
   "id": "31179c1f-dabc-403c-ba89-e50ba2afb8ba",
   "metadata": {
    "slideshow": {
     "slide_type": "slide"
    }
   },
   "source": [
    "# Exercise 4.9\n",
    "\n",
    "* Write three lambda functions:\n",
    "  * `c2f` that converts a Celsius (C) value to Farenheit (F).\n",
    "  * `f2c` that converts an F value to C.\n",
    "  * `t2t` that takes two arguments:\n",
    "    * an integer representing the temperature in either F or C.\n",
    "    * a character representing the temparture scale to convert *to*, either 'f' or 'c'.\n",
    "* In addition:\n",
    "  * Have `t2t` return the converted temperature as an integer by rounding the result.\n",
    "  * **AND** instead of using an `if` statement in `t2t`, have it use a dictionary that contains elements for the two converter functions, i.e. `c2f` and `f2c`.\n",
    "\n",
    "For example, if have a temperature of $45$ C and want to know what this is in F, it should work like this:\n",
    "```python\n",
    ">>> f = t2t(45, 'c')\n",
    ">>> print(f)\n",
    ">>> 113\n",
    "```\n",
    "Note that  $F = 1.8C + 32$ and $C = (F - 32)/1.8$"
   ]
  },
  {
   "cell_type": "code",
   "execution_count": null,
   "id": "bf70ce0d-ed37-483f-ae7a-20955fb0f5bd",
   "metadata": {
    "slideshow": {
     "slide_type": "subslide"
    }
   },
   "outputs": [],
   "source": [
    "c2f = lambda cval: 1.8 * cval + 32"
   ]
  },
  {
   "cell_type": "code",
   "execution_count": null,
   "id": "9e3fca9e",
   "metadata": {
    "scrolled": true
   },
   "outputs": [],
   "source": [
    "c2f(45)"
   ]
  },
  {
   "cell_type": "code",
   "execution_count": null,
   "id": "330531ad",
   "metadata": {
    "slideshow": {
     "slide_type": "fragment"
    }
   },
   "outputs": [],
   "source": [
    "f2c = lambda fval: (fval - 32) / 1.8"
   ]
  },
  {
   "cell_type": "code",
   "execution_count": null,
   "id": "cde37fb4-314b-4b09-ab07-44d44eef9931",
   "metadata": {},
   "outputs": [],
   "source": [
    "f2c(113)"
   ]
  },
  {
   "cell_type": "code",
   "execution_count": null,
   "id": "dfc577ca-e65f-46a6-81eb-75e2bc15eb99",
   "metadata": {
    "slideshow": {
     "slide_type": "fragment"
    }
   },
   "outputs": [],
   "source": [
    "targets = {\n",
    "    'f': c2f,\n",
    "    'c': f2c\n",
    "}"
   ]
  },
  {
   "cell_type": "code",
   "execution_count": null,
   "id": "4e541ab6-fe80-4e6e-843f-07db004094c0",
   "metadata": {
    "slideshow": {
     "slide_type": "fragment"
    }
   },
   "outputs": [],
   "source": [
    "t2t = lambda tval, target: round(targets[target](tval))"
   ]
  },
  {
   "cell_type": "code",
   "execution_count": null,
   "id": "d7e214ac-f388-4394-b7cb-ffbdc65dd793",
   "metadata": {},
   "outputs": [],
   "source": [
    "f = t2t(45, 'f')"
   ]
  },
  {
   "cell_type": "code",
   "execution_count": null,
   "id": "6e6a8a66-1249-48a9-948e-02ee61a3ed11",
   "metadata": {},
   "outputs": [],
   "source": [
    "print(f)"
   ]
  },
  {
   "cell_type": "markdown",
   "id": "be7e2298-6990-4069-ad15-2332bf44f89f",
   "metadata": {},
   "source": [
    "**Or, more compactly:**"
   ]
  },
  {
   "cell_type": "code",
   "execution_count": null,
   "id": "5aaa1ab3-2b65-4f6b-ab38-c5844925c7bd",
   "metadata": {
    "slideshow": {
     "slide_type": "fragment"
    }
   },
   "outputs": [],
   "source": [
    "targets = {\n",
    "    'f': lambda cval: 1.8 * cval + 32,\n",
    "    'c': lambda fval: (fval - 32) / 1.8\n",
    "}\n",
    "t2t = lambda tval, target: round(targets[target](tval))"
   ]
  },
  {
   "cell_type": "code",
   "execution_count": null,
   "id": "ad119c71-3a86-4da8-bc60-da14d299d92c",
   "metadata": {},
   "outputs": [],
   "source": [
    "t2t(45, 'f')"
   ]
  },
  {
   "cell_type": "markdown",
   "id": "7442a94f-4de4-4925-b231-0950645835a4",
   "metadata": {},
   "source": [
    "**The most compact**"
   ]
  },
  {
   "cell_type": "code",
   "execution_count": null,
   "id": "8f8de8db-5595-4c97-bdd5-dc07f51c48a7",
   "metadata": {},
   "outputs": [],
   "source": [
    "(lambda tval, target: round({'f': lambda cval: 1.8 * cval + 32, 'c': lambda fval: (fval - 32) / 1.8}[target](tval)))(45, 'f')"
   ]
  },
  {
   "cell_type": "code",
   "execution_count": 6,
   "id": "8d04cb76",
   "metadata": {},
   "outputs": [
    {
     "name": "stdout",
     "output_type": "stream",
     "text": [
      "113\n"
     ]
    }
   ],
   "source": [
    "target_scales_and_functions = {\n",
    "    'c': lambda temperature_in_degrees_F: (temperature_in_degrees_F - 32) * 5/9,\n",
    "    'f': lambda temperature_in_degrees_C: 9/5 * temperature_in_degrees_C + 32\n",
    "}\n",
    "t2t = lambda temperature, target_scale: round(target_scales_and_functions[target_scale](temperature))\n",
    "print(t2t(45, 'f'))"
   ]
  },
  {
   "cell_type": "markdown",
   "id": "fb616284-1479-4d81-a872-9561ff8a5ecd",
   "metadata": {
    "slideshow": {
     "slide_type": "slide"
    },
    "tags": []
   },
   "source": [
    "# Recursion"
   ]
  },
  {
   "cell_type": "markdown",
   "id": "19c2179c",
   "metadata": {
    "slideshow": {
     "slide_type": "slide"
    }
   },
   "source": [
    "# Exercise 4.10\n",
    "\n",
    "Use this recursive formula to generate the next 4 terms (by hand)\n",
    "\n",
    "```\n",
    "Fib(2) = Fib(1) + Fib(0) = 0 + 1 = 1\n",
    "Fib(3) = Fib(2) + Fib(1) = 1 + 1 = 2  \n",
    "Fib(4) = Fib(3) + Fib(2) = 2 + 1 = 3  \n",
    "Fib(5) = Fib(4) + Fib(3) = 3 + 2 = 5\n",
    "```"
   ]
  },
  {
   "cell_type": "markdown",
   "id": "e8106430-ed27-4453-8fc1-904019e01924",
   "metadata": {
    "slideshow": {
     "slide_type": "fragment"
    }
   },
   "source": [
    "Now, write a Python function `fibonacci()` to return the **nth** term in the sequence. \n",
    "\n",
    "Specifically, write the function with these requirements:\n",
    "- take an integer `n` as input\n",
    "- include the rules that define the sequence\n",
    "- compute the **nth** term in the sequence, using recursion (the function will call itself)\n",
    "- return the computed term\n",
    "\n",
    "Call `fibonacci(n)` for $n = 0, 1, 2, 3, 4, 5$ and verify it works properly."
   ]
  },
  {
   "cell_type": "markdown",
   "id": "75f4f439-ed1f-4f7f-9731-3687465f01fb",
   "metadata": {
    "slideshow": {
     "slide_type": "fragment"
    }
   },
   "source": [
    "Now, if you needed to generate the next 100 numbers in the sequence, it would be a chore!  \n",
    "This is perfect work for a computer.\n",
    "\n",
    "Now, write a Python function `fibonacci()` to return the **nth** term in the sequence. \n",
    "\n",
    "Specifically, write the function with these requirements:\n",
    "- take an integer `n` as input\n",
    "- include the rules that define the sequence\n",
    "- compute the **nth** term in the sequence, using recursion (the function will call itself)\n",
    "- return the computed term\n",
    "\n",
    "Call `fibonacci(n)` for $n = 0, 1, 2, 3, 4, 5$ and verify it works properly."
   ]
  },
  {
   "cell_type": "code",
   "execution_count": null,
   "id": "dc3b13aa-3845-43fc-bee4-e95a48474f53",
   "metadata": {
    "slideshow": {
     "slide_type": "subslide"
    },
    "tags": []
   },
   "outputs": [],
   "source": [
    "def fibonacci(n):\n",
    "    if n == 0:\n",
    "        return 0\n",
    "    elif n == 1:\n",
    "        return 1\n",
    "    else:\n",
    "        return fibonacci(n-1) + fibonacci(n-2)"
   ]
  },
  {
   "cell_type": "code",
   "execution_count": null,
   "id": "1a53d3e6-7e1e-45f7-960d-fc20c9dea1d7",
   "metadata": {
    "jupyter": {
     "outputs_hidden": true
    },
    "slideshow": {
     "slide_type": "-"
    },
    "tags": []
   },
   "outputs": [],
   "source": [
    "print(fibonacci(0))\n",
    "print(fibonacci(1))\n",
    "print(fibonacci(2))\n",
    "print(fibonacci(3))\n",
    "print(fibonacci(4))\n",
    "print(fibonacci(5))"
   ]
  },
  {
   "cell_type": "code",
   "execution_count": null,
   "id": "9531f777",
   "metadata": {},
   "outputs": [],
   "source": [
    "for n in range(6): print(fibonacci(n))"
   ]
  },
  {
   "cell_type": "markdown",
   "id": "c9af467d-6ab6-49a4-b079-d79e814b296c",
   "metadata": {
    "slideshow": {
     "slide_type": "subslide"
    }
   },
   "source": [
    "Think about how this works ... it's very cool!  \n",
    "\n",
    "If you call `fibonacci(2)`, \n",
    "- flow goes to the else statement,\n",
    "- which calls fibonacci(1) and fibonacci(0),\n",
    "- so those need to get computed,  \n",
    "  - fibonacci(1) goes to the `elif`, returning 1\n",
    "  - fibonacci(0) goes to the `if`, returning 0   \n",
    "  - back in the else statement, fibonacci(1) and fibonacci(0) => 1 + 0 = 1\n",
    "  \n",
    " If you call `fibonacci(3)`, a similar pattern occurs, with even more computes taking place.  \n",
    " \n",
    " How many times will `fibonacci` get called?"
   ]
  },
  {
   "cell_type": "markdown",
   "id": "585c13d9-9dea-469c-bb1b-356e93884b58",
   "metadata": {
    "slideshow": {
     "slide_type": "subslide"
    }
   },
   "source": [
    "Now call `fibonacci(5.1)` and `fibonacci(-1)`.  What happens?"
   ]
  },
  {
   "cell_type": "code",
   "execution_count": null,
   "id": "a9941eab-c80e-4ffa-bb66-39c43e688a0a",
   "metadata": {
    "slideshow": {
     "slide_type": "fragment"
    },
    "tags": []
   },
   "outputs": [],
   "source": [
    "fibonacci(5.1)"
   ]
  },
  {
   "cell_type": "code",
   "execution_count": null,
   "id": "d9754f35-a9fd-4d41-b2bb-c32bb17be4c3",
   "metadata": {
    "jupyter": {
     "outputs_hidden": true
    },
    "slideshow": {
     "slide_type": "subslide"
    }
   },
   "outputs": [],
   "source": [
    "fibonacci(-1)"
   ]
  },
  {
   "cell_type": "markdown",
   "id": "f8cda097-c23e-4edb-96bd-9169d8101e74",
   "metadata": {
    "slideshow": {
     "slide_type": "subslide"
    }
   },
   "source": [
    "If it worked properly, excellent!  \n",
    "\n",
    "If not, you might want to rewrite your function below to handle such edge cases.  \n",
    "\n",
    "Specifically, have the function return the value -1 for invalid *n*.\n",
    "\n",
    "Reminder: the sequence is defined for whole numbers (0, 1, 2, ...)  \n",
    "\n",
    "Call the function again, and verify the cases work properly."
   ]
  },
  {
   "cell_type": "code",
   "execution_count": null,
   "id": "25609a4b-faf8-4e76-9ed1-3df35ed6e309",
   "metadata": {
    "slideshow": {
     "slide_type": "subslide"
    },
    "tags": []
   },
   "outputs": [],
   "source": [
    "def fibonacci_robust(n):\n",
    "    \n",
    "    if (not isinstance(n, int)) or (n < 0):\n",
    "        return -1\n",
    "    \n",
    "    if n == 0:\n",
    "        return 0\n",
    "    elif n == 1:\n",
    "        return 1\n",
    "    else:\n",
    "        return fibonacci_robust(n-1) + fibonacci_robust(n-2)"
   ]
  },
  {
   "cell_type": "code",
   "execution_count": null,
   "id": "e1859021-e447-44f4-ada0-17e478bbdeaf",
   "metadata": {
    "tags": []
   },
   "outputs": [],
   "source": [
    "# edge cases\n",
    "print(fibonacci_robust(5.1))\n",
    "print(fibonacci_robust(-1))\n",
    "\n",
    "# valid cases\n",
    "print(fibonacci_robust(0))\n",
    "print(fibonacci_robust(1))\n",
    "print(fibonacci_robust(2))\n",
    "print(fibonacci_robust(3))\n",
    "print(fibonacci_robust(4))\n",
    "print(fibonacci_robust(5))"
   ]
  },
  {
   "cell_type": "markdown",
   "id": "6c86fd83-8144-4549-a805-2f2b5e5a9f14",
   "metadata": {
    "slideshow": {
     "slide_type": "slide"
    }
   },
   "source": [
    "# Extra"
   ]
  },
  {
   "cell_type": "markdown",
   "id": "24de47a5-96bf-4cba-9694-db7ebdc3b208",
   "metadata": {
    "slideshow": {
     "slide_type": "slide"
    },
    "tags": []
   },
   "source": [
    "# Exercise 4.11\n",
    "\n",
    "Demonstration of variable interpolation\n",
    "\n",
    "Write a Python program that allows users to play the MadLibs® game, using the example story sheet provided. \n",
    "\n",
    "Capture the values for each blank by using the `input()` function.\n",
    "\n",
    "About MadLibs®: In this game, a player is prompted to supply a series of parts of speech (noun, adjective, past tense noun, etc.)\n",
    "while a second player adds these to a story sheet that \n",
    "contains blanks for each response. The story is not visible to the player supplying the words.\n",
    "Once all the blanks are filled, the second player reads the story aloud, which is often \n",
    "funny because of the random way the words are assigned to the story.\n",
    "\n",
    "This is an example of  MadLib story sheet: \n",
    "```\n",
    "Today I went to the zoo. I saw a(n) ___________(adjective)\n",
    "_____________(Noun) jumping up and down in its tree.\n",
    "He _____________(verb, past tense) __________(adverb)\n",
    "through the large tunnel that led to its _______(adjective)\n",
    "__________(noun). I got some peanuts and passed\n",
    "them through the cage to a gigantic gray _______(noun)\n",
    "towering above my head. Feeding that animal made\n",
    "me hungry. I went to get a __________(adjective) scoop\n",
    "of ice cream. It filled my stomach. Afterwards I had to\n",
    "__________(verb) __________ (adverb) to catch our bus.\n",
    "When I got home I __________(verb, past tense) my\n",
    "mom for a __________(adjective) day at the zoo.\n",
    "```"
   ]
  },
  {
   "cell_type": "code",
   "execution_count": null,
   "id": "c7fbd3d7-a424-4c48-98ff-5b8791630f5a",
   "metadata": {
    "slideshow": {
     "slide_type": "subslide"
    }
   },
   "outputs": [],
   "source": [
    "def madlibs1():\n",
    "    \n",
    "    words = dict(adjective1 = '', \n",
    "                 noun1 = '', \n",
    "                 verb_past_tense1 = '', \n",
    "                 adverb1 = '',\n",
    "                 adjective2 = '', \n",
    "                 noun2 = '', \n",
    "                 noun3 = '', \n",
    "                 adjective3 = '', \n",
    "                 verb1 = '', \n",
    "                 adverb2 = '', \n",
    "                 verb_past_tense2 = '', \n",
    "                 adjective4 = '')\n",
    "    \n",
    "    for pos in words:\n",
    "        prompt = pos.replace('_', ' ')[:-1] # Assumes single digit suffix\n",
    "        words[pos] = input(f\"Enter a(n) {prompt}: \")\n",
    "    \n",
    "    text = f\"Today I went to the zoo.\\nI saw a(n) {words['adjective1']} \\\n",
    "{words['noun1']} jumping up and down in its tree.\\n\\\n",
    "He {words['verb_past_tense1']} {words['adverb1']} through the large tunnel \\\n",
    "that led to its {words['adjective2']} {words['noun2']}.\\nI got some peanuts and passed \\\n",
    "them through the cage to a gigantic gray {words['noun3']} \\\n",
    "towering above my head.\\nFeeding that animal made \\\n",
    "me hungry.\\nI went to get a {words['adjective3']} scoop \\\n",
    "of ice cream.\\nIt filled my stomach.\\nAfterwards I had to \\\n",
    "{words['verb1']} {words['adverb2']} to catch our bus.\\n\\\n",
    "When I got home I {words['verb_past_tense2']} my \\\n",
    "mom for a {words['adjective4']} day at the zoo.\"\n",
    "    \n",
    "    print(text)\n",
    "\n",
    "madlibs1()"
   ]
  },
  {
   "cell_type": "markdown",
   "id": "be744988-cf01-46e8-aa3e-9fdb6838fef1",
   "metadata": {
    "slideshow": {
     "slide_type": "skip"
    },
    "tags": []
   },
   "source": [
    "**Solution 2**"
   ]
  },
  {
   "cell_type": "code",
   "execution_count": null,
   "id": "240ceabb-e30b-4e1e-9857-459817a7c92d",
   "metadata": {
    "slideshow": {
     "slide_type": "skip"
    }
   },
   "outputs": [],
   "source": [
    "# Demonstration of variable interpolation\n",
    "\n",
    "\n",
    "\n",
    "\n",
    "def madlibs2():\n",
    "    \n",
    "    words = dict(adjective1 = '', \n",
    "                 noun1 = '',   \n",
    "                 verb_past_tense1 = '', \n",
    "                 adverb1 = '',\n",
    "                 adjective2 = '', \n",
    "                 noun2 = '', \n",
    "                 noun3 = '', \n",
    "                 adjective3 = '', \n",
    "                 verb1 = '', \n",
    "                 adverb2 = '', \n",
    "                 verb_past_tense2 = '', \n",
    "                 adjective4 = '')\n",
    "\n",
    "    for pos in words:\n",
    "        prompt = pos.replace('_', ' ')[:-1] # Assumes single digit suffix\n",
    "        words[pos] = input(f\"Enter a(n) {prompt}: \")\n",
    "    \n",
    "    text = \"Today I went to the zoo.\\nI saw a(n) {adjective1} \\\n",
    "{noun1} jumping up and down in its tree.\\n\\\n",
    "He {verb_past_tense1} {adverb1} through the large tunnel \\\n",
    "that led to its {adjective2} {noun2}.\\nI got some peanuts and passed \\\n",
    "them through the cage to a gigantic gray {noun3} \\\n",
    "towering above my head.\\nFeeding that animal made \\\n",
    "me hungry.\\nI went to get a {adjective3} scoop \\\n",
    "of ice cream.\\nIt filled my stomach.\\nAfterwards I had to \\\n",
    "{verb1} {adverb2} to catch our bus.\\n\\\n",
    "When I got home I {verb_past_tense2} my \\\n",
    "mom for a {adjective4} day at the zoo.\".format(**words)\n",
    "    \n",
    "    print(text)\n",
    "    "
   ]
  }
 ],
 "metadata": {
  "celltoolbar": "Slideshow",
  "kernelspec": {
   "display_name": "Python 3 (ipykernel)",
   "language": "python",
   "name": "python3"
  },
  "language_info": {
   "codemirror_mode": {
    "name": "ipython",
    "version": 3
   },
   "file_extension": ".py",
   "mimetype": "text/x-python",
   "name": "python",
   "nbconvert_exporter": "python",
   "pygments_lexer": "ipython3",
   "version": "3.9.12"
  },
  "latex_envs": {
   "LaTeX_envs_menu_present": true,
   "autoclose": false,
   "autocomplete": true,
   "bibliofile": "biblio.bib",
   "cite_by": "apalike",
   "current_citInitial": 1,
   "eqLabelWithNumbers": true,
   "eqNumInitial": 1,
   "hotkeys": {
    "equation": "Ctrl-E",
    "itemize": "Ctrl-I"
   },
   "labels_anchors": false,
   "latex_user_defs": false,
   "report_style_numbering": false,
   "user_envs_cfg": false
  },
  "toc": {
   "base_numbering": 1,
   "nav_menu": {},
   "number_sections": false,
   "sideBar": true,
   "skip_h1_title": false,
   "title_cell": "Table of Contents",
   "title_sidebar": "Contents",
   "toc_cell": false,
   "toc_position": {},
   "toc_section_display": true,
   "toc_window_display": false
  },
  "varInspector": {
   "cols": {
    "lenName": 16,
    "lenType": 16,
    "lenVar": 40
   },
   "kernels_config": {
    "python": {
     "delete_cmd_postfix": "",
     "delete_cmd_prefix": "del ",
     "library": "var_list.py",
     "varRefreshCmd": "print(var_dic_list())"
    },
    "r": {
     "delete_cmd_postfix": ") ",
     "delete_cmd_prefix": "rm(",
     "library": "var_list.r",
     "varRefreshCmd": "cat(var_dic_list()) "
    }
   },
   "types_to_exclude": [
    "module",
    "function",
    "builtin_function_or_method",
    "instance",
    "_Feature"
   ],
   "window_display": false
  },
  "vscode": {
   "interpreter": {
    "hash": "c3b963de08c47c3b6758389c5e0978ad73698a111eb508d4e16b558edb8f4cbf"
   }
  },
  "widgets": {
   "application/vnd.jupyter.widget-state+json": {
    "state": {},
    "version_major": 2,
    "version_minor": 0
   }
  }
 },
 "nbformat": 4,
 "nbformat_minor": 5
}
