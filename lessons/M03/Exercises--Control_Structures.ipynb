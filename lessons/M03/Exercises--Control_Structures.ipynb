{
 "cells": [
  {
   "cell_type": "markdown",
   "id": "194431ca",
   "metadata": {},
   "source": [
    "# M03 Exercises\n",
    "\n",
    "DS 5100 | Fall 2022"
   ]
  },
  {
   "cell_type": "markdown",
   "id": "d2f56969",
   "metadata": {},
   "source": [
    "## Example 3.1\n",
    "\n",
    "What prints in the example below if `val = 5`? How would you fix the problem?"
   ]
  },
  {
   "cell_type": "code",
   "execution_count": 14,
   "id": "c80bd3b8",
   "metadata": {},
   "outputs": [
    {
     "name": "stdout",
     "output_type": "stream",
     "text": [
      "bucket 3\n"
     ]
    }
   ],
   "source": [
    "val = -2\n",
    "if (-10 < val < -5):\n",
    "    print('bucket 1')\n",
    "elif (-5 <= val < -2):\n",
    "    print('bucket 2')\n",
    "elif val == -2:\n",
    "    print('bucket 3')"
   ]
  },
  {
   "cell_type": "markdown",
   "id": "308639a6",
   "metadata": {},
   "source": [
    "If `val = 5`, the `if` block evaluates each condition as false, and nothing is printed. To fix the problem, revise the code block to be the following."
   ]
  },
  {
   "cell_type": "code",
   "execution_count": 16,
   "id": "67ea90c2",
   "metadata": {},
   "outputs": [
    {
     "name": "stdout",
     "output_type": "stream",
     "text": [
      "bucket 4\n"
     ]
    }
   ],
   "source": [
    "val = 5\n",
    "if (-10 < val < -5):\n",
    "    print('bucket 1')\n",
    "elif (-5 <= val < -2):\n",
    "    print('bucket 2')\n",
    "elif val == -2:\n",
    "    print('bucket 3')\n",
    "else:\n",
    "    print('bucket 4')"
   ]
  },
  {
   "cell_type": "markdown",
   "id": "361a9bc1",
   "metadata": {},
   "source": [
    "## Example 3.2\n",
    "\n",
    "Write code that does the following:\n",
    "* Define a list of integers `xx = [-2, 8, 0, 5, 6]`.\n",
    "* Compute the maximum, storing in `max_val`.\n",
    "* For each value in the list, do the following.\n",
    "    * If the value is less than the maximum, print the value.\n",
    "    * Otherwise, print the string `max_val`."
   ]
  },
  {
   "cell_type": "code",
   "execution_count": 22,
   "id": "e9e7a6dc",
   "metadata": {},
   "outputs": [
    {
     "name": "stdout",
     "output_type": "stream",
     "text": [
      "-2\n",
      "max_val\n",
      "0\n",
      "5\n",
      "6\n",
      "\n",
      "-2\n",
      "max_val\n",
      "0\n",
      "5\n",
      "6\n",
      "\n",
      "-2\n",
      "0\n",
      "5\n",
      "6\n"
     ]
    }
   ],
   "source": [
    "xx = [-2, 8, 0, 5, 6]\n",
    "max_val = max(xx)\n",
    "for value in xx:\n",
    "    if value < max_val:\n",
    "        print(value)\n",
    "    else:\n",
    "        print('max_val')\n",
    "print()\n",
    "\n",
    "for value in xx:\n",
    "    print(value) if value < max_val else print('max_val')\n",
    "print()\n",
    "\n",
    "_ = [print(value) for value in xx if value < max_val]"
   ]
  },
  {
   "cell_type": "markdown",
   "id": "b569f32e",
   "metadata": {},
   "source": [
    "## Example 3.3\n",
    "\n",
    "Write code that does the following:\n",
    "* Set a variable `it` to 0.\n",
    "* Set a variable `max_iter` to 100.\n",
    "* While `it < max_iter`, do the following.\n",
    "    * If `it = 0` or `it` is divisible by 10, print `it`.\n",
    "    * Increase `it` by 1.\n",
    "\n",
    "When `it >= max_iter`, the program should quit."
   ]
  },
  {
   "cell_type": "code",
   "execution_count": 27,
   "id": "8b5e969a",
   "metadata": {},
   "outputs": [
    {
     "name": "stdout",
     "output_type": "stream",
     "text": [
      "0\n",
      "10\n",
      "20\n",
      "30\n",
      "40\n",
      "50\n",
      "60\n",
      "70\n",
      "80\n",
      "90\n",
      "\n",
      "0\n",
      "10\n",
      "20\n",
      "30\n",
      "40\n",
      "50\n",
      "60\n",
      "70\n",
      "80\n",
      "90\n"
     ]
    }
   ],
   "source": [
    "it = 0\n",
    "max_iter = 100\n",
    "while it < max_iter:\n",
    "    if it % 10 == 0:\n",
    "        print(it)\n",
    "    it += 1\n",
    "print()\n",
    "\n",
    "_ = [print(it) for it in range(0, 100) if it % 10 == 0]"
   ]
  },
  {
   "cell_type": "markdown",
   "id": "3c1f1805",
   "metadata": {},
   "source": [
    "## Example 3.4\n",
    "\n",
    "Create a list of strings where each string contains a mix of uppercase and lowercase letters (e.g., a list of four proper names).\n",
    "For each string, do the following.\n",
    "* Lowercase the string.\n",
    "* Print the string."
   ]
  },
  {
   "cell_type": "code",
   "execution_count": 28,
   "id": "ec97ff62",
   "metadata": {},
   "outputs": [
    {
     "name": "stdout",
     "output_type": "stream",
     "text": [
      "john\n",
      "paul\n",
      "george\n",
      "ringo\n"
     ]
    }
   ],
   "source": [
    "names = ['John', 'Paul', 'George', 'Ringo']\n",
    "for name in names:\n",
    "    print(name.lower())"
   ]
  },
  {
   "cell_type": "code",
   "execution_count": 29,
   "id": "105d159e",
   "metadata": {},
   "outputs": [
    {
     "name": "stdout",
     "output_type": "stream",
     "text": [
      "john\n",
      "paul\n",
      "george\n",
      "ringo\n"
     ]
    }
   ],
   "source": [
    "_ = [print(name.lower()) for name in names]"
   ]
  },
  {
   "cell_type": "markdown",
   "id": "668a84cd",
   "metadata": {},
   "source": [
    "## Example 3.5\n",
    "\n",
    "Using the list you made in Example 3.4, use `iter()` and `next()` to iterate over the list, printing each string."
   ]
  },
  {
   "cell_type": "code",
   "execution_count": 30,
   "id": "e21e8921",
   "metadata": {},
   "outputs": [
    {
     "name": "stdout",
     "output_type": "stream",
     "text": [
      "John\n",
      "Paul\n",
      "George\n",
      "Ringo\n",
      "\n",
      "John\n",
      "Paul\n",
      "George\n",
      "Ringo\n"
     ]
    }
   ],
   "source": [
    "beatles = iter(names)\n",
    "print(next(beatles))\n",
    "print(next(beatles))\n",
    "print(next(beatles))\n",
    "print(next(beatles))\n",
    "print()\n",
    "\n",
    "beatles = iter(names)\n",
    "_ = [print(name) for name in names]"
   ]
  },
  {
   "cell_type": "markdown",
   "id": "7ba77667",
   "metadata": {},
   "source": [
    "## Example 3.6\n",
    "\n",
    "Create a dictionary. Using `items()`, print each key-value pair."
   ]
  },
  {
   "cell_type": "code",
   "execution_count": 32,
   "id": "883b858a",
   "metadata": {},
   "outputs": [
    {
     "name": "stdout",
     "output_type": "stream",
     "text": [
      "Santa Barbara 93103\n",
      "Charlottesville 22903\n",
      "\n",
      "Santa Barbara 93103\n",
      "Charlottesville 22903\n"
     ]
    }
   ],
   "source": [
    "cities_and_zip_codes = {'Santa Barbara': 93103, 'Charlottesville': 22903}\n",
    "for (city, zip_code) in cities_and_zip_codes.items():\n",
    "    print(city, zip_code)\n",
    "print()\n",
    "\n",
    "_ = [print(city, zip_code) for city, zip_code in cities_and_zip_codes.items()]"
   ]
  },
  {
   "cell_type": "markdown",
   "id": "2928b5e3",
   "metadata": {},
   "source": [
    "## Example 3.7\n",
    "\n",
    "Using the dictionary from Example 3.7 and `keys()`, print each key-value pair."
   ]
  },
  {
   "cell_type": "code",
   "execution_count": 34,
   "id": "afa93019",
   "metadata": {},
   "outputs": [
    {
     "name": "stdout",
     "output_type": "stream",
     "text": [
      "Santa Barbara 93103\n",
      "Charlottesville 22903\n",
      "\n",
      "Santa Barbara 22903\n",
      "Charlottesville 22903\n"
     ]
    }
   ],
   "source": [
    "for city in cities_and_zip_codes.keys():\n",
    "    print(city, cities_and_zip_codes[city])\n",
    "print()\n",
    "\n",
    "_ = [print(city, zip_code) for city in cities_and_zip_codes]"
   ]
  },
  {
   "cell_type": "markdown",
   "id": "ade5f65b",
   "metadata": {},
   "source": [
    "## Example 3.8\n",
    "\n",
    "Write a list comprehension that takes a list of numeric values and returns a list of their cubes."
   ]
  },
  {
   "cell_type": "code",
   "execution_count": 35,
   "id": "16f8c801",
   "metadata": {},
   "outputs": [
    {
     "data": {
      "text/plain": [
       "[1, 8, 27, 64]"
      ]
     },
     "execution_count": 35,
     "metadata": {},
     "output_type": "execute_result"
    }
   ],
   "source": [
    "values = [1, 2, 3, 4]\n",
    "cubes = [value ** 3 for value in values]\n",
    "cubes"
   ]
  },
  {
   "cell_type": "markdown",
   "id": "bf9c50df",
   "metadata": {},
   "source": [
    "## Example 3.9\n",
    "\n",
    "Create a list of 7 strings that includes some numbers and some non-numbers. The numbers should be quoted (e.g., '12').\n",
    "Write a list comprehension that takes the list and returns a list of number strings."
   ]
  },
  {
   "cell_type": "code",
   "execution_count": 36,
   "id": "3bf2e806",
   "metadata": {},
   "outputs": [
    {
     "data": {
      "text/plain": [
       "['99', '16']"
      ]
     },
     "execution_count": 36,
     "metadata": {},
     "output_type": "execute_result"
    }
   ],
   "source": [
    "list_of_strings = ['99', 'red balloons', 'floating', 'in the', 'summer sky.', '16', 'candles']\n",
    "list_of_number_strings = [string for string in list_of_strings if string.isdigit()]\n",
    "list_of_number_strings"
   ]
  },
  {
   "cell_type": "code",
   "execution_count": null,
   "id": "f1cf0ba1",
   "metadata": {},
   "outputs": [],
   "source": []
  }
 ],
 "metadata": {
  "kernelspec": {
   "display_name": "Python 3 (ipykernel)",
   "language": "python",
   "name": "python3"
  },
  "language_info": {
   "codemirror_mode": {
    "name": "ipython",
    "version": 3
   },
   "file_extension": ".py",
   "mimetype": "text/x-python",
   "name": "python",
   "nbconvert_exporter": "python",
   "pygments_lexer": "ipython3",
   "version": "3.9.12"
  }
 },
 "nbformat": 4,
 "nbformat_minor": 5
}
